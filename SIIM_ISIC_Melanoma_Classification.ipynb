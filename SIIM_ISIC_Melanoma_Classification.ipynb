{
  "nbformat": 4,
  "nbformat_minor": 0,
  "metadata": {
    "colab": {
      "name": "SIIM-ISIC Melanoma Classification.ipynb",
      "provenance": [],
      "collapsed_sections": [
        "L-_fb9AEa6Wq",
        "wFoIORVvcWn5",
        "EyNe7NvOnvWe",
        "kFL68tLin0Ky",
        "coB5w10-7oBw",
        "_aeIKSF7mJFT",
        "6MPMH0blnHpK",
        "Z-vHUPPBuLHf"
      ],
      "toc_visible": true,
      "machine_shape": "hm",
      "authorship_tag": "ABX9TyPIfCVELJjC1QBGgeMveeD9",
      "include_colab_link": true
    },
    "kernelspec": {
      "name": "python3",
      "display_name": "Python 3"
    },
    "accelerator": "GPU"
  },
  "cells": [
    {
      "cell_type": "markdown",
      "metadata": {
        "id": "view-in-github",
        "colab_type": "text"
      },
      "source": [
        "<a href=\"https://colab.research.google.com/github/utsavnandi/Kaggle-SIIM-ISIC-Melanoma-Classification/blob/master/SIIM_ISIC_Melanoma_Classification.ipynb\" target=\"_parent\"><img src=\"https://colab.research.google.com/assets/colab-badge.svg\" alt=\"Open In Colab\"/></a>"
      ]
    },
    {
      "cell_type": "markdown",
      "metadata": {
        "id": "L-_fb9AEa6Wq",
        "colab_type": "text"
      },
      "source": [
        "## One-time\n"
      ]
    },
    {
      "cell_type": "code",
      "metadata": {
        "id": "ymGpJBznaEZs",
        "colab_type": "code",
        "outputId": "5b7bc02c-2dac-40f0-f281-0c494b645a85",
        "colab": {
          "base_uri": "https://localhost:8080/"
        }
      },
      "source": [
        "%%writefile setup.sh\n",
        "pip uninstall kaggle -y\n",
        "pip install kaggle==1.5.6 -q\n",
        "pip install -U git+https://github.com/albu/albumentations -q\n",
        "pip install -U git+https://github.com/rwightman/pytorch-image-models -q\n",
        "pip install neptune-client -q\n",
        "mkdir ~/.kaggle/\n",
        "cp ./kaggle.json  ~/.kaggle/kaggle.json\n",
        "chmod 600 ~/.kaggle/kaggle.json\n",
        "kaggle datasets download tunguz/siimisic-melanoma-resized-images -f x_train_224.npy\n",
        "kaggle datasets download tunguz/siimisic-melanoma-resized-images -f x_test_224.npy\n",
        "unzip ./680899%2F1200702%2Fcompressed%2Fx_train_224.npy.zip -d ./data/\n",
        "unzip ./680899%2F1200702%2Fcompressed%2Fx_test_224.npy.zip -d ./data/\n",
        "rm ./680899%2F1200702%2Fcompressed%2Fx_train_224.npy.zip\n",
        "rm ./680899%2F1200702%2Fcompressed%2Fx_test_224.npy.zip\n",
        "kaggle competitions download siim-isic-melanoma-classification -f sample_submission.csv\n",
        "kaggle competitions download siim-isic-melanoma-classification -f test.csv\n",
        "kaggle competitions download siim-isic-melanoma-classification -f train.csv\n",
        "unzip train.csv -d ./data/\n",
        "mv ./test.csv ./data/\n",
        "mv ./sample_submission.csv ./data/\n",
        "rm train.csv.zip\n",
        "mkdir ./logs/"
      ],
      "execution_count": 0,
      "outputs": [
        {
          "output_type": "stream",
          "text": [
            "Writing setup.sh\n"
          ],
          "name": "stdout"
        }
      ]
    },
    {
      "cell_type": "code",
      "metadata": {
        "id": "CgzSSw_ya-7M",
        "colab_type": "code",
        "colab": {}
      },
      "source": [
        "%%time\n",
        "!sh setup.sh"
      ],
      "execution_count": 0,
      "outputs": []
    },
    {
      "cell_type": "markdown",
      "metadata": {
        "id": "wFoIORVvcWn5",
        "colab_type": "text"
      },
      "source": [
        "## Setup"
      ]
    },
    {
      "cell_type": "code",
      "metadata": {
        "id": "cB029jhCcJFF",
        "colab_type": "code",
        "outputId": "361a4a80-dc20-415e-d37a-313decf02171",
        "colab": {
          "base_uri": "https://localhost:8080/"
        }
      },
      "source": [
        "import os\n",
        "import gc\n",
        "import time\n",
        "import datetime\n",
        "import random\n",
        "from getpass import getpass\n",
        "import numpy as np\n",
        "import pandas as pd\n",
        "import matplotlib.pyplot as plt\n",
        "import seaborn as sns\n",
        "from tqdm import tqdm\n",
        "from google.colab import auth\n",
        "from google.cloud import storage\n",
        "\n",
        "from sklearn.model_selection import train_test_split#, StratifiedKFold\n",
        "from sklearn.metrics import roc_auc_score, roc_curve\n",
        "\n",
        "import torch\n",
        "import torch.nn as nn\n",
        "import torch.nn.functional as F\n",
        "import torchvision\n",
        "from torch.utils.data import Dataset, DataLoader, WeightedRandomSampler\n",
        "#from torch.utils.tensorboard import SummaryWriter\n",
        "\n",
        "import timm\n",
        "#from sampler import BalancedBatchSampler\n",
        "\n",
        "import albumentations as A\n",
        "from albumentations.pytorch.transforms import ToTensorV2\n",
        "#from aug_mix import RandomAugMix\n",
        "\n",
        "import neptune\n",
        "\n",
        "def seed_everything(seed):\n",
        "    random.seed(seed)\n",
        "    np.random.seed(seed)\n",
        "    torch.manual_seed(seed)\n",
        "    torch.cuda.manual_seed(seed)\n",
        "    torch.backends.cudnn.deterministic = True\n",
        "    torch.backends.cudnn.benchmark = True\n",
        "\n",
        "seed_everything(43)"
      ],
      "execution_count": 0,
      "outputs": [
        {
          "output_type": "stream",
          "text": [
            "/usr/local/lib/python3.6/dist-packages/statsmodels/tools/_testing.py:19: FutureWarning: pandas.util.testing is deprecated. Use the functions in the public API at pandas.testing instead.\n",
            "  import pandas.util.testing as tm\n"
          ],
          "name": "stderr"
        }
      ]
    },
    {
      "cell_type": "code",
      "metadata": {
        "id": "-UON0HEIZ-K2",
        "colab_type": "code",
        "outputId": "031f8f81-323d-444b-9483-8980cc87d5eb",
        "colab": {
          "base_uri": "https://localhost:8080/"
        }
      },
      "source": [
        "PROJECT_ID = getpass(prompt='Enter gcp project id: ')\n",
        "bucket_name = getpass(prompt='Enter gcp bucket name: ')\n",
        "\n",
        "if PROJECT_ID != '' and bucket_name !='':\n",
        "    auth.authenticate_user()\n",
        "\n",
        "!gcloud config set project {PROJECT_ID}\n",
        "\n",
        "if PROJECT_ID != '' and bucket_name !='':\n",
        "    storage_client = storage.Client(project=PROJECT_ID)\n",
        "\n",
        "def upload_blob(source_file_name, destination_blob_name, bucket_name=bucket_name, PROJECT_ID=PROJECT_ID):\n",
        "    \"\"\"Uploads a file to the bucket.\"\"\"\n",
        "    storage_client = storage.Client(project=PROJECT_ID)\n",
        "    bucket = storage_client.bucket(bucket_name)\n",
        "    blob = bucket.blob(destination_blob_name)\n",
        "    blob.upload_from_filename(source_file_name)\n",
        "    print(\"File {} uploaded to {}.\".format(source_file_name, destination_blob_name))"
      ],
      "execution_count": 0,
      "outputs": [
        {
          "output_type": "stream",
          "text": [
            "Enter gcp project id: ··········\n",
            "Enter gcp bucket name: ··········\n",
            "Enter neptune api token: ··········\n",
            "Updated property [core/project].\n"
          ],
          "name": "stdout"
        }
      ]
    },
    {
      "cell_type": "code",
      "metadata": {
        "id": "284zZDwUjZqU",
        "colab_type": "code",
        "colab": {}
      },
      "source": [
        "NEPTUNE_API_TOKEN = getpass(prompt='Enter neptune api token: ')\n",
        "\n",
        "if NEPTUNE_API_TOKEN != '':\n",
        "    os.environ['NEPTUNE_API_TOKEN'] = NEPTUNE_API_TOKEN\n",
        "    log = True"
      ],
      "execution_count": 0,
      "outputs": []
    },
    {
      "cell_type": "code",
      "metadata": {
        "id": "E-XASBvOcVwo",
        "colab_type": "code",
        "colab": {}
      },
      "source": [
        "DATA_DIR = '/content/data/'"
      ],
      "execution_count": 0,
      "outputs": []
    },
    {
      "cell_type": "code",
      "metadata": {
        "id": "WtfWLaaYcn3z",
        "colab_type": "code",
        "colab": {}
      },
      "source": [
        "df_train = pd.read_csv(DATA_DIR+'train.csv')\n",
        "df_test = pd.read_csv(DATA_DIR+'test.csv')\n",
        "sample_submission = pd.read_csv(DATA_DIR+'sample_submission.csv')\n",
        "train_images = np.load(DATA_DIR+'x_train_224.npy') #x_train_128\n",
        "train_labels = df_train['target']\n",
        "test_images = np.load(DATA_DIR+'x_test_224.npy') #x_test_128"
      ],
      "execution_count": 0,
      "outputs": []
    },
    {
      "cell_type": "code",
      "metadata": {
        "id": "yovLpNhMcvnW",
        "colab_type": "code",
        "outputId": "201e5416-550b-47c8-ae5a-43882b8e2384",
        "colab": {
          "base_uri": "https://localhost:8080/"
        }
      },
      "source": [
        "X_train, X_val, y_train, y_val = train_test_split(\n",
        "    train_images, train_labels.values, \n",
        "    test_size=0.3, random_state=43,\n",
        "    stratify=train_labels,\n",
        ")\n",
        "del train_images, train_labels\n",
        "gc.collect()\n",
        "print('X_train', X_train.shape)\n",
        "print('y_train', y_train.shape)\n",
        "print('X_val', X_val.shape)\n",
        "print('y_val', y_val.shape)"
      ],
      "execution_count": 0,
      "outputs": [
        {
          "output_type": "stream",
          "text": [
            "X_train (23188, 224, 224, 3)\n",
            "y_train (23188,)\n",
            "X_val (9938, 224, 224, 3)\n",
            "y_val (9938,)\n"
          ],
          "name": "stdout"
        }
      ]
    },
    {
      "cell_type": "code",
      "metadata": {
        "id": "WWae70vKk9dw",
        "colab_type": "code",
        "outputId": "b27eccf7-d365-4aa2-e68c-b26419a8f057",
        "colab": {
          "base_uri": "https://localhost:8080/"
        }
      },
      "source": [
        "print('Train target distribution: ')\n",
        "print(pd.Series(y_train).value_counts())\n",
        "print('Val target distribution: ')\n",
        "print(pd.Series(y_val).value_counts())\n",
        "#55.694376"
      ],
      "execution_count": 0,
      "outputs": [
        {
          "output_type": "stream",
          "text": [
            "Train target distribution: \n",
            "0    22779\n",
            "1      409\n",
            "dtype: int64\n",
            "Val target distribution: \n",
            "0    9763\n",
            "1     175\n",
            "dtype: int64\n"
          ],
          "name": "stdout"
        }
      ]
    },
    {
      "cell_type": "markdown",
      "metadata": {
        "id": "EyNe7NvOnvWe",
        "colab_type": "text"
      },
      "source": [
        "## Dataset"
      ]
    },
    {
      "cell_type": "code",
      "metadata": {
        "id": "hwHZoI6KcwqK",
        "colab_type": "code",
        "colab": {}
      },
      "source": [
        "class MelanomaDataset(Dataset):\n",
        "    def __init__(self, img_arr, labels, isEval=False, transform=None):\n",
        "        super().__init__()\n",
        "        self.images = img_arr\n",
        "        self.transform = transform\n",
        "        self.isEval = isEval\n",
        "        if not self.isEval:\n",
        "            self.labels = labels\n",
        "    \n",
        "    def __len__(self):\n",
        "        return len(self.images)\n",
        "\n",
        "    def __getitem__(self, index):\n",
        "        if torch.is_tensor(index):\n",
        "            index = index.tolist()\n",
        "\n",
        "        image = self.images[index].astype(np.uint8)\n",
        "\n",
        "        if self.transform is not None:\n",
        "            res = self.transform(image=image)\n",
        "            image = res['image']\n",
        "        else:\n",
        "            image = np.transpose(image, (2, 1, 0))\n",
        "        \n",
        "        if self.isEval:\n",
        "            return image\n",
        "        target = self.labels[index].astype(np.float32)\n",
        "        return image, target\n"
      ],
      "execution_count": 0,
      "outputs": []
    },
    {
      "cell_type": "markdown",
      "metadata": {
        "id": "kFL68tLin0Ky",
        "colab_type": "text"
      },
      "source": [
        "## Augmentations"
      ]
    },
    {
      "cell_type": "code",
      "metadata": {
        "id": "XPWu-IIliVVo",
        "colab_type": "code",
        "colab": {}
      },
      "source": [
        "#%%writefile augmentations.txt\n",
        "# Transforms\n",
        "mean = (0.485, 0.456, 0.406)\n",
        "std = (0.229, 0.224, 0.225)\n",
        "\n",
        "def strong_aug(p=1.0):\n",
        "    return A.Compose([\n",
        "        A.RandomRotate90(),\n",
        "        A.Flip(),\n",
        "        A.Transpose(),\n",
        "        #A.OneOf([\n",
        "        #    A.IAAAdditiveGaussianNoise(),\n",
        "        #    A.GaussNoise(),\n",
        "        #], p=0.3),\n",
        "        A.OneOf([\n",
        "            A.MotionBlur(p=0.2),\n",
        "            A.MedianBlur(blur_limit=3, p=0.3),\n",
        "            A.Blur(blur_limit=3, p=0.3),\n",
        "        ], p=0.3),\n",
        "        A.ShiftScaleRotate(shift_limit=0.0625, scale_limit=0.2, rotate_limit=45, p=0.3),\n",
        "        A.OneOf([\n",
        "            A.OpticalDistortion(p=0.3),\n",
        "            A.GridDistortion(p=.1),\n",
        "            A.IAAPiecewiseAffine(p=0.3),\n",
        "        ], p=0.3),\n",
        "        A.OneOf([\n",
        "            A.CLAHE(clip_limit=2),\n",
        "            A.IAASharpen(),\n",
        "            A.IAAEmboss(),\n",
        "            A.RandomBrightnessContrast(),            \n",
        "        ], p=0.3),\n",
        "        A.HueSaturationValue(p=0.3),\n",
        "        A.MultiplicativeNoise(multiplier=[0.8, 1.2], elementwise=True, p=0.5),\n",
        "        A.RandomGridShuffle(grid=(3, 3), p=1),\n",
        "        A.Cutout(num_holes=1, max_h_size=64, max_w_size=64, p=0.5),\n",
        "        A.Normalize(mean, std, max_pixel_value=255.0, always_apply=True),\n",
        "        ToTensorV2(p=1.0),\n",
        "    ], p=p)\n",
        "\n",
        "def get_valid_transform():\n",
        "    return A.Compose([\n",
        "        A.Normalize(mean, std, max_pixel_value=255.0, always_apply=True),\n",
        "        ToTensorV2(p=1.0),\n",
        "    ])"
      ],
      "execution_count": 0,
      "outputs": []
    },
    {
      "cell_type": "markdown",
      "metadata": {
        "id": "coB5w10-7oBw",
        "colab_type": "text"
      },
      "source": [
        "## Visualise Transforms"
      ]
    },
    {
      "cell_type": "code",
      "metadata": {
        "id": "0a7GCYU_7myh",
        "colab_type": "code",
        "colab": {}
      },
      "source": [
        "def visualize_dataset(dataset, shuffle=True):\n",
        "    dl = DataLoader(dt, batch_size=4, shuffle=shuffle)\n",
        "    for images, targets in dl:\n",
        "        for image, target in zip(images, targets):\n",
        "            print(image.shape)\n",
        "            image = image.float().detach().numpy().transpose((1,2,0))\n",
        "            target = target.detach().numpy()\n",
        "            print('Mean', np.mean(image))\n",
        "            print('std', np.std(image))\n",
        "            #print(image)\n",
        "            plt.imshow(image, vmin=-1, vmax=1)\n",
        "            plt.show()\n",
        "            print(target)\n",
        "        break\n",
        "\n",
        "#dt = MelanomaDataset(X_train[:32], y_train[:32], isEval=False, transform=strong_aug())\n",
        "#visualize_dataset(dt, False)"
      ],
      "execution_count": 0,
      "outputs": []
    },
    {
      "cell_type": "markdown",
      "metadata": {
        "id": "_aeIKSF7mJFT",
        "colab_type": "text"
      },
      "source": [
        "## RoC plot"
      ]
    },
    {
      "cell_type": "code",
      "metadata": {
        "id": "BbtlOIcVe6SC",
        "colab_type": "code",
        "colab": {}
      },
      "source": [
        "def plot_roc(y_true, y_pred, show=False):\n",
        "    testy, lr_probs = y_true, y_pred\n",
        "    ns_probs = [0 for _ in range(len(testy))]\n",
        "    # calculate roc curves\n",
        "    ns_fpr, ns_tpr, _ = roc_curve(testy, ns_probs)\n",
        "    lr_fpr, lr_tpr, _ = roc_curve(testy, lr_probs) #lr_probs: predictions\n",
        "    # plot the roc curve for the model\n",
        "    plt.figure(figsize=(8,8))\n",
        "    plt.plot(ns_fpr, ns_tpr, linestyle='--', label='No Skill')\n",
        "    plt.plot(lr_fpr, lr_tpr, linestyle='-', label='Model')\n",
        "    # axis labels\n",
        "    plt.xlabel('False Positive Rate')\n",
        "    plt.ylabel('True Positive Rate')\n",
        "    # show the legend\n",
        "    plt.legend()\n",
        "    #save\n",
        "    filename = f'/content/logs/roc_curve_{datetime.datetime.now().strftime(\"%d-%m-%Y-%HH-%MM\")}.png'\n",
        "    plt.savefig(filename)\n",
        "    # show the plot\n",
        "    if show:\n",
        "        plt.show()\n",
        "    else:\n",
        "        plt.clf()\n",
        "    return filename"
      ],
      "execution_count": 0,
      "outputs": []
    },
    {
      "cell_type": "markdown",
      "metadata": {
        "id": "Z9m9lx4ewYzk",
        "colab_type": "text"
      },
      "source": [
        "## Model"
      ]
    },
    {
      "cell_type": "code",
      "metadata": {
        "id": "kfPBXkoYyPAa",
        "colab_type": "code",
        "colab": {}
      },
      "source": [
        "class ResNet34Mod(nn.Module): \n",
        "\n",
        "    def __init__(self):\n",
        "        super().__init__()\n",
        "        self.model = torchvision.models.resnet34(pretrained=True)\n",
        "        in_features = self.model.fc.in_features\n",
        "        self.model.fc = nn.Linear(in_features, int(in_features/2))\n",
        "        self.bn_1 = nn.BatchNorm1d(int(in_features/2))\n",
        "        self.relu_1 = nn.ReLU()\n",
        "        self.drop_1 = nn.Dropout(0.2)\n",
        "        self.fc_2 = nn.Linear(int(in_features/2), 1)\n",
        "    def forward(self, x):\n",
        "        x = self.model(x)\n",
        "        x = self.bn_1(x)\n",
        "        x = self.relu_1(x)\n",
        "        x = self.drop_1(x)\n",
        "        x = self.fc_2(x)\n",
        "        return x\n",
        "\n",
        "class ResNet50Mod(nn.Module): \n",
        "\n",
        "    def __init__(self):\n",
        "        super().__init__()\n",
        "        self.model = torchvision.models.resnet50(pretrained=True)\n",
        "        in_features = self.model.fc.in_features\n",
        "        self.model.fc = nn.Linear(in_features, int(in_features/2))\n",
        "        self.bn_1 = nn.BatchNorm1d(int(in_features/2))\n",
        "        self.relu_1 = nn.ReLU()\n",
        "        self.drop_1 = nn.Dropout(0.2)\n",
        "        self.fc_2 = nn.Linear(int(in_features/2), 1)\n",
        "    def forward(self, x):\n",
        "        x = self.model(x)\n",
        "        x = self.bn_1(x)\n",
        "        x = self.relu_1(x)\n",
        "        x = self.drop_1(x)\n",
        "        x = self.fc_2(x)\n",
        "        return x\n",
        "\n",
        "class Tf_efficientnet_b0(nn.Module):\n",
        "\n",
        "    def __init__(self):\n",
        "        super().__init__()\n",
        "        self.model = timm.create_model('tf_efficientnet_b0', pretrained=True)\n",
        "        in_features = self.model.classifier.in_features\n",
        "        self.model.classifier = nn.Linear(in_features, 1)\n",
        "\n",
        "    def forward(self, x):\n",
        "        return self.model(x)\n",
        "\n",
        "class Tf_efficientnet_b0_Mod(nn.Module):\n",
        "\n",
        "    def __init__(self):\n",
        "        super().__init__()\n",
        "        self.model = timm.create_model('tf_efficientnet_b0', pretrained=True)\n",
        "        in_features = self.model.classifier.in_features\n",
        "        self.model.classifier = nn.Linear(in_features, int(in_features/2))\n",
        "        self.bn_1 = nn.BatchNorm1d(int(in_features/2))\n",
        "        self.relu_1 = nn.ReLU()\n",
        "        self.drop_1 = nn.Dropout(0.2)\n",
        "        self.fc_2 = nn.Linear(int(in_features/2), 1)\n",
        "\n",
        "    def forward(self, x):\n",
        "        x = self.model(x)\n",
        "        x = self.bn_1(x)\n",
        "        x = self.relu_1(x)\n",
        "        x = self.drop_1(x)\n",
        "        x = self.fc_2(x)\n",
        "        return x\n",
        "\n",
        "class Tf_efficientnet_b1(nn.Module):\n",
        "\n",
        "    def __init__(self):\n",
        "        super().__init__()\n",
        "        self.model = timm.create_model('tf_efficientnet_b1', pretrained=True)\n",
        "        in_features = self.model.classifier.in_features\n",
        "        self.model.classifier = nn.Linear(in_features, 1)\n",
        "\n",
        "    def forward(self, x):\n",
        "        return self.model(x)\n",
        "\n",
        "class Tf_efficientnet_b1_Mod(nn.Module):\n",
        "\n",
        "    def __init__(self):\n",
        "        super().__init__()\n",
        "        self.model = timm.create_model('tf_efficientnet_b1', pretrained=True)\n",
        "        in_features = self.model.classifier.in_features\n",
        "        self.model.classifier = nn.Linear(in_features, int(in_features/2))\n",
        "        self.bn_1 = nn.BatchNorm1d(int(in_features/2))\n",
        "        self.relu_1 = nn.ReLU()\n",
        "        self.drop_1 = nn.Dropout(0.2)\n",
        "        self.fc_2 = nn.Linear(int(in_features/2), 1)\n",
        "\n",
        "    def forward(self, x):\n",
        "        x = self.model(x)\n",
        "        x = self.bn_1(x)\n",
        "        x = self.relu_1(x)\n",
        "        x = self.drop_1(x)\n",
        "        x = self.fc_2(x)\n",
        "        return x\n",
        "\n",
        "class swsl_resnext101_32x4d(nn.Module):\n",
        "\n",
        "    def __init__(self):\n",
        "        super().__init__()\n",
        "        self.model = timm.create_model('swsl_resnext101_32x4d', pretrained=True)\n",
        "        in_features = self.model.fc.in_features\n",
        "        self.model.fc = nn.Linear(in_features, 1)\n",
        "\n",
        "    def forward(self, x):\n",
        "        return self.model(x)\n",
        "\n",
        "class swsl_resnext101_32x4d_Mod(nn.Module):\n",
        "\n",
        "    def __init__(self):\n",
        "        super().__init__()\n",
        "        self.model = timm.create_model('swsl_resnext101_32x4d', pretrained=True)\n",
        "        in_features = self.model.fc.in_features\n",
        "        self.model.fc = nn.Linear(in_features, int(in_features/2))\n",
        "        self.bn_1 = nn.BatchNorm1d(int(in_features/2))\n",
        "        self.relu_1 = nn.ReLU()\n",
        "        self.drop_1 = nn.Dropout(0.2)\n",
        "        self.fc_2 = nn.Linear(int(in_features/2), 1)\n",
        "\n",
        "    def forward(self, x):\n",
        "        x = self.model(x)\n",
        "        x = self.bn_1(x)\n",
        "        x = self.relu_1(x)\n",
        "        x = self.drop_1(x)\n",
        "        x = self.fc_2(x)\n",
        "        return x\n",
        "\n",
        "class gluon_seresnext50_32x4d(nn.Module):\n",
        "\n",
        "    def __init__(self):\n",
        "        super().__init__()\n",
        "        self.model = timm.create_model('gluon_seresnext50_32x4d', pretrained=True)\n",
        "        in_features = self.model.fc.in_features\n",
        "        self.model.fc = nn.Linear(in_features, 1)\n",
        "\n",
        "    def forward(self, x):\n",
        "        return self.model(x)\n",
        "\n",
        "class gluon_seresnext50_32x4d_Mod(nn.Module):\n",
        "\n",
        "    def __init__(self):\n",
        "        super().__init__()\n",
        "        self.model = timm.create_model('gluon_seresnext50_32x4d', pretrained=True)\n",
        "        in_features = self.model.fc.in_features\n",
        "        self.model.fc = nn.Linear(in_features, int(in_features/2))\n",
        "        self.bn_1 = nn.BatchNorm1d(int(in_features/2))\n",
        "        self.relu_1 = nn.ReLU()\n",
        "        self.drop_1 = nn.Dropout(0.2)\n",
        "        self.fc_2 = nn.Linear(int(in_features/2), 1)\n",
        "\n",
        "    def forward(self, x):\n",
        "        x = self.model(x)\n",
        "        x = self.bn_1(x)\n",
        "        x = self.relu_1(x)\n",
        "        x = self.drop_1(x)\n",
        "        x = self.fc_2(x)\n",
        "        return x\n",
        "\n",
        "class Tf_efficientnet_b5(nn.Module):\n",
        "\n",
        "    def __init__(self):\n",
        "        super().__init__()\n",
        "        self.model = timm.create_model('tf_efficientnet_b5', pretrained=True)\n",
        "        in_features = self.model.classifier.in_features\n",
        "        self.model.classifier = nn.Linear(in_features, 1)\n",
        "\n",
        "    def forward(self, x):\n",
        "        return self.model(x)\n"
      ],
      "execution_count": 0,
      "outputs": []
    },
    {
      "cell_type": "markdown",
      "metadata": {
        "id": "ndmsl1XUrWFp",
        "colab_type": "text"
      },
      "source": [
        "## Custom Losses"
      ]
    },
    {
      "cell_type": "code",
      "metadata": {
        "id": "IICyzNqJrZnl",
        "colab_type": "code",
        "colab": {}
      },
      "source": [
        "class FocalLoss(nn.Module):\n",
        "    def __init__(self, alpha=1, gamma=2, logits=True, reduce=True):\n",
        "        super(FocalLoss, self).__init__()\n",
        "        self.alpha = alpha\n",
        "        self.gamma = gamma\n",
        "        self.logits = logits\n",
        "        self.reduce = reduce\n",
        "\n",
        "    def forward(self, inputs, targets):\n",
        "        if self.logits:\n",
        "            BCE_loss = F.binary_cross_entropy_with_logits(inputs, targets, reduction='none')\n",
        "        else:\n",
        "            BCE_loss = F.binary_cross_entropy(inputs, targets, reduction='none')\n",
        "        pt = torch.exp(-BCE_loss)\n",
        "        F_loss = self.alpha * (1-pt)**self.gamma * BCE_loss\n",
        "\n",
        "        if self.reduce:\n",
        "            return torch.mean(F_loss)\n",
        "        else:\n",
        "            return F_loss"
      ],
      "execution_count": 0,
      "outputs": []
    },
    {
      "cell_type": "markdown",
      "metadata": {
        "id": "Tub6p0D-qdYU",
        "colab_type": "text"
      },
      "source": [
        "## Train script"
      ]
    },
    {
      "cell_type": "code",
      "metadata": {
        "id": "h-VtUtpsycpH",
        "colab_type": "code",
        "colab": {}
      },
      "source": [
        "device = torch.device('cuda') if torch.cuda.is_available() else torch.device('cpu')\n",
        "\n",
        "def criterion(y_pred, y_true):\n",
        "    return nn.BCEWithLogitsLoss(\n",
        "    #    pos_weight=torch.tensor([22779/409], dtype=torch.float).to(device)\n",
        "    )(y_pred, y_true)\n",
        "    #return FocalLoss()(y_pred, y_true)\n",
        "\n",
        "def get_datasets(X_train, y_train, X_val, y_val):\n",
        "    datasets = {}\n",
        "    datasets['train'] = MelanomaDataset(\n",
        "        X_train, y_train, isEval=False, transform=strong_aug()\n",
        "    ) #strong_aug get_train_transform\n",
        "    datasets['valid'] = MelanomaDataset(\n",
        "        X_val, y_val, isEval=False, transform=get_valid_transform()\n",
        "    )\n",
        "    return datasets\n",
        "\n",
        "def train_one_epoch(loader, model, optimizer, epoch, scheduler=None, amp_use=False, log=True):\n",
        "    model.train()\n",
        "    running_loss = 0.0\n",
        "    for idx, (images, targets) in tqdm(enumerate(loader), total=len(loader)): #\n",
        "        images = images.to(device)\n",
        "        targets = targets.to(device).unsqueeze(1)\n",
        "\n",
        "        optimizer.zero_grad()\n",
        "\n",
        "        y_pred = model(images.float())\n",
        "        loss = criterion(y_pred, targets)\n",
        "        running_loss += float(loss)\n",
        "        \n",
        "        loss.backward()\n",
        "        optimizer.step()\n",
        "\n",
        "        if scheduler is not None:\n",
        "            scheduler.step()\n",
        "        \n",
        "        if log:\n",
        "            neptune.log_metric(\"Loss/train\", loss) #epoch * len(loader) + idx\n",
        "        #if (idx % FLAGS['log_interval'] == 0) and (idx % len(loader) != 0):\n",
        "        #    print(f\"Iteration #{idx} loss: {loss}\")\n",
        "\n",
        "    return running_loss/len(loader)\n",
        "\n",
        "def val_one_epoch(loader, model):\n",
        "    model.eval()\n",
        "    running_loss = 0.0\n",
        "    y_preds_list = []\n",
        "    targets_list = []\n",
        "    with torch.no_grad():\n",
        "        for idx, (images, targets) in tqdm(enumerate(loader), total=len(loader)):\n",
        "            images = images.to(device)\n",
        "            targets = targets.to(device).unsqueeze(1)\n",
        "            \n",
        "            y_pred = model(images.float())\n",
        "            loss = criterion(y_pred, targets)\n",
        "            \n",
        "            running_loss += float(loss)\n",
        "            y_preds_list.append(torch.sigmoid(y_pred).cpu().numpy())\n",
        "            targets_list.append(targets.cpu().numpy())\n",
        "        y_true = np.vstack(targets_list)\n",
        "        y_pred = np.vstack(y_preds_list)\n",
        "        auc_score = roc_auc_score(y_true, y_pred)\n",
        "        roc_plot = plot_roc(y_true, y_pred)\n",
        "        print(f'roc_auc_score: {auc_score}')\n",
        "        print(f'average loss for val epoch: {running_loss/len(loader)}')\n",
        "    return running_loss/len(loader), auc_score, roc_plot\n",
        "   \n",
        "def save_upload(model, optimizer, best_score, epoch, fold=None, exp_name='model'):\n",
        "    if fold:\n",
        "        NAME = 'siim-isic_'+exp_name+f'_fold_{fold}_{str(epoch+1)}.ckpt'\n",
        "    NAME = 'siim-isic_'+exp_name+f'_{str(epoch+1)}.ckpt'\n",
        "    MODEL_PATH = NAME\n",
        "    torch.save({\n",
        "        #'epoch': epoch,\n",
        "        'model_state_dict': model.state_dict(),\n",
        "        #'optimizer_state_dict': optimizer.state_dict(),\n",
        "    }, MODEL_PATH)\n",
        "    print(f\"Saved ckpt for epoch {epoch+1}, new best score: {best_score}\")\n",
        "    upload_blob(MODEL_PATH, NAME)\n",
        "    print(f\"Uploaded ckpt for epoch {epoch+1}\")"
      ],
      "execution_count": 0,
      "outputs": []
    },
    {
      "cell_type": "code",
      "metadata": {
        "id": "1TggTDLcOxUT",
        "colab_type": "code",
        "colab": {}
      },
      "source": [
        "FLAGS = {}\n",
        "FLAGS['batch_size'] = 32\n",
        "FLAGS['num_workers'] = 4\n",
        "FLAGS['learning_rate'] = 3e-4 #FLAGS['learning_rate'] = 3e-3\n",
        "FLAGS['num_epochs'] = 10\n",
        "FLAGS['weight_decay'] = 1e-3\n",
        "FLAGS['momentum'] = 0.9\n",
        "FLAGS['log_interval'] = 175\n",
        "FLAGS['img_size'] = 224\n",
        "FLAGS['loss'] = 'BCE unbalanced'\n",
        "FLAGS['optimizer'] = 'AdamW'\n",
        "FLAGS['exp_name'] = 'Tf_efficientnet_b5'\n",
        "exp_description = '''\n",
        "Tf_efficientnet_b5 with base head,\n",
        "RandomWeightedSampler,\n",
        "RandomGridShuffle + strong_aug p=1.0,\n",
        "imsize 224\n",
        "'''\n",
        "def train_job(X_train, y_train, X_val, y_val, log=True):\n",
        "    exp_name = FLAGS['exp_name']\n",
        "    best_score = 0.0\n",
        "    #model = ResNet34Mod().to(device)\n",
        "    #model = ResNet50Mod().to(device)\n",
        "    #model = Tf_efficientnet_b0().to(device)\n",
        "    #model = Tf_efficientnet_b0_Mod().to(device)\n",
        "    #model = Tf_efficientnet_b1().to(device)\n",
        "    #model = Tf_efficientnet_b1_Mod().to(device)\n",
        "    model = Tf_efficientnet_b5().to(device)\n",
        "    #model = swsl_resnext101_32x4d().to(device)\n",
        "    #model = gluon_seresnext50_32x4d().to(device)\n",
        "    if log:\n",
        "        neptune.init('utsav/SIIM-ISIC', api_token=NEPTUNE_API_TOKEN)\n",
        "        neptune.create_experiment(\n",
        "            exp_name, exp_description, params=FLAGS,\n",
        "            upload_source_files='*.txt'\n",
        "        )\n",
        "    \n",
        "    #optimizer = torch.optim.SGD(\n",
        "    #    model.parameters(), lr=FLAGS['learning_rate'], \n",
        "    #    momentum=FLAGS['momentum'], \n",
        "    #    weight_decay=FLAGS['weight_decay']\n",
        "    #)\n",
        "    optimizer = torch.optim.AdamW(\n",
        "        model.parameters(), \n",
        "        lr=FLAGS['learning_rate'], \n",
        "        weight_decay=FLAGS['weight_decay']\n",
        "    )\n",
        "\n",
        "    # scheduler = ...\n",
        "    # todo ...\n",
        "    \n",
        "    datasets = get_datasets(X_train, y_train, X_val, y_val)\n",
        "    \n",
        "    #sampler\n",
        "    labels_vcount = pd.Series(y_train).value_counts()\n",
        "    class_counts = [labels_vcount[0].astype(np.float32), labels_vcount[1].astype(np.float32)]\n",
        "    num_samples = sum(class_counts)\n",
        "    class_weights = [num_samples/class_counts[i] for i in range(len(class_counts))]\n",
        "    weights = [class_weights[y_train[i]] for i in range(int(num_samples))]\n",
        "    sampler = WeightedRandomSampler(torch.DoubleTensor(weights), int(num_samples))\n",
        "    \n",
        "    #loaders\n",
        "    train_loader = DataLoader(\n",
        "        datasets['train'], batch_size=FLAGS['batch_size'], \n",
        "        num_workers=FLAGS['num_workers'],\n",
        "        sampler=sampler,\n",
        "        pin_memory=True,\n",
        "        #shuffle=True,\n",
        "    )\n",
        "    val_loader = DataLoader(\n",
        "        datasets['valid'], batch_size=32, shuffle=False, \n",
        "        num_workers=FLAGS['num_workers'], drop_last=True\n",
        "    )\n",
        "\n",
        "    #train loop\n",
        "    for epoch in range(0, FLAGS['num_epochs']):\n",
        "\n",
        "        print('-'*27 + f'Epoch #{epoch+1} started' + '-'*27)\n",
        "        #with torch.autograd.profiler.profile(use_cuda=True) as prof:\n",
        "        train_loss = train_one_epoch(\n",
        "            train_loader, \n",
        "            model, optimizer, \n",
        "            epoch, scheduler=None, \n",
        "            amp_use=None, log=log\n",
        "        )\n",
        "        #print(prof)\n",
        "        print()\n",
        "        print(f'Average loss for epoch #{epoch+1} : {train_loss}')\n",
        "        val_loss, auc_score, roc_plot = val_one_epoch(val_loader, model)\n",
        "        \n",
        "        #logs\n",
        "        if log:\n",
        "            neptune.log_metric('AUC/val', auc_score)\n",
        "            neptune.log_image('ROC/val', roc_plot)\n",
        "            neptune.log_metric('Loss/val', val_loss)\n",
        "\n",
        "        #checkpoint+upload\n",
        "        if (auc_score > best_score) or (best_score-auc_score<0.005):\n",
        "            best_score = auc_score\n",
        "            save_upload(\n",
        "                model, optimizer, \n",
        "                best_score, epoch, \n",
        "                exp_name=exp_name\n",
        "            )\n",
        "            \n",
        "        print('-'*28 + f'Epoch #{epoch+1} ended' + '-'*28)\n",
        "    if log:\n",
        "        neptune.stop()\n",
        "    return model"
      ],
      "execution_count": 0,
      "outputs": []
    },
    {
      "cell_type": "markdown",
      "metadata": {
        "id": "WmLSHZZdS_1i",
        "colab_type": "text"
      },
      "source": [
        "## Train"
      ]
    },
    {
      "cell_type": "code",
      "metadata": {
        "id": "AHJtNpfOUdqD",
        "colab_type": "code",
        "outputId": "0e3e59e6-1f92-4816-b3c8-5a7953d03dd3",
        "colab": {
          "base_uri": "https://localhost:8080/",
          "height": 1000
        }
      },
      "source": [
        "log = True\n",
        "try:\n",
        "    trained_model = train_job(X_train, y_train, X_val, y_val, log=log)\n",
        "except Exception as e:\n",
        "    if log:\n",
        "        neptune.stop()\n",
        "    print(e)\n",
        "except KeyboardInterrupt:\n",
        "    if log:\n",
        "        neptune.stop()"
      ],
      "execution_count": 0,
      "outputs": [
        {
          "output_type": "stream",
          "text": [
            "Downloading: \"https://github.com/rwightman/pytorch-image-models/releases/download/v0.1-weights/tf_efficientnet_b5_ra-9a3e5369.pth\" to /root/.cache/torch/checkpoints/tf_efficientnet_b5_ra-9a3e5369.pth\n"
          ],
          "name": "stderr"
        },
        {
          "output_type": "stream",
          "text": [
            "https://ui.neptune.ai/utsav/SIIM-ISIC/e/SIIM-55\n",
            "---------------------------Epoch #1 started---------------------------\n"
          ],
          "name": "stdout"
        },
        {
          "output_type": "stream",
          "text": [
            "100%|██████████| 725/725 [06:48<00:00,  1.77it/s]"
          ],
          "name": "stderr"
        },
        {
          "output_type": "stream",
          "text": [
            "\n",
            "Average loss for epoch #1 : 0.4167374356039639\n"
          ],
          "name": "stdout"
        },
        {
          "output_type": "stream",
          "text": [
            "\n",
            "100%|██████████| 310/310 [00:39<00:00,  7.78it/s]\n"
          ],
          "name": "stderr"
        },
        {
          "output_type": "stream",
          "text": [
            "roc_auc_score: 0.8682946566004546\n",
            "average loss for val epoch: 0.21166253113938915\n",
            "Saved ckpt for epoch 1, new best score: 0.8682946566004546\n",
            "File siim-isic_Tf_efficientnet_b5_1.ckpt uploaded to siim-isic_Tf_efficientnet_b5_1.ckpt.\n",
            "Uploaded ckpt for epoch 1\n",
            "----------------------------Epoch #1 ended----------------------------\n",
            "---------------------------Epoch #2 started---------------------------\n"
          ],
          "name": "stdout"
        },
        {
          "output_type": "stream",
          "text": [
            "100%|██████████| 725/725 [06:48<00:00,  1.77it/s]"
          ],
          "name": "stderr"
        },
        {
          "output_type": "stream",
          "text": [
            "\n",
            "Average loss for epoch #2 : 0.30667224817234895\n"
          ],
          "name": "stdout"
        },
        {
          "output_type": "stream",
          "text": [
            "\n",
            "100%|██████████| 310/310 [00:39<00:00,  7.79it/s]\n"
          ],
          "name": "stderr"
        },
        {
          "output_type": "stream",
          "text": [
            "roc_auc_score: 0.838527010188375\n",
            "average loss for val epoch: 0.2461672340549769\n",
            "----------------------------Epoch #2 ended----------------------------\n",
            "---------------------------Epoch #3 started---------------------------\n"
          ],
          "name": "stdout"
        },
        {
          "output_type": "stream",
          "text": [
            "100%|██████████| 725/725 [06:49<00:00,  1.77it/s]"
          ],
          "name": "stderr"
        },
        {
          "output_type": "stream",
          "text": [
            "\n",
            "Average loss for epoch #3 : 0.24124044241062526\n"
          ],
          "name": "stdout"
        },
        {
          "output_type": "stream",
          "text": [
            "\n",
            "100%|██████████| 310/310 [00:39<00:00,  7.78it/s]\n"
          ],
          "name": "stderr"
        },
        {
          "output_type": "stream",
          "text": [
            "roc_auc_score: 0.8212803635564025\n",
            "average loss for val epoch: 0.21617006565173788\n",
            "----------------------------Epoch #3 ended----------------------------\n",
            "---------------------------Epoch #4 started---------------------------\n"
          ],
          "name": "stdout"
        },
        {
          "output_type": "stream",
          "text": [
            "100%|██████████| 725/725 [06:48<00:00,  1.77it/s]"
          ],
          "name": "stderr"
        },
        {
          "output_type": "stream",
          "text": [
            "\n",
            "Average loss for epoch #4 : 0.20636305017717954\n"
          ],
          "name": "stdout"
        },
        {
          "output_type": "stream",
          "text": [
            "\n",
            "100%|██████████| 310/310 [00:39<00:00,  7.77it/s]\n"
          ],
          "name": "stderr"
        },
        {
          "output_type": "stream",
          "text": [
            "roc_auc_score: 0.8797795206332917\n",
            "average loss for val epoch: 0.2220627899972662\n",
            "Saved ckpt for epoch 4, new best score: 0.8797795206332917\n",
            "File siim-isic_Tf_efficientnet_b5_4.ckpt uploaded to siim-isic_Tf_efficientnet_b5_4.ckpt.\n",
            "Uploaded ckpt for epoch 4\n",
            "----------------------------Epoch #4 ended----------------------------\n",
            "---------------------------Epoch #5 started---------------------------\n"
          ],
          "name": "stdout"
        },
        {
          "output_type": "stream",
          "text": [
            "100%|██████████| 725/725 [06:48<00:00,  1.77it/s]"
          ],
          "name": "stderr"
        },
        {
          "output_type": "stream",
          "text": [
            "\n",
            "Average loss for epoch #5 : 0.1713743394176508\n"
          ],
          "name": "stdout"
        },
        {
          "output_type": "stream",
          "text": [
            "\n",
            "100%|██████████| 310/310 [00:39<00:00,  7.78it/s]\n"
          ],
          "name": "stderr"
        },
        {
          "output_type": "stream",
          "text": [
            "roc_auc_score: 0.8638610276332184\n",
            "average loss for val epoch: 0.18198532536776074\n",
            "----------------------------Epoch #5 ended----------------------------\n",
            "---------------------------Epoch #6 started---------------------------\n"
          ],
          "name": "stdout"
        },
        {
          "output_type": "stream",
          "text": [
            "100%|██████████| 725/725 [06:50<00:00,  1.77it/s]"
          ],
          "name": "stderr"
        },
        {
          "output_type": "stream",
          "text": [
            "\n",
            "Average loss for epoch #6 : 0.1483887051855182\n"
          ],
          "name": "stdout"
        },
        {
          "output_type": "stream",
          "text": [
            "\n",
            "100%|██████████| 310/310 [00:39<00:00,  7.77it/s]\n"
          ],
          "name": "stderr"
        },
        {
          "output_type": "stream",
          "text": [
            "roc_auc_score: 0.8662851279044198\n",
            "average loss for val epoch: 0.16714327733892376\n",
            "----------------------------Epoch #6 ended----------------------------\n",
            "---------------------------Epoch #7 started---------------------------\n"
          ],
          "name": "stdout"
        },
        {
          "output_type": "stream",
          "text": [
            "100%|██████████| 725/725 [06:48<00:00,  1.77it/s]"
          ],
          "name": "stderr"
        },
        {
          "output_type": "stream",
          "text": [
            "\n",
            "Average loss for epoch #7 : 0.1368120440095663\n"
          ],
          "name": "stdout"
        },
        {
          "output_type": "stream",
          "text": [
            "\n",
            "100%|██████████| 310/310 [00:39<00:00,  7.77it/s]\n"
          ],
          "name": "stderr"
        },
        {
          "output_type": "stream",
          "text": [
            "roc_auc_score: 0.8775489261892545\n",
            "average loss for val epoch: 0.15950632051775052\n",
            "Saved ckpt for epoch 7, new best score: 0.8775489261892545\n",
            "File siim-isic_Tf_efficientnet_b5_7.ckpt uploaded to siim-isic_Tf_efficientnet_b5_7.ckpt.\n",
            "Uploaded ckpt for epoch 7\n",
            "----------------------------Epoch #7 ended----------------------------\n",
            "---------------------------Epoch #8 started---------------------------\n"
          ],
          "name": "stdout"
        },
        {
          "output_type": "stream",
          "text": [
            "100%|██████████| 725/725 [06:51<00:00,  1.76it/s]"
          ],
          "name": "stderr"
        },
        {
          "output_type": "stream",
          "text": [
            "\n",
            "Average loss for epoch #8 : 0.12119423201500341\n"
          ],
          "name": "stdout"
        },
        {
          "output_type": "stream",
          "text": [
            "\n",
            "100%|██████████| 310/310 [00:39<00:00,  7.77it/s]\n"
          ],
          "name": "stderr"
        },
        {
          "output_type": "stream",
          "text": [
            "roc_auc_score: 0.8592661438100124\n",
            "average loss for val epoch: 0.12052471353832046\n",
            "----------------------------Epoch #8 ended----------------------------\n",
            "---------------------------Epoch #9 started---------------------------\n"
          ],
          "name": "stdout"
        },
        {
          "output_type": "stream",
          "text": [
            "100%|██████████| 725/725 [06:49<00:00,  1.77it/s]"
          ],
          "name": "stderr"
        },
        {
          "output_type": "stream",
          "text": [
            "\n",
            "Average loss for epoch #9 : 0.1110497453847322\n"
          ],
          "name": "stdout"
        },
        {
          "output_type": "stream",
          "text": [
            "\n",
            "100%|██████████| 310/310 [00:39<00:00,  7.77it/s]\n"
          ],
          "name": "stderr"
        },
        {
          "output_type": "stream",
          "text": [
            "roc_auc_score: 0.8451525324342153\n",
            "average loss for val epoch: 0.15112195101720582\n",
            "----------------------------Epoch #9 ended----------------------------\n",
            "---------------------------Epoch #10 started---------------------------\n"
          ],
          "name": "stdout"
        },
        {
          "output_type": "stream",
          "text": [
            " 70%|███████   | 509/725 [04:49<02:05,  1.72it/s]"
          ],
          "name": "stderr"
        }
      ]
    },
    {
      "cell_type": "markdown",
      "metadata": {
        "id": "6MPMH0blnHpK",
        "colab_type": "text"
      },
      "source": [
        "## Inference"
      ]
    },
    {
      "cell_type": "code",
      "metadata": {
        "id": "fBuDaNX9wP9-",
        "colab_type": "code",
        "colab": {}
      },
      "source": [
        "#trained_model = ResNet34Mod()\n",
        "def run_test(model, test_images, ckpts):\n",
        "    agg_predictions = []\n",
        "    for ckpt in ckpts:\n",
        "        model.load_state_dict(torch.load(ckpt)['model_state_dict'])\n",
        "        model.to(device).eval()\n",
        "        test_dataset = MelanomaDataset(test_images, labels=None, isEval=True, transform=get_valid_transform())\n",
        "        test_data_loader = DataLoader(\n",
        "            test_dataset, batch_size=256, shuffle=False, \n",
        "            num_workers=4, pin_memort=True\n",
        "        )\n",
        "        predictions = []\n",
        "        with torch.no_grad():\n",
        "            for images in tqdm(test_data_loader, total=len(test_data_loader)):\n",
        "                images = images.to(device)\n",
        "                y_pred = torch.sigmoid(model(images.float()))\n",
        "                predictions.append(y_pred.cpu().numpy())\n",
        "        predictions = np.vstack(predictions)\n",
        "        plt.hist(predictions.T[0],bins=100)\n",
        "        plt.ylim((0,500))\n",
        "        plt.show()\n",
        "        agg_predictions.append(predictions)\n",
        "    #can be vectorized\n",
        "    avg_predictions = agg_predictions[0]\n",
        "    for i in range(1, len(agg_predictions)):\n",
        "        avg_predictions+=agg_predictions[i]\n",
        "    avg_predictions/=len(agg_predictions)\n",
        "    print('average:')\n",
        "    plt.hist(avg_predictions.T[0],bins=100)\n",
        "    plt.ylim((0,500))\n",
        "    plt.show()\n",
        "    return avg_predictions"
      ],
      "execution_count": 0,
      "outputs": []
    },
    {
      "cell_type": "code",
      "metadata": {
        "id": "ZKkVq0VNc_VG",
        "colab_type": "code",
        "outputId": "e8b35cf1-5cff-4cea-b2b4-e9cff67f4acb",
        "colab": {
          "base_uri": "https://localhost:8080/",
          "height": 823
        }
      },
      "source": [
        "ckpts = [\n",
        "         '/content/siim-isic_Tf_efficientnet_b1_Mod_2.ckpt',\n",
        "         '/content/siim-isic_Tf_efficientnet_b1_Mod_4.ckpt',\n",
        "         ]\n",
        "#model = swsl_resnext101_32x4d_Mod().to(device)\n",
        "avg_predictions = run_test(trained_model, test_images, ckpts)"
      ],
      "execution_count": 0,
      "outputs": [
        {
          "output_type": "stream",
          "text": [
            "100%|██████████| 43/43 [00:16<00:00,  2.56it/s]\n"
          ],
          "name": "stderr"
        },
        {
          "output_type": "display_data",
          "data": {
            "image/png": "[encoded data removed]",
            "text/plain": [
              "<Figure size 432x288 with 1 Axes>"
            ]
          },
          "metadata": {
            "tags": [],
            "needs_background": "light"
          }
        },
        {
          "output_type": "stream",
          "text": [
            "100%|██████████| 43/43 [00:16<00:00,  2.56it/s]\n"
          ],
          "name": "stderr"
        },
        {
          "output_type": "display_data",
          "data": {
            "image/png": "[encoded data removed]",
            "text/plain": [
              "<Figure size 432x288 with 1 Axes>"
            ]
          },
          "metadata": {
            "tags": [],
            "needs_background": "light"
          }
        },
        {
          "output_type": "stream",
          "text": [
            "average:\n"
          ],
          "name": "stdout"
        },
        {
          "output_type": "display_data",
          "data": {
            "image/png": "[encoded data removed]",
            "text/plain": [
              "<Figure size 432x288 with 1 Axes>"
            ]
          },
          "metadata": {
            "tags": [],
            "needs_background": "light"
          }
        }
      ]
    },
    {
      "cell_type": "code",
      "metadata": {
        "id": "HXRqY5zfcSdF",
        "colab_type": "code",
        "colab": {}
      },
      "source": [
        ""
      ],
      "execution_count": 0,
      "outputs": []
    },
    {
      "cell_type": "code",
      "metadata": {
        "id": "2nfLHdwAbSL8",
        "colab_type": "code",
        "colab": {}
      },
      "source": [
        "diff = avg_predictions - avg_predictions_eff0\n",
        "eff_res_avg = (avg_predictions + avg_predictions_eff0) / 2"
      ],
      "execution_count": 0,
      "outputs": []
    },
    {
      "cell_type": "code",
      "metadata": {
        "id": "5nGu4k61cnVy",
        "colab_type": "code",
        "outputId": "ad713241-ec88-447d-a339-b19430149f9e",
        "colab": {
          "base_uri": "https://localhost:8080/",
          "height": 269
        }
      },
      "source": [
        "plt.hist(diff.T[0],bins=100)\n",
        "plt.ylim((0,500))\n",
        "plt.show()"
      ],
      "execution_count": 0,
      "outputs": [
        {
          "output_type": "display_data",
          "data": {
            "image/png": "[encoded data removed]",
            "text/plain": [
              "<Figure size 432x288 with 1 Axes>"
            ]
          },
          "metadata": {
            "tags": [],
            "needs_background": "light"
          }
        }
      ]
    },
    {
      "cell_type": "code",
      "metadata": {
        "id": "nXf_96Xnc_H-",
        "colab_type": "code",
        "outputId": "e8f7b475-262f-469b-fc1e-02d641831bcd",
        "colab": {
          "base_uri": "https://localhost:8080/",
          "height": 269
        }
      },
      "source": [
        "plt.hist(eff_res_avg.T[0],bins=100)\n",
        "plt.ylim((0,500))\n",
        "plt.show()"
      ],
      "execution_count": 0,
      "outputs": [
        {
          "output_type": "display_data",
          "data": {
            "image/png": "[encoded data removed]",
            "text/plain": [
              "<Figure size 432x288 with 1 Axes>"
            ]
          },
          "metadata": {
            "tags": [],
            "needs_background": "light"
          }
        }
      ]
    },
    {
      "cell_type": "code",
      "metadata": {
        "id": "B35YIuA8hrgY",
        "colab_type": "code",
        "outputId": "96dccfab-fad6-4f0f-8fcb-a6155d2b0745",
        "colab": {
          "base_uri": "https://localhost:8080/",
          "height": 269
        }
      },
      "source": [
        "#enet_b0_6+8+9"
      ],
      "execution_count": 0,
      "outputs": [
        {
          "output_type": "display_data",
          "data": {
            "image/png": "[encoded data removed]",
            "text/plain": [
              "<Figure size 432x288 with 1 Axes>"
            ]
          },
          "metadata": {
            "tags": [],
            "needs_background": "light"
          }
        }
      ]
    },
    {
      "cell_type": "code",
      "metadata": {
        "id": "Z4egqmO9ChuY",
        "colab_type": "code",
        "outputId": "34cc64bb-0e97-47b0-da44-28e221da5566",
        "colab": {
          "base_uri": "https://localhost:8080/",
          "height": 167
        }
      },
      "source": [
        "pd.Series(avg_predictions.T[0]).describe()"
      ],
      "execution_count": 0,
      "outputs": [
        {
          "output_type": "execute_result",
          "data": {
            "text/plain": [
              "count    1.098200e+04\n",
              "mean     1.127915e-01\n",
              "std      1.964244e-01\n",
              "min      2.191101e-08\n",
              "25%      4.212644e-04\n",
              "50%      1.386940e-02\n",
              "75%      1.346696e-01\n",
              "max      9.978799e-01\n",
              "dtype: float64"
            ]
          },
          "metadata": {
            "tags": []
          },
          "execution_count": 126
        }
      ]
    },
    {
      "cell_type": "code",
      "metadata": {
        "id": "J_Gd9ZY9t6Os",
        "colab_type": "code",
        "outputId": "3765d33d-39ac-4e72-dab9-c5859a9a467e",
        "colab": {
          "base_uri": "https://localhost:8080/",
          "height": 67
        }
      },
      "source": [
        "pd.Series(np.where(avg_predictions>0.5,1,0).T[0]).value_counts()"
      ],
      "execution_count": 0,
      "outputs": [
        {
          "output_type": "execute_result",
          "data": {
            "text/plain": [
              "0    10250\n",
              "1      732\n",
              "dtype: int64"
            ]
          },
          "metadata": {
            "tags": []
          },
          "execution_count": 127
        }
      ]
    },
    {
      "cell_type": "code",
      "metadata": {
        "id": "VIX7N7l3uCHs",
        "colab_type": "code",
        "colab": {}
      },
      "source": [
        "sample_submission.target = avg_predictions.T[0].T"
      ],
      "execution_count": 0,
      "outputs": []
    },
    {
      "cell_type": "code",
      "metadata": {
        "id": "0z1-VMhauVUM",
        "colab_type": "code",
        "colab": {}
      },
      "source": [
        "sample_submission.to_csv('submission.csv', index=False)"
      ],
      "execution_count": 0,
      "outputs": []
    },
    {
      "cell_type": "code",
      "metadata": {
        "id": "Iuo-xqyru-zW",
        "colab_type": "code",
        "outputId": "c60503e8-d7eb-4568-f50d-a4b90e45ed1f",
        "colab": {
          "base_uri": "https://localhost:8080/",
          "height": 404
        }
      },
      "source": [
        "pd.read_csv('submission.csv')"
      ],
      "execution_count": 0,
      "outputs": [
        {
          "output_type": "execute_result",
          "data": {
            "text/html": [
              "<div>\n",
              "<style scoped>\n",
              "    .dataframe tbody tr th:only-of-type {\n",
              "        vertical-align: middle;\n",
              "    }\n",
              "\n",
              "    .dataframe tbody tr th {\n",
              "        vertical-align: top;\n",
              "    }\n",
              "\n",
              "    .dataframe thead th {\n",
              "        text-align: right;\n",
              "    }\n",
              "</style>\n",
              "<table border=\"1\" class=\"dataframe\">\n",
              "  <thead>\n",
              "    <tr style=\"text-align: right;\">\n",
              "      <th></th>\n",
              "      <th>image_name</th>\n",
              "      <th>target</th>\n",
              "    </tr>\n",
              "  </thead>\n",
              "  <tbody>\n",
              "    <tr>\n",
              "      <th>0</th>\n",
              "      <td>ISIC_0052060</td>\n",
              "      <td>0.000975</td>\n",
              "    </tr>\n",
              "    <tr>\n",
              "      <th>1</th>\n",
              "      <td>ISIC_0052349</td>\n",
              "      <td>0.000237</td>\n",
              "    </tr>\n",
              "    <tr>\n",
              "      <th>2</th>\n",
              "      <td>ISIC_0058510</td>\n",
              "      <td>0.000002</td>\n",
              "    </tr>\n",
              "    <tr>\n",
              "      <th>3</th>\n",
              "      <td>ISIC_0073313</td>\n",
              "      <td>0.000003</td>\n",
              "    </tr>\n",
              "    <tr>\n",
              "      <th>4</th>\n",
              "      <td>ISIC_0073502</td>\n",
              "      <td>0.029049</td>\n",
              "    </tr>\n",
              "    <tr>\n",
              "      <th>...</th>\n",
              "      <td>...</td>\n",
              "      <td>...</td>\n",
              "    </tr>\n",
              "    <tr>\n",
              "      <th>10977</th>\n",
              "      <td>ISIC_9992485</td>\n",
              "      <td>0.002577</td>\n",
              "    </tr>\n",
              "    <tr>\n",
              "      <th>10978</th>\n",
              "      <td>ISIC_9996992</td>\n",
              "      <td>0.445219</td>\n",
              "    </tr>\n",
              "    <tr>\n",
              "      <th>10979</th>\n",
              "      <td>ISIC_9997917</td>\n",
              "      <td>0.135978</td>\n",
              "    </tr>\n",
              "    <tr>\n",
              "      <th>10980</th>\n",
              "      <td>ISIC_9998234</td>\n",
              "      <td>0.000935</td>\n",
              "    </tr>\n",
              "    <tr>\n",
              "      <th>10981</th>\n",
              "      <td>ISIC_9999302</td>\n",
              "      <td>0.137801</td>\n",
              "    </tr>\n",
              "  </tbody>\n",
              "</table>\n",
              "<p>10982 rows × 2 columns</p>\n",
              "</div>"
            ],
            "text/plain": [
              "         image_name    target\n",
              "0      ISIC_0052060  0.000975\n",
              "1      ISIC_0052349  0.000237\n",
              "2      ISIC_0058510  0.000002\n",
              "3      ISIC_0073313  0.000003\n",
              "4      ISIC_0073502  0.029049\n",
              "...             ...       ...\n",
              "10977  ISIC_9992485  0.002577\n",
              "10978  ISIC_9996992  0.445219\n",
              "10979  ISIC_9997917  0.135978\n",
              "10980  ISIC_9998234  0.000935\n",
              "10981  ISIC_9999302  0.137801\n",
              "\n",
              "[10982 rows x 2 columns]"
            ]
          },
          "metadata": {
            "tags": []
          },
          "execution_count": 130
        }
      ]
    },
    {
      "cell_type": "markdown",
      "metadata": {
        "id": "Z-vHUPPBuLHf",
        "colab_type": "text"
      },
      "source": [
        "## Submit to Kaggle"
      ]
    },
    {
      "cell_type": "code",
      "metadata": {
        "id": "FhtkQ_LVYp0V",
        "colab_type": "code",
        "outputId": "d1951b83-65f6-4fea-ec9a-4b390b685bb9",
        "colab": {
          "base_uri": "https://localhost:8080/",
          "height": 50
        }
      },
      "source": [
        "!kaggle competitions submit -c siim-isic-melanoma-classification -f submission.csv -m {FLAGS['exp_name']+'_avg_ckpt_9+10'}"
      ],
      "execution_count": 0,
      "outputs": [
        {
          "output_type": "stream",
          "text": [
            "100% 269k/269k [00:06<00:00, 44.0kB/s]\n",
            "Successfully submitted to SIIM-ISIC Melanoma Classification"
          ],
          "name": "stdout"
        }
      ]
    },
    {
      "cell_type": "code",
      "metadata": {
        "id": "g1mV4vyTfv9l",
        "colab_type": "code",
        "outputId": "0c7b7fe8-55a0-40db-bb47-47bf1a4ca1ef",
        "colab": {
          "base_uri": "https://localhost:8080/",
          "height": 318
        }
      },
      "source": [
        "!kaggle competitions submissions siim-isic-melanoma-classification"
      ],
      "execution_count": 0,
      "outputs": [
        {
          "output_type": "stream",
          "text": [
            "fileName             date                 description                              status    publicScore  privateScore  \n",
            "-------------------  -------------------  ---------------------------------------  --------  -----------  ------------  \n",
            "submission.csv       2020-06-03 11:23:37  eff0_eff1_avg                            complete  0.889        None          \n",
            "submission.csv       2020-06-03 09:14:10  eff_res_avg                              complete  0.898        None          \n",
            "submission.csv       2020-06-03 08:59:57  swsl_resnext101_32x4d_Mod_avg_ckpt_9+10  complete  0.887        None          \n",
            "submission.csv       2020-06-03 07:45:59  swsl_resnext101_32x4d_avg_ckpt_6+8+9     complete  0.872        None          \n",
            "submission.csv       2020-06-03 06:00:00  Tf_efficientnet_b0_Mod_avg_ckpt_6+8+9    complete  0.891        None          \n",
            "submission.csv       2020-06-02 15:46:05  Tf_efficientnet_b1_ckpt_9                complete  0.875        None          \n",
            "submission.csv       2020-06-02 15:40:04  Tf_efficientnet_b1_ckpt_4                complete  0.882        None          \n",
            "submission.csv       2020-06-01 19:40:10  resnet50mod_fc_1_drop_focal_strong_aug   complete  0.872        None          \n",
            "submission.csv       2020-06-01 17:31:28  resnet34mod_fc_1_drop_focal              complete  0.840        None          \n",
            "submission.csv       2020-06-01 15:28:00  resnet34mod_focal_224                    complete  0.814        None          \n",
            "submission (11).csv  2020-06-01 07:52:55  ResNet34 Mod 55x Loss Weight             complete  0.845        None          \n",
            "submission (10).csv  2020-06-01 06:00:09  None                                     complete  0.870        None          \n",
            "submission (8).csv   2020-05-31 18:22:40  ResNet34                                 complete  0.874        None          \n",
            "submission (8).csv   2020-05-31 17:20:54                                           complete  0.801        None          \n",
            "submission (8).csv   2020-05-31 17:19:26                                           error     None         None          \n",
            "submission (8).csv   2020-05-31 17:18:18  None                                     error     None         None          \n"
          ],
          "name": "stdout"
        }
      ]
    },
    {
      "cell_type": "code",
      "metadata": {
        "id": "waAtcELef00L",
        "colab_type": "code",
        "colab": {}
      },
      "source": [
        ""
      ],
      "execution_count": 0,
      "outputs": []
    }
  ]
}