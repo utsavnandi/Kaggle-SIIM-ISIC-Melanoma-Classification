{
  "nbformat": 4,
  "nbformat_minor": 0,
  "metadata": {
    "colab": {
      "name": "SIIM-ISIC Melanoma Classification.ipynb",
      "provenance": [],
      "collapsed_sections": [
        "L-_fb9AEa6Wq",
        "wFoIORVvcWn5",
        "EyNe7NvOnvWe",
        "CwWrFw5C-R5J",
        "coB5w10-7oBw",
        "_aeIKSF7mJFT",
        "ndmsl1XUrWFp",
        "6MPMH0blnHpK",
        "Z-vHUPPBuLHf"
      ],
      "machine_shape": "hm",
      "authorship_tag": "ABX9TyOzDF8DMI6jUl9hLGoSuLGD",
      "include_colab_link": true
    },
    "kernelspec": {
      "name": "python3",
      "display_name": "Python 3"
    },
    "accelerator": "GPU"
  },
  "cells": [
    {
      "cell_type": "markdown",
      "metadata": {
        "id": "view-in-github",
        "colab_type": "text"
      },
      "source": [
        "<a href=\"https://colab.research.google.com/github/utsavnandi/Kaggle-SIIM-ISIC-Melanoma-Classification/blob/master/SIIM_ISIC_Melanoma_Classification.ipynb\" target=\"_parent\"><img src=\"https://colab.research.google.com/assets/colab-badge.svg\" alt=\"Open In Colab\"/></a>"
      ]
    },
    {
      "cell_type": "markdown",
      "metadata": {
        "id": "L-_fb9AEa6Wq",
        "colab_type": "text"
      },
      "source": [
        "## One-time\n"
      ]
    },
    {
      "cell_type": "code",
      "metadata": {
        "id": "ymGpJBznaEZs",
        "colab_type": "code",
        "colab": {}
      },
      "source": [
        "%%time\n",
        "!pip uninstall kaggle -y\n",
        "!pip install kaggle==1.5.6 -q\n",
        "!pip install -U git+https://github.com/albu/albumentations -q\n",
        "!pip install -U git+https://github.com/rwightman/pytorch-image-models -q\n",
        "!pip install neptune-client -q\n",
        "!mkdir ~/.kaggle/\n",
        "!cp ./kaggle.json  ~/.kaggle/kaggle.json\n",
        "!chmod 600 ~/.kaggle/kaggle.json\n",
        "!kaggle datasets download -d shonenkov/melanoma-merged-external-data-512x512-jpeg\n",
        "!unzip melanoma-merged-external-data-512x512-jpeg.zip -d ./data/\n",
        "!rm melanoma-merged-external-data-512x512-jpeg.zip\n",
        "!kaggle competitions download siim-isic-melanoma-classification -f sample_submission.csv\n",
        "!kaggle competitions download siim-isic-melanoma-classification -f test.csv\n",
        "!kaggle competitions download siim-isic-melanoma-classification -f train.csv\n",
        "!unzip train.csv -d ./data/\n",
        "!mv ./test.csv ./data/\n",
        "!mv ./sample_submission.csv ./data/\n",
        "!rm train.csv.zip\n",
        "!mkdir ./logs/"
      ],
      "execution_count": 0,
      "outputs": []
    },
    {
      "cell_type": "code",
      "metadata": {
        "id": "o0mdayXwdxHr",
        "colab_type": "code",
        "colab": {}
      },
      "source": [
        "# kaggle datasets download tunguz/siimisic-melanoma-resized-images -f x_train_224.npy\n",
        "# kaggle datasets download tunguz/siimisic-melanoma-resized-images -f x_test_224.npy\n",
        "# unzip ./680899%2F1200702%2Fcompressed%2Fx_train_224.npy.zip -d ./data/\n",
        "# unzip ./680899%2F1200702%2Fcompressed%2Fx_test_224.npy.zip -d ./data/\n",
        "# rm ./680899%2F1200702%2Fcompressed%2Fx_train_224.npy.zip\n",
        "# rm ./680899%2F1200702%2Fcompressed%2Fx_test_224.npy.zip"
      ],
      "execution_count": 0,
      "outputs": []
    },
    {
      "cell_type": "markdown",
      "metadata": {
        "id": "wFoIORVvcWn5",
        "colab_type": "text"
      },
      "source": [
        "## Setup"
      ]
    },
    {
      "cell_type": "code",
      "metadata": {
        "id": "cB029jhCcJFF",
        "colab_type": "code",
        "outputId": "4fb97bfe-fd7e-4851-c5fc-39f69423afdf",
        "colab": {
          "base_uri": "https://localhost:8080/",
          "height": 354
        }
      },
      "source": [
        "import os\n",
        "import gc\n",
        "import time\n",
        "import datetime\n",
        "import random\n",
        "from getpass import getpass\n",
        "import numpy as np\n",
        "import cv2\n",
        "import pandas as pd\n",
        "import matplotlib.pyplot as plt\n",
        "import seaborn as sns\n",
        "from tqdm import tqdm\n",
        "from google.colab import auth\n",
        "from google.cloud import storage\n",
        "\n",
        "from sklearn.model_selection import train_test_split\n",
        "from sklearn.metrics import roc_auc_score, roc_curve\n",
        "\n",
        "import torch\n",
        "import torch.nn as nn\n",
        "import torch.nn.functional as F\n",
        "from torch.utils.data import Dataset, DataLoader, WeightedRandomSampler\n",
        "from torch.cuda.amp import GradScaler\n",
        "import torchvision\n",
        "\n",
        "import timm\n",
        "\n",
        "import albumentations as A\n",
        "from albumentations.pytorch.transforms import ToTensorV2\n",
        "\n",
        "import neptune\n",
        "\n",
        "def seed_everything(seed):\n",
        "    random.seed(seed)\n",
        "    #np.random.seed(seed)\n",
        "    torch.manual_seed(seed)\n",
        "    torch.cuda.manual_seed(seed)\n",
        "    torch.backends.cudnn.deterministic = True\n",
        "    torch.backends.cudnn.benchmark = True\n",
        "\n",
        "seed_everything(43)\n",
        "\n",
        "!nvidia-smi"
      ],
      "execution_count": 0,
      "outputs": [
        {
          "output_type": "stream",
          "text": [
            "/usr/local/lib/python3.6/dist-packages/statsmodels/tools/_testing.py:19: FutureWarning: pandas.util.testing is deprecated. Use the functions in the public API at pandas.testing instead.\n",
            "  import pandas.util.testing as tm\n"
          ],
          "name": "stderr"
        },
        {
          "output_type": "stream",
          "text": [
            "Sun Jun  7 12:47:47 2020       \n",
            "+-----------------------------------------------------------------------------+\n",
            "| NVIDIA-SMI 440.82       Driver Version: 418.67       CUDA Version: 10.1     |\n",
            "|-------------------------------+----------------------+----------------------+\n",
            "| GPU  Name        Persistence-M| Bus-Id        Disp.A | Volatile Uncorr. ECC |\n",
            "| Fan  Temp  Perf  Pwr:Usage/Cap|         Memory-Usage | GPU-Util  Compute M. |\n",
            "|===============================+======================+======================|\n",
            "|   0  Tesla P100-PCIE...  Off  | 00000000:00:04.0 Off |                    0 |\n",
            "| N/A   40C    P0    27W / 250W |      0MiB / 16280MiB |      0%      Default |\n",
            "+-------------------------------+----------------------+----------------------+\n",
            "                                                                               \n",
            "+-----------------------------------------------------------------------------+\n",
            "| Processes:                                                       GPU Memory |\n",
            "|  GPU       PID   Type   Process name                             Usage      |\n",
            "|=============================================================================|\n",
            "|  No running processes found                                                 |\n",
            "+-----------------------------------------------------------------------------+\n"
          ],
          "name": "stdout"
        }
      ]
    },
    {
      "cell_type": "code",
      "metadata": {
        "id": "-UON0HEIZ-K2",
        "colab_type": "code",
        "outputId": "ab5d329d-6bcf-4886-e251-69ce703006f2",
        "colab": {
          "base_uri": "https://localhost:8080/",
          "height": 67
        }
      },
      "source": [
        "PROJECT_ID = getpass(prompt='Enter gcp project id: ')\n",
        "bucket_name = getpass(prompt='Enter gcp bucket name: ')\n",
        "\n",
        "if PROJECT_ID != '' and bucket_name !='':\n",
        "    auth.authenticate_user()\n",
        "\n",
        "!gcloud config set project {PROJECT_ID}\n",
        "\n",
        "if PROJECT_ID != '' and bucket_name !='':\n",
        "    storage_client = storage.Client(project=PROJECT_ID)\n",
        "\n",
        "def upload_blob(source_file_name, destination_blob_name, bucket_name=bucket_name, PROJECT_ID=PROJECT_ID):\n",
        "    \"\"\"Uploads a file to the bucket.\"\"\"\n",
        "    storage_client = storage.Client(project=PROJECT_ID)\n",
        "    bucket = storage_client.bucket(bucket_name)\n",
        "    blob = bucket.blob(destination_blob_name)\n",
        "    blob.upload_from_filename(source_file_name)\n",
        "    print(\"File {} uploaded to {}.\".format(source_file_name, destination_blob_name))"
      ],
      "execution_count": 0,
      "outputs": [
        {
          "output_type": "stream",
          "text": [
            "Enter gcp project id: ··········\n",
            "Enter gcp bucket name: ··········\n",
            "Updated property [core/project].\n"
          ],
          "name": "stdout"
        }
      ]
    },
    {
      "cell_type": "code",
      "metadata": {
        "id": "284zZDwUjZqU",
        "colab_type": "code",
        "outputId": "5a0a673e-bd33-46a7-d003-9f82edd1a9b0",
        "colab": {
          "base_uri": "https://localhost:8080/",
          "height": 33
        }
      },
      "source": [
        "NEPTUNE_API_TOKEN = getpass(prompt='Enter neptune api token: ')\n",
        "\n",
        "if NEPTUNE_API_TOKEN != '':\n",
        "    os.environ['NEPTUNE_API_TOKEN'] = NEPTUNE_API_TOKEN\n",
        "    log = True\n",
        "    "
      ],
      "execution_count": 0,
      "outputs": [
        {
          "output_type": "stream",
          "text": [
            "Enter neptune api token: ··········\n"
          ],
          "name": "stdout"
        }
      ]
    },
    {
      "cell_type": "code",
      "metadata": {
        "id": "E-XASBvOcVwo",
        "colab_type": "code",
        "colab": {}
      },
      "source": [
        "DATA_DIR = '/content/data/'"
      ],
      "execution_count": 0,
      "outputs": []
    },
    {
      "cell_type": "code",
      "metadata": {
        "id": "5uG9Xunfy3N3",
        "colab_type": "code",
        "colab": {}
      },
      "source": [
        "df_train = pd.read_csv(DATA_DIR+'folds.csv')\n",
        "df_test = pd.read_csv(DATA_DIR+'test.csv').rename(columns={'image_name':'image_id'})\n",
        "sample_submission = pd.read_csv(DATA_DIR+'sample_submission.csv')"
      ],
      "execution_count": 0,
      "outputs": []
    },
    {
      "cell_type": "code",
      "metadata": {
        "id": "TIKzfKD2zA9A",
        "colab_type": "code",
        "outputId": "8a6a7f99-febe-4e1b-fdd7-04b896fc8054",
        "colab": {
          "base_uri": "https://localhost:8080/",
          "height": 117
        }
      },
      "source": [
        "df_train['fold'].value_counts()"
      ],
      "execution_count": 0,
      "outputs": [
        {
          "output_type": "execute_result",
          "data": {
            "text/plain": [
              "0    12219\n",
              "1    12106\n",
              "2    12072\n",
              "4    12048\n",
              "3    12042\n",
              "Name: fold, dtype: int64"
            ]
          },
          "metadata": {
            "tags": []
          },
          "execution_count": 6
        }
      ]
    },
    {
      "cell_type": "code",
      "metadata": {
        "id": "VOuLmekTzlM4",
        "colab_type": "code",
        "colab": {}
      },
      "source": [
        "fold_no = 1\n",
        "X_train = df_train[df_train['fold'] != fold_no][[col for col in df_train.columns if col != 'target']]\n",
        "y_train = df_train[df_train['fold'] != fold_no][[col for col in df_train.columns if col == 'target']]\n",
        "X_val = df_train[df_train['fold'] == fold_no][[col for col in df_train.columns if col != 'target']]\n",
        "y_val = df_train[df_train['fold'] == fold_no][[col for col in df_train.columns if col == 'target']]"
      ],
      "execution_count": 0,
      "outputs": []
    },
    {
      "cell_type": "code",
      "metadata": {
        "id": "WtfWLaaYcn3z",
        "colab_type": "code",
        "colab": {}
      },
      "source": [
        "# %%time\n",
        "# df_train = pd.read_csv(DATA_DIR+'train.csv')\n",
        "# df_test = pd.read_csv(DATA_DIR+'test.csv')\n",
        "# sample_submission = pd.read_csv(DATA_DIR+'sample_submission.csv')\n",
        "# train_images = np.load(DATA_DIR+'x_train_224.npy') #x_train_128\n",
        "# train_labels = df_train['target']\n",
        "# test_images = np.load(DATA_DIR+'x_test_224.npy') #x_test_128"
      ],
      "execution_count": 0,
      "outputs": []
    },
    {
      "cell_type": "code",
      "metadata": {
        "id": "yovLpNhMcvnW",
        "colab_type": "code",
        "outputId": "b5e3a122-8519-443b-c9ab-c00620a38990",
        "colab": {
          "base_uri": "https://localhost:8080/",
          "height": 84
        }
      },
      "source": [
        "# X_train, X_val, y_train, y_val = train_test_split(\n",
        "#     train_images, train_labels.values, \n",
        "#     test_size=0.3, random_state=43,\n",
        "#     stratify=train_labels,\n",
        "# )\n",
        "# del train_images, train_labels\n",
        "# gc.collect()\n",
        "print('X_train', X_train.shape)\n",
        "print('y_train', y_train.shape)\n",
        "print('X_val', X_val.shape)\n",
        "print('y_val', y_val.shape)"
      ],
      "execution_count": 0,
      "outputs": [
        {
          "output_type": "stream",
          "text": [
            "X_train (48381, 8)\n",
            "y_train (48381, 1)\n",
            "X_val (12106, 8)\n",
            "y_val (12106, 1)\n"
          ],
          "name": "stdout"
        }
      ]
    },
    {
      "cell_type": "code",
      "metadata": {
        "id": "WWae70vKk9dw",
        "colab_type": "code",
        "outputId": "2a6666bf-d718-45e2-88ee-ad1664622dc8",
        "colab": {
          "base_uri": "https://localhost:8080/",
          "height": 150
        }
      },
      "source": [
        "print('Train target distribution: ')\n",
        "#print(pd.Series(y_train).value_counts())\n",
        "print(y_train['target'].value_counts())\n",
        "print('Val target distribution: ')\n",
        "#print(pd.Series(y_val).value_counts())\n",
        "print(y_val['target'].value_counts())"
      ],
      "execution_count": 0,
      "outputs": [
        {
          "output_type": "stream",
          "text": [
            "Train target distribution: \n",
            "0    43997\n",
            "1     4384\n",
            "Name: target, dtype: int64\n",
            "Val target distribution: \n",
            "0    11011\n",
            "1     1095\n",
            "Name: target, dtype: int64\n"
          ],
          "name": "stdout"
        }
      ]
    },
    {
      "cell_type": "markdown",
      "metadata": {
        "id": "EyNe7NvOnvWe",
        "colab_type": "text"
      },
      "source": [
        "## Dataset"
      ]
    },
    {
      "cell_type": "code",
      "metadata": {
        "id": "hwHZoI6KcwqK",
        "colab_type": "code",
        "colab": {}
      },
      "source": [
        "# class MelanomaDataset(Dataset):\n",
        "#     def __init__(self, img_arr, labels, isEval=False, transform=None):\n",
        "#         super().__init__()\n",
        "#         self.images = img_arr\n",
        "#         self.transform = transform\n",
        "#         self.isEval = isEval\n",
        "#         if not self.isEval:\n",
        "#             self.labels = labels\n",
        "\n",
        "#     def __len__(self):\n",
        "#         return len(self.images)\n",
        "\n",
        "#     def __getitem__(self, index):\n",
        "#         if torch.is_tensor(index):\n",
        "#             index = index.tolist()\n",
        "\n",
        "#         image = self.images[index].astype(np.uint8)\n",
        "\n",
        "#         if self.transform is not None:\n",
        "#             res = self.transform(image=image)\n",
        "#             image = res['image']\n",
        "#         else:\n",
        "#             image = np.transpose(image, (2, 1, 0))\n",
        "\n",
        "#         if self.isEval:\n",
        "#             return image\n",
        "#         target = self.labels[index].astype(np.float32)\n",
        "#         return image, target\n"
      ],
      "execution_count": 0,
      "outputs": []
    },
    {
      "cell_type": "markdown",
      "metadata": {
        "id": "CwWrFw5C-R5J",
        "colab_type": "text"
      },
      "source": [
        "## Alt Dataset"
      ]
    },
    {
      "cell_type": "code",
      "metadata": {
        "id": "8wK-NTFy-PwU",
        "colab_type": "code",
        "colab": {}
      },
      "source": [
        "class MelanomaDataset(Dataset):\n",
        "    def __init__(self, df, labels, isEval=True, transform=None):\n",
        "        super().__init__()\n",
        "        self.image_id = df['image_id'].values\n",
        "        self.transform = transform\n",
        "        self.isEval = isEval\n",
        "        if not self.isEval:\n",
        "            self.labels = labels.values\n",
        "\n",
        "    def __len__(self):\n",
        "        return len(self.image_id)\n",
        "\n",
        "    def __getitem__(self, index):\n",
        "        if torch.is_tensor(index):\n",
        "            index = index.tolist()\n",
        "        \n",
        "        if self.isEval:\n",
        "            image_name = DATA_DIR + f'512x512-test/512x512-test/{self.image_id[index]}.jpg'\n",
        "        else:\n",
        "            image_name = DATA_DIR + f'512x512-dataset-melanoma/512x512-dataset-melanoma/{self.image_id[index]}.jpg'\n",
        "\n",
        "        image = cv2.imread(image_name, cv2.IMREAD_COLOR).astype(np.uint8)\n",
        "        #image = cv2.cvtColor(image, cv2.COLOR_BGR2RGB).astype(np.uint8)\n",
        "\n",
        "        if self.transform is not None:\n",
        "            image = self.transform(image=image)['image']\n",
        "        else:\n",
        "            image = np.transpose(image, (2, 1, 0))\n",
        "\n",
        "        if self.isEval:\n",
        "            return image\n",
        "        target = self.labels[index].astype(np.float32)\n",
        "        return image, target\n",
        "        "
      ],
      "execution_count": 0,
      "outputs": []
    },
    {
      "cell_type": "markdown",
      "metadata": {
        "id": "kFL68tLin0Ky",
        "colab_type": "text"
      },
      "source": [
        "## Augmentations"
      ]
    },
    {
      "cell_type": "code",
      "metadata": {
        "id": "XPWu-IIliVVo",
        "colab_type": "code",
        "colab": {}
      },
      "source": [
        "#%%writefile augmentations.txt\n",
        "# Transforms\n",
        "# B0 - 224\n",
        "# B1 - 240\n",
        "# B2 - 260\n",
        "# B3 - 300\n",
        "# B4 - 380\n",
        "\n",
        "IMG_SIZE = 260\n",
        "mean = (0.485, 0.456, 0.406)\n",
        "std = (0.229, 0.224, 0.225)\n",
        "\n",
        "def strong_aug(p=1.0):\n",
        "    return A.Compose([\n",
        "        A.Resize(IMG_SIZE, IMG_SIZE, interpolation=2, always_apply=True, p=1),\n",
        "        A.RandomResizedCrop(\n",
        "            IMG_SIZE, IMG_SIZE, scale=(0.8, 1.0), interpolation=2, p=0.3\n",
        "        ),\n",
        "        A.Flip(),\n",
        "        A.Transpose(),\n",
        "        A.OneOf([\n",
        "            A.MotionBlur(p=0.2),\n",
        "            A.MedianBlur(blur_limit=3, p=0.3),\n",
        "            A.Blur(blur_limit=3, p=0.3),\n",
        "        ], p=0.5),\n",
        "        A.ShiftScaleRotate(\n",
        "            shift_limit=0.0625, scale_limit=0.2, rotate_limit=45, p=0.3\n",
        "        ),\n",
        "        A.OneOf([\n",
        "            A.OpticalDistortion(p=0.3),\n",
        "            A.GridDistortion(p=.1),\n",
        "            A.IAAPiecewiseAffine(p=0.3),\n",
        "        ], p=0.5),\n",
        "        A.OneOf([\n",
        "            A.CLAHE(clip_limit=2),\n",
        "            A.IAASharpen(),\n",
        "            A.IAAEmboss(),\n",
        "            A.RandomBrightnessContrast(),            \n",
        "        ], p=0.5),\n",
        "        A.HueSaturationValue(p=0.3),\n",
        "        A.MultiplicativeNoise(multiplier=[0.7, 1.3], elementwise=True, p=0.5),\n",
        "        #A.OneOf([\n",
        "        #    A.RandomGridShuffle(grid=(3, 3), p=0.5),\n",
        "        #    A.Cutout(num_holes=1, max_h_size=96, max_w_size=96, p=0.5),     \n",
        "        #], p=1.0),\n",
        "        A.Normalize(mean, std, max_pixel_value=255.0, always_apply=True),\n",
        "        ToTensorV2(p=1.0),\n",
        "    ], p=p)\n",
        "\n",
        "def get_valid_transform():\n",
        "    return A.Compose([\n",
        "        A.Resize(IMG_SIZE, IMG_SIZE, interpolation=2, always_apply=True, p=1),\n",
        "        A.Normalize(mean, std, max_pixel_value=255.0, always_apply=True),\n",
        "        ToTensorV2(p=1.0),\n",
        "    ])\n",
        "    "
      ],
      "execution_count": 0,
      "outputs": []
    },
    {
      "cell_type": "code",
      "metadata": {
        "id": "wGfkLJy6f4K4",
        "colab_type": "code",
        "colab": {}
      },
      "source": [
        "def rand_bbox(size, lam, device='cuda:0'):\n",
        "    W = size[2]\n",
        "    H = size[3]\n",
        "    cut_rat = np.sqrt(1. - lam)\n",
        "    #cut_rat = torch.sqrt(1 - lam).to(device)\n",
        "    cut_w = np.int(W * cut_rat)\n",
        "    cut_h = np.int(H * cut_rat)\n",
        "    #cut_w = (W * cut_rat).int().to(device)\n",
        "    #cut_h = (H * cut_rat).int().to(device)\n",
        "    cx = np.random.randint(W)\n",
        "    cy = np.random.randint(H)\n",
        "    #cx = torch.LongTensor(1).random_(0, W).to(device)\n",
        "    #cy = torch.LongTensor(1).random_(0, H).to(device)\n",
        "    bbx1 = np.clip(cx - cut_w // 2, 0, W)\n",
        "    bby1 = np.clip(cy - cut_h // 2, 0, H)\n",
        "    bbx2 = np.clip(cx + cut_w // 2, 0, W)\n",
        "    bby2 = np.clip(cy + cut_h // 2, 0, H)\n",
        "    #bbx1 = torch.clamp(cx - cut_w // 2, 0, W).to(device)\n",
        "    #bby1 = torch.clamp(cy - cut_h // 2, 0, H).to(device)\n",
        "    #bbx2 = torch.clamp(cx + cut_w // 2, 0, W).to(device)\n",
        "    #bby2 = torch.clamp(cy + cut_h // 2, 0, H).to(device)\n",
        "    return bbx1, bby1, bbx2, bby2\n",
        "\n",
        "def cutmix(data, targets1, alpha=1):\n",
        "    indices = np.random.permutation(data.size(0))\n",
        "    #indices = torch.randperm(data.size(0))\n",
        "    shuffled_data = data[indices]\n",
        "    shuffled_targets1 = targets1[indices]\n",
        "    \n",
        "    lam = np.random.beta(alpha, alpha)\n",
        "    #lam = torch.distributions.beta.Beta(alpha, alpha).sample().to('cuda:0')\n",
        "    bbx1, bby1, bbx2, bby2 = rand_bbox(data.size(), lam)\n",
        "\n",
        "    data[:, :, bbx1:bbx2, bby1:bby2] = data[indices, :, bbx1:bbx2, bby1:bby2]\n",
        "    # adjust lambda to exactly match pixel ratio\n",
        "    lam = 1 - ((bbx2 - bbx1) * (bby2 - bby1) / (data.size()[-1] * data.size()[-2]))\n",
        "    targets = [targets1, shuffled_targets1, lam]\n",
        "    return data, targets\n",
        "\n",
        "def mixup(data, targets1, alpha=1):\n",
        "    indices = np.random.permutation(data.size(0))\n",
        "    #indices = torch.randperm(data.size(0))\n",
        "    shuffled_data = data[indices]\n",
        "    shuffled_targets1 = targets1[indices]\n",
        "    lam = np.random.beta(alpha, alpha)\n",
        "    #lam = torch.distributions.beta.Beta(alpha, alpha).sample().to('cuda:0')\n",
        "    data = data * lam + shuffled_data * (1 - lam)\n",
        "    targets = [targets1, shuffled_targets1, lam]\n",
        "\n",
        "    return data, targets\n",
        "    "
      ],
      "execution_count": 0,
      "outputs": []
    },
    {
      "cell_type": "markdown",
      "metadata": {
        "id": "coB5w10-7oBw",
        "colab_type": "text"
      },
      "source": [
        "## Visualise Transforms"
      ]
    },
    {
      "cell_type": "code",
      "metadata": {
        "id": "0a7GCYU_7myh",
        "colab_type": "code",
        "colab": {}
      },
      "source": [
        "def visualize_dataset(dataset, shuffle=True):\n",
        "    labels_vcount = y_train['target'].value_counts()\n",
        "    #labels_vcount = pd.Series(y_train).value_counts()\n",
        "    class_counts = [labels_vcount[0].astype(np.float32), labels_vcount[1].astype(np.float32)]\n",
        "    num_samples = sum(class_counts)\n",
        "    class_weights = [num_samples/class_counts[i] for i in range(len(class_counts))]\n",
        "    weights = [class_weights[y_train['target'].values[i]] for i in range(int(num_samples))]\n",
        "    sampler = WeightedRandomSampler(torch.DoubleTensor(weights), int(num_samples))\n",
        "\n",
        "    dl = DataLoader(dt, batch_size=32, sampler=sampler)\n",
        "    for images, targets in dl:\n",
        "        images = images.to('cuda:0')\n",
        "        targets = targets.to('cuda:0')\n",
        "        if np.random.rand()<0.5:\n",
        "            images, targets = cutmix(images, targets)\n",
        "        else:\n",
        "            images, targets = mixup(images, targets)\n",
        "        for i, (image, target, shuffled_target) in enumerate(zip(images, targets[0], targets[1])):\n",
        "            print(image.shape)\n",
        "            image = image.detach().cpu().numpy().transpose((1,2,0))\n",
        "            plt.imshow(image.astype(np.uint8))\n",
        "            plt.show()\n",
        "            print('actual target', target)\n",
        "            print('shuffled target', shuffled_target)\n",
        "            print('---------------------------------')\n",
        "            if i>9:\n",
        "                break\n",
        "        break\n",
        "\n",
        "#dt = MelanomaDataset(X_train[:32], y_train[:32], isEval=False, transform=strong_aug())\n",
        "#dt = MelanomaDataset(X_train, y_train, isEval=False, transform=strong_aug())\n",
        "#visualize_dataset(dt, False)"
      ],
      "execution_count": 0,
      "outputs": []
    },
    {
      "cell_type": "markdown",
      "metadata": {
        "id": "_aeIKSF7mJFT",
        "colab_type": "text"
      },
      "source": [
        "## RoC plot"
      ]
    },
    {
      "cell_type": "code",
      "metadata": {
        "id": "BbtlOIcVe6SC",
        "colab_type": "code",
        "colab": {}
      },
      "source": [
        "def plot_roc(y_true, y_pred, show=False):\n",
        "    testy, lr_probs = y_true, y_pred\n",
        "    ns_probs = [0 for _ in range(len(testy))]\n",
        "    # calculate roc curves\n",
        "    ns_fpr, ns_tpr, _ = roc_curve(testy, ns_probs)\n",
        "    lr_fpr, lr_tpr, _ = roc_curve(testy, lr_probs) #lr_probs: predictions\n",
        "    # plot the roc curve for the model\n",
        "    plt.figure(figsize=(8,8))\n",
        "    plt.plot(ns_fpr, ns_tpr, linestyle='--', label='No Skill')\n",
        "    plt.plot(lr_fpr, lr_tpr, linestyle='-', label='Model')\n",
        "    # axis labels\n",
        "    plt.xlabel('False Positive Rate')\n",
        "    plt.ylabel('True Positive Rate')\n",
        "    # show the legend\n",
        "    plt.legend()\n",
        "    #save\n",
        "    filename = f'/content/logs/roc_curve_{datetime.datetime.now().strftime(\"%d-%m-%Y-%HH-%MM\")}.png'\n",
        "    plt.savefig(filename)\n",
        "    # show the plot\n",
        "    if show:\n",
        "        plt.show()\n",
        "    else:\n",
        "        plt.clf()\n",
        "    return filename\n"
      ],
      "execution_count": 0,
      "outputs": []
    },
    {
      "cell_type": "markdown",
      "metadata": {
        "id": "Z9m9lx4ewYzk",
        "colab_type": "text"
      },
      "source": [
        "## Model"
      ]
    },
    {
      "cell_type": "code",
      "metadata": {
        "id": "kfPBXkoYyPAa",
        "colab_type": "code",
        "colab": {}
      },
      "source": [
        "class ResNet50Mod(nn.Module): \n",
        "\n",
        "    def __init__(self):\n",
        "        super().__init__()\n",
        "        self.model = torchvision.models.resnet50(pretrained=True)\n",
        "        in_features = self.model.fc.in_features\n",
        "        self.model.fc = nn.Linear(in_features, int(in_features/2))\n",
        "        self.bn_1 = nn.BatchNorm1d(int(in_features/2))\n",
        "        self.relu_1 = nn.ReLU()\n",
        "        self.drop_1 = nn.Dropout(0.2)\n",
        "        self.fc_2 = nn.Linear(int(in_features/2), 1)\n",
        "    def forward(self, x):\n",
        "        x = self.model(x)\n",
        "        x = self.bn_1(x)\n",
        "        x = self.relu_1(x)\n",
        "        x = self.drop_1(x)\n",
        "        x = self.fc_2(x)\n",
        "        return x\n",
        "\n",
        "class Tf_efficientnet_b0(nn.Module):\n",
        "\n",
        "    def __init__(self):\n",
        "        super().__init__()\n",
        "        self.model = timm.create_model('tf_efficientnet_b0', pretrained=True)\n",
        "        in_features = self.model.classifier.in_features\n",
        "        self.model.classifier = nn.Linear(in_features, 1)\n",
        "\n",
        "    def forward(self, x):\n",
        "        return self.model(x)\n",
        "\n",
        "class Tf_efficientnet_b0_Mod(nn.Module):\n",
        "\n",
        "    def __init__(self):\n",
        "        super().__init__()\n",
        "        self.model = timm.create_model('tf_efficientnet_b0', pretrained=True)\n",
        "        in_features = self.model.classifier.in_features\n",
        "        self.model.classifier = nn.Linear(in_features, int(in_features/2))\n",
        "        self.bn_1 = nn.BatchNorm1d(int(in_features/2))\n",
        "        self.relu_1 = nn.ReLU()\n",
        "        self.drop_1 = nn.Dropout(0.2)\n",
        "        self.fc_2 = nn.Linear(int(in_features/2), 1)\n",
        "\n",
        "    def forward(self, x):\n",
        "        x = self.model(x)\n",
        "        x = self.bn_1(x)\n",
        "        x = self.relu_1(x)\n",
        "        x = self.drop_1(x)\n",
        "        x = self.fc_2(x)\n",
        "        return x\n",
        "\n",
        "class Tf_efficientnet_b1(nn.Module):\n",
        "\n",
        "    def __init__(self):\n",
        "        super().__init__()\n",
        "        self.model = timm.create_model('tf_efficientnet_b1', pretrained=True)\n",
        "        in_features = self.model.classifier.in_features\n",
        "        self.model.classifier = nn.Linear(in_features, 1)\n",
        "\n",
        "    def forward(self, x):\n",
        "        return self.model(x)\n",
        "\n",
        "class Tf_efficientnet_b2_ns(nn.Module):\n",
        "\n",
        "    def __init__(self):\n",
        "        super().__init__()\n",
        "        self.model = timm.create_model('tf_efficientnet_b2_ns', pretrained=True)\n",
        "        in_features = self.model.classifier.in_features\n",
        "        self.model.classifier = nn.Linear(in_features, 1)\n",
        "\n",
        "    def forward(self, x):\n",
        "        return self.model(x)\n",
        "\n",
        "class Tf_efficientnet_b1_Mod(nn.Module):\n",
        "\n",
        "    def __init__(self):\n",
        "        super().__init__()\n",
        "        self.model = timm.create_model('tf_efficientnet_b1', pretrained=True)\n",
        "        in_features = self.model.classifier.in_features\n",
        "        self.model.classifier = nn.Linear(in_features, int(in_features/2))\n",
        "        self.bn_1 = nn.BatchNorm1d(int(in_features/2))\n",
        "        self.relu_1 = nn.ReLU()\n",
        "        self.drop_1 = nn.Dropout(0.2)\n",
        "        self.fc_2 = nn.Linear(int(in_features/2), 1)\n",
        "\n",
        "    def forward(self, x):\n",
        "        x = self.model(x)\n",
        "        x = self.bn_1(x)\n",
        "        x = self.relu_1(x)\n",
        "        x = self.drop_1(x)\n",
        "        x = self.fc_2(x)\n",
        "        return x\n",
        "\n",
        "class Tf_efficientnet_b3(nn.Module):\n",
        "\n",
        "    def __init__(self):\n",
        "        super().__init__()\n",
        "        self.model = timm.create_model('tf_efficientnet_b3', pretrained=True)\n",
        "        in_features = self.model.classifier.in_features\n",
        "        self.model.classifier = nn.Linear(in_features, 1)\n",
        "\n",
        "    def forward(self, x):\n",
        "        return self.model(x)\n",
        "\n",
        "class Tf_efficientnet_b3_ns(nn.Module):\n",
        "\n",
        "    def __init__(self):\n",
        "        super().__init__()\n",
        "        self.model = timm.create_model('tf_efficientnet_b3_ns', pretrained=True)\n",
        "        in_features = self.model.classifier.in_features\n",
        "        self.model.classifier = nn.Linear(in_features, 1)\n",
        "\n",
        "    def forward(self, x):\n",
        "        return self.model(x)\n",
        "\n",
        "class Tf_efficientnet_b3_ns_Mod(nn.Module):\n",
        "\n",
        "    def __init__(self):\n",
        "        super().__init__()\n",
        "        self.model = timm.create_model('tf_efficientnet_b3_ns', pretrained=True)\n",
        "        in_features = self.model.classifier.in_features\n",
        "        self.model.classifier = nn.Linear(in_features, int(in_features/2))\n",
        "        self.bn_1 = nn.BatchNorm1d(int(in_features/2))\n",
        "        self.relu_1 = nn.ReLU()\n",
        "        self.drop_1 = nn.Dropout(0.2)\n",
        "        self.fc_2 = nn.Linear(int(in_features/2), 1)\n",
        "\n",
        "    def forward(self, x):\n",
        "        x = self.model(x)\n",
        "        x = self.bn_1(x)\n",
        "        x = self.relu_1(x)\n",
        "        x = self.drop_1(x)\n",
        "        x = self.fc_2(x)\n",
        "        return x\n",
        "\n",
        "class Tf_efficientnet_b3_ns_Mod_v2(nn.Module):\n",
        "\n",
        "    def __init__(self):\n",
        "        super().__init__()\n",
        "        self.model = timm.create_model('tf_efficientnet_b3_ns', pretrained=True)\n",
        "        in_features = self.model.classifier.in_features\n",
        "        self.model.classifier = nn.Linear(in_features, in_features)\n",
        "        self.relu_1 = nn.ReLU()\n",
        "        self.bn_1 = nn.BatchNorm1d(in_features)\n",
        "        self.fc_1 = nn.Linear(in_features, int(in_features/2))\n",
        "        self.bn_2 = nn.BatchNorm1d(int(in_features/2))\n",
        "        self.fc_2 = nn.Linear(int(in_features/2), 1)\n",
        "\n",
        "    def forward(self, x):\n",
        "        x = self.model(x)\n",
        "        x = self.relu_1(x)\n",
        "        x = self.bn_1(x)\n",
        "        x = self.fc_1(x)\n",
        "        x = self.bn_2(x)\n",
        "        x = self.fc_2(x)\n",
        "        return x\n",
        "\n",
        "class Tf_efficientnet_b4_ns(nn.Module):\n",
        "\n",
        "    def __init__(self):\n",
        "        super().__init__()\n",
        "        self.model = timm.create_model('tf_efficientnet_b4_ns', pretrained=True)\n",
        "        in_features = self.model.classifier.in_features\n",
        "        self.model.classifier = nn.Linear(in_features, 1)\n",
        "\n",
        "    def forward(self, x):\n",
        "        return self.model(x)\n",
        "\n",
        "class swsl_resnext101_32x4d(nn.Module):\n",
        "\n",
        "    def __init__(self):\n",
        "        super().__init__()\n",
        "        self.model = timm.create_model('swsl_resnext101_32x4d', pretrained=True)\n",
        "        in_features = self.model.fc.in_features\n",
        "        self.model.fc = nn.Linear(in_features, 1)\n",
        "\n",
        "    def forward(self, x):\n",
        "        return self.model(x)\n",
        "\n",
        "class swsl_resnext101_32x4d_Mod(nn.Module):\n",
        "\n",
        "    def __init__(self):\n",
        "        super().__init__()\n",
        "        self.model = timm.create_model('swsl_resnext101_32x4d', pretrained=True)\n",
        "        in_features = self.model.fc.in_features\n",
        "        self.model.fc = nn.Linear(in_features, int(in_features/2))\n",
        "        self.bn_1 = nn.BatchNorm1d(int(in_features/2))\n",
        "        self.relu_1 = nn.ReLU()\n",
        "        self.drop_1 = nn.Dropout(0.2)\n",
        "        self.fc_2 = nn.Linear(int(in_features/2), 1)\n",
        "\n",
        "    def forward(self, x):\n",
        "        x = self.model(x)\n",
        "        x = self.bn_1(x)\n",
        "        x = self.relu_1(x)\n",
        "        x = self.drop_1(x)\n",
        "        x = self.fc_2(x)\n",
        "        return x\n",
        "\n",
        "class Tf_efficientnet_b5(nn.Module):\n",
        "\n",
        "    def __init__(self):\n",
        "        super().__init__()\n",
        "        self.model = timm.create_model('tf_efficientnet_b5', pretrained=True)\n",
        "        in_features = self.model.classifier.in_features\n",
        "        self.model.classifier = nn.Linear(in_features, 1)\n",
        "\n",
        "    def forward(self, x):\n",
        "        return self.model(x)\n",
        "\n",
        "class Tf_efficientnet_b5_Mod(nn.Module):\n",
        "\n",
        "    def __init__(self):\n",
        "        super().__init__()\n",
        "        self.model = timm.create_model('tf_efficientnet_b5', pretrained=True)\n",
        "        in_features = self.model.classifier.in_features\n",
        "        self.model.classifier = nn.Linear(in_features, int(in_features/2))\n",
        "        self.bn_1 = nn.BatchNorm1d(int(in_features/2))\n",
        "        self.relu_1 = nn.ReLU()\n",
        "        self.drop_1 = nn.Dropout(0.2)\n",
        "        self.fc_2 = nn.Linear(int(in_features/2), 1)\n",
        "\n",
        "    def forward(self, x):\n",
        "        x = self.model(x)\n",
        "        x = self.bn_1(x)\n",
        "        x = self.relu_1(x)\n",
        "        x = self.drop_1(x)\n",
        "        x = self.fc_2(x)\n",
        "        return x\n",
        "\n",
        "class Tf_efficientnet_b5_ns_Mod(nn.Module):\n",
        "\n",
        "    def __init__(self):\n",
        "        super().__init__()\n",
        "        self.model = timm.create_model('tf_efficientnet_b5_ns', pretrained=True)\n",
        "        in_features = self.model.classifier.in_features\n",
        "        self.model.classifier = nn.Linear(in_features, int(in_features/2))\n",
        "        self.bn_1 = nn.BatchNorm1d(int(in_features/2))\n",
        "        self.relu_1 = nn.ReLU()\n",
        "        self.drop_1 = nn.Dropout(0.2)\n",
        "        self.fc_2 = nn.Linear(int(in_features/2), 1)\n",
        "\n",
        "    def forward(self, x):\n",
        "        x = self.model(x)\n",
        "        x = self.bn_1(x)\n",
        "        x = self.relu_1(x)\n",
        "        x = self.drop_1(x)\n",
        "        x = self.fc_2(x)\n",
        "        return x\n",
        "\n",
        "#Encoder\n",
        "#--Neck--\n",
        "#BatchNorm\n",
        "#Linear\n",
        "#---\n",
        "#Relu\n",
        "#BatchNorm\n",
        "#Linear\n",
        "#BatchNorm\n",
        "#--Head--\n",
        "#Linear heads"
      ],
      "execution_count": 0,
      "outputs": []
    },
    {
      "cell_type": "markdown",
      "metadata": {
        "id": "ndmsl1XUrWFp",
        "colab_type": "text"
      },
      "source": [
        "## Custom Losses"
      ]
    },
    {
      "cell_type": "code",
      "metadata": {
        "id": "IICyzNqJrZnl",
        "colab_type": "code",
        "colab": {}
      },
      "source": [
        "class FocalLoss(nn.Module):\n",
        "    def __init__(self, alpha=1, gamma=2, logits=True, reduce=True):\n",
        "        super(FocalLoss, self).__init__()\n",
        "        self.alpha = alpha\n",
        "        self.gamma = gamma\n",
        "        self.logits = logits\n",
        "        self.reduce = reduce\n",
        "\n",
        "    def forward(self, inputs, targets):\n",
        "        if self.logits:\n",
        "            BCE_loss = F.binary_cross_entropy_with_logits(inputs, targets, reduction='none')\n",
        "        else:\n",
        "            BCE_loss = F.binary_cross_entropy(inputs, targets, reduction='none')\n",
        "        pt = torch.exp(-BCE_loss)\n",
        "        F_loss = self.alpha * (1-pt)**self.gamma * BCE_loss\n",
        "\n",
        "        if self.reduce:\n",
        "            return torch.mean(F_loss)\n",
        "        else:\n",
        "            return F_loss\n",
        "\n",
        "def ohem_loss(cls_pred, cls_target, rate):\n",
        "    ohem_cls_loss = F.binary_cross_entropy_with_logits(cls_pred, cls_target, reduction='none')\n",
        "    batch_size = cls_pred.size(0)\n",
        "    sorted_ohem_loss, idx = torch.sort(ohem_cls_loss, descending=True)\n",
        "    keep_num = min(sorted_ohem_loss.size()[0], int(batch_size*rate))\n",
        "    if keep_num < sorted_ohem_loss.size()[0]:\n",
        "        keep_idx_cuda = idx[:keep_num]\n",
        "        ohem_cls_loss = ohem_cls_loss[keep_idx_cuda]\n",
        "    cls_loss = ohem_cls_loss.sum() / keep_num\n",
        "    return cls_loss\n",
        "\n",
        "def cutmix_mixup_criterion(preds1, targets, rate=0.7, epsilon=0.05):\n",
        "    targets1, targets2, lam = targets[0], targets[1], targets[2]\n",
        "    #loss = lam * smooth_ohem_criterion(preds1, targets1, rate, epsilon) + (1 - lam) * smooth_ohem_criterion(preds1, targets2, rate, epsilon)\n",
        "    loss = lam * smooth_criterion(preds1, targets1, epsilon) + (1 - lam) * smooth_criterion(preds1, targets2, epsilon)\n",
        "    return loss\n",
        "\n",
        "\n",
        "def smooth_ohem_criterion(y_pred, y_true, rate, e):\n",
        "    e = torch.tensor(e).to(device)\n",
        "    y_true = torch.where(y_true == 0, e, y_true)\n",
        "    y_true = torch.where(y_true == 1, (1-e), y_true)\n",
        "    return ohem_loss(y_pred, y_true, rate)\n",
        "\n",
        "def smooth_criterion(y_pred, y_true, e=0.05):\n",
        "    e = torch.tensor(e).to(device)\n",
        "    y_true = torch.where(y_true == 0, e, y_true)\n",
        "    y_true = torch.where(y_true == 1, (1-e), y_true)\n",
        "    return nn.BCEWithLogitsLoss()(y_pred, y_true)\n",
        "\n",
        "def criterion(y_pred, y_true):\n",
        "    return nn.BCEWithLogitsLoss()(y_pred, y_true)\n",
        "\n",
        "def focal_criterion(y_pred, y_true):\n",
        "    return FocalLoss()(y_pred, y_true)\n",
        "\n",
        "def rank_loss(y_pred, y_true):\n",
        "    margin = 0.5\n",
        "    #pos = torch.where(y_pred>margin, 1, 0)\n",
        "    #neg = torch.where(y_pred<margin, 1, 0)\n",
        "    return -F.logsigmoid(y_pred - y_true).mean()"
      ],
      "execution_count": 0,
      "outputs": []
    },
    {
      "cell_type": "markdown",
      "metadata": {
        "id": "Tub6p0D-qdYU",
        "colab_type": "text"
      },
      "source": [
        "## Train script"
      ]
    },
    {
      "cell_type": "code",
      "metadata": {
        "id": "h-VtUtpsycpH",
        "colab_type": "code",
        "colab": {}
      },
      "source": [
        "device = torch.device('cuda') if torch.cuda.is_available() else torch.device('cpu')\n",
        "\n",
        "def get_datasets(X_train, y_train, X_val, y_val):\n",
        "    datasets = {}\n",
        "    datasets['train'] = MelanomaDataset(\n",
        "        X_train, y_train, isEval=False, transform=strong_aug()\n",
        "    ) #strong_aug get_train_transform\n",
        "    datasets['valid'] = MelanomaDataset(\n",
        "        X_val, y_val, isEval=False, transform=get_valid_transform()\n",
        "    )\n",
        "    return datasets\n",
        "\n",
        "def train_one_epoch(loader, model, optimizer, epoch, scheduler=None, scaler=None, log=True):\n",
        "    model.train()\n",
        "    running_loss = 0.0\n",
        "    for idx, (images, targets) in tqdm(enumerate(loader), total=len(loader)): #\n",
        "        images = images.to(device)\n",
        "        targets = targets.to(device)#.unsqueeze(1)\n",
        "        \n",
        "        optimizer.zero_grad()\n",
        "\n",
        "        y_pred = model(images.float())\n",
        "        loss = rank_loss(y_pred, targets)\n",
        "        #if np.random.rand()<0.33:\n",
        "        #    if np.random.rand()<0.5:\n",
        "        #        images, targets = cutmix(images, targets)\n",
        "        #    else:\n",
        "        #         images, targets = mixup(images, targets)\n",
        "        #    y_pred = model(images.float())\n",
        "        #    #if epoch<9:\n",
        "        #    loss = cutmix_mixup_criterion(y_pred, targets, None, 0.05)\n",
        "        #    #else:\n",
        "        #    #    loss = cutmix_mixup_criterion(y_pred, targets, 0.9, 0.)\n",
        "        #else:\n",
        "        #    y_pred = model(images.float())\n",
        "        #    #if epoch<9:\n",
        "        #    #loss = smooth_ohem_criterion(y_pred, targets, 1.0, 0.)   \n",
        "        #    loss = smooth_criterion(y_pred, targets, 0.05)\n",
        "        #    #else:\n",
        "        #    #    loss = smooth_ohem_criterion(y_pred, targets, 0.9, 0.)\n",
        "\n",
        "        running_loss += float(loss)\n",
        "        \n",
        "        if scaler:\n",
        "            scaler.scale(loss).backward()\n",
        "            scaler.step(optimizer)\n",
        "            scaler.update()\n",
        "        else:\n",
        "            loss.backward()\n",
        "            optimizer.step()\n",
        "\n",
        "        if scheduler is not None:\n",
        "            scheduler.step()\n",
        "        \n",
        "        if log:\n",
        "            neptune.log_metric(\"Loss/train\", float(loss))\n",
        "\n",
        "    return running_loss/len(loader)\n",
        "\n",
        "def val_one_epoch(loader, model):\n",
        "    model.eval()\n",
        "    running_loss = 0.0\n",
        "    y_preds_list = []\n",
        "    targets_list = []\n",
        "    with torch.no_grad():\n",
        "        for idx, (images, targets) in tqdm(enumerate(loader), total=len(loader)):\n",
        "            images = images.to(device)\n",
        "            targets = targets.to(device)#.unsqueeze(1)\n",
        "            \n",
        "            y_pred = model(images.float())\n",
        "            loss = criterion(y_pred, targets)\n",
        "            \n",
        "            running_loss += float(loss)\n",
        "            y_preds_list.append(torch.sigmoid(y_pred).cpu().numpy())\n",
        "            targets_list.append(targets.cpu().numpy())\n",
        "        y_true = np.vstack(targets_list)\n",
        "        y_pred = np.vstack(y_preds_list)\n",
        "        auc_score = roc_auc_score(y_true, y_pred)\n",
        "        #auc_score = fast_auc(y_true, y_pred)\n",
        "        roc_plot = plot_roc(y_true, y_pred)\n",
        "        print(f'roc_auc_score: {auc_score}')\n",
        "        print(f'average loss for val epoch: {running_loss/len(loader)}')\n",
        "    return running_loss/len(loader), auc_score, roc_plot\n",
        "   \n",
        "def save_upload(model, optimizer, best_score, epoch, fold=None, exp_name='model'):\n",
        "    if fold:\n",
        "        NAME = 'siim-isic_'+exp_name+f'_fold_{str(fold+1)}_{str(epoch+1)}.ckpt'\n",
        "    NAME = 'siim-isic_'+exp_name+f'_{str(epoch+1)}.ckpt'\n",
        "    MODEL_PATH = NAME\n",
        "    torch.save({\n",
        "        'epoch': epoch,\n",
        "        'model_state_dict': model.state_dict(),\n",
        "        'optimizer_state_dict': optimizer.state_dict(),\n",
        "    }, MODEL_PATH)\n",
        "    print(f\"Saved ckpt for epoch {epoch+1}, new best score: {best_score}\")\n",
        "    upload_blob(MODEL_PATH, NAME)\n",
        "    print(f\"Uploaded ckpt for epoch {epoch+1}\")\n"
      ],
      "execution_count": 0,
      "outputs": []
    },
    {
      "cell_type": "code",
      "metadata": {
        "id": "1TggTDLcOxUT",
        "colab_type": "code",
        "colab": {}
      },
      "source": [
        "FLAGS = {}\n",
        "FLAGS['batch_size'] = 32\n",
        "FLAGS['num_workers'] = 4\n",
        "FLAGS['learning_rate'] = 3e-4\n",
        "FLAGS['num_epochs'] = 20\n",
        "FLAGS['weight_decay'] = 5e-4\n",
        "FLAGS['momentum'] = 0.9\n",
        "FLAGS['log_interval'] = 175\n",
        "FLAGS['img_size'] = IMG_SIZE\n",
        "FLAGS['loss'] = 'BCE unbalanced hard label ohem'\n",
        "FLAGS['optimizer'] = 'AdamW'\n",
        "FLAGS['exp_name'] = 'Tf_efficientnet_b2_ns'\n",
        "FLAGS['fold'] = 'N/A'\n",
        "exp_description = '''\n",
        "Tf_efficientnet_b2_ns with base head,\n",
        "Extra Data + Color fix\n",
        "hard label ohem \n",
        "cutmix + mixup\n",
        "RandomWeightedSampler,\n",
        "RandomGridShuffle + more strong_aug p=1.0,\n",
        "imsize 260\n",
        "'''\n",
        "def fit(X_train, y_train, X_val, y_val, fold=None, log=True):\n",
        "    exp_name = FLAGS['exp_name']\n",
        "    best_score = 0.0\n",
        "\n",
        "    #model = Tf_efficientnet_b1_Mod().to(device)\n",
        "    model = Tf_efficientnet_b2_ns().to(device)\n",
        "    #model = Tf_efficientnet_b3_ns().to(device)\n",
        "    #model = swsl_resnext101_32x4d().to(device)\n",
        "    #model = gluon_seresnext50_32x4d().to(device)\n",
        "    if log:\n",
        "        neptune.init('utsav/SIIM-ISIC', api_token=NEPTUNE_API_TOKEN)\n",
        "        neptune.create_experiment(\n",
        "            exp_name, exp_description, params=FLAGS,\n",
        "            upload_source_files='*.txt'\n",
        "        )\n",
        "    \n",
        "    #optimizer = torch.optim.SGD(\n",
        "    #    model.parameters(), lr=FLAGS['learning_rate'], \n",
        "    #    momentum=FLAGS['momentum'], \n",
        "    #    weight_decay=FLAGS['weight_decay']\n",
        "    #)\n",
        "    optimizer = torch.optim.AdamW(\n",
        "        model.parameters(), \n",
        "        lr=FLAGS['learning_rate'], \n",
        "        weight_decay=FLAGS['weight_decay']\n",
        "    )\n",
        "\n",
        "    # scheduler = ...\n",
        "    # todo ...\n",
        "    \n",
        "    datasets = get_datasets(X_train, y_train, X_val, y_val)\n",
        "    \n",
        "    #sampler\n",
        "    #labels_vcount = pd.Series(y_train).value_counts()\n",
        "    labels_vcount = y_train['target'].value_counts()\n",
        "    class_counts = [labels_vcount[0].astype(np.float32), labels_vcount[1].astype(np.float32)]\n",
        "    num_samples = sum(class_counts)\n",
        "    class_weights = [num_samples/class_counts[i] for i in range(len(class_counts))]\n",
        "    weights = [class_weights[y_train['target'].values[i]] for i in range(int(num_samples))]\n",
        "    sampler = WeightedRandomSampler(torch.DoubleTensor(weights), int(num_samples))\n",
        "    \n",
        "    #loaders\n",
        "    train_loader = DataLoader(\n",
        "        datasets['train'], batch_size=FLAGS['batch_size'], \n",
        "        num_workers=FLAGS['num_workers'],\n",
        "        sampler=sampler,\n",
        "        pin_memory=True,\n",
        "    )\n",
        "    val_loader = DataLoader(\n",
        "        datasets['valid'], batch_size=32, shuffle=False, \n",
        "        num_workers=FLAGS['num_workers'], drop_last=True\n",
        "    )\n",
        "\n",
        "    scaler = GradScaler()\n",
        "    #train loop\n",
        "    for epoch in range(0, FLAGS['num_epochs']):\n",
        "\n",
        "        print('-'*27 + f'Epoch #{epoch+1} started' + '-'*27)\n",
        "        \n",
        "        train_loss = train_one_epoch(\n",
        "            train_loader, \n",
        "            model, optimizer, \n",
        "            epoch, scheduler=None, \n",
        "            scaler=scaler, log=log\n",
        "        )\n",
        "        \n",
        "        print()\n",
        "        print(f'Average loss for epoch #{epoch+1} : {train_loss}')\n",
        "        val_loss, auc_score, roc_plot = val_one_epoch(val_loader, model)\n",
        "        \n",
        "        #logs\n",
        "        if log:\n",
        "            neptune.log_metric('AUC/val', auc_score)\n",
        "            neptune.log_image('ROC/val', roc_plot)\n",
        "            neptune.log_metric('Loss/val', val_loss)\n",
        "\n",
        "        #checkpoint+upload\n",
        "        if (auc_score > best_score) or (best_score-auc_score<0.02):\n",
        "            if auc_score > best_score:\n",
        "                best_score = auc_score\n",
        "            save_upload(\n",
        "                model, optimizer, \n",
        "                best_score, epoch,\n",
        "                fold, exp_name=exp_name\n",
        "            )\n",
        "            \n",
        "        print('-'*28 + f'Epoch #{epoch+1} ended' + '-'*28)\n",
        "    if log:\n",
        "        neptune.stop()\n",
        "    return model\n"
      ],
      "execution_count": 0,
      "outputs": []
    },
    {
      "cell_type": "markdown",
      "metadata": {
        "id": "WmLSHZZdS_1i",
        "colab_type": "text"
      },
      "source": [
        "## Train"
      ]
    },
    {
      "cell_type": "code",
      "metadata": {
        "id": "uefZZPDW7AF-",
        "colab_type": "code",
        "colab": {}
      },
      "source": [
        "# 5 fold CV\n",
        "# for fold in range(5):\n",
        "#     print('='*27 + f'Fold #{fold+1} started' + '='*27)\n",
        "#     X_train = df_train[df_train['fold'] != fold][[col for col in df_train.columns if col != 'target']]\n",
        "#     y_train = df_train[df_train['fold'] != fold][[col for col in df_train.columns if col == 'target']]\n",
        "#     X_val = df_train[df_train['fold'] == fold][[col for col in df_train.columns if col != 'target']]\n",
        "#     y_val = df_train[df_train['fold'] == fold][[col for col in df_train.columns if col == 'target']]\n",
        "#     FLAGS['fold'] = str(fold+1) \n",
        "#     \n",
        "#     trained_model = train_job(X_train, y_train, X_val, y_val, log=log)\n",
        "# \n",
        "#     print('='*27 + f'Fold #{fold+1} ended' + '='*27)\n",
        "#neptune.stop()"
      ],
      "execution_count": 0,
      "outputs": []
    },
    {
      "cell_type": "code",
      "metadata": {
        "id": "AHJtNpfOUdqD",
        "colab_type": "code",
        "colab": {}
      },
      "source": [
        "log = True\n",
        "try:\n",
        "    trained_model = fit(X_train, y_train, X_val, y_val, log=log)\n",
        "except Exception as e:\n",
        "    if log:\n",
        "        neptune.stop()\n",
        "    print(e)\n",
        "except KeyboardInterrupt:\n",
        "    if log:\n",
        "       neptune.stop()"
      ],
      "execution_count": 0,
      "outputs": []
    },
    {
      "cell_type": "markdown",
      "metadata": {
        "id": "6MPMH0blnHpK",
        "colab_type": "text"
      },
      "source": [
        "## Inference"
      ]
    },
    {
      "cell_type": "code",
      "metadata": {
        "id": "fBuDaNX9wP9-",
        "colab_type": "code",
        "colab": {}
      },
      "source": [
        "#trained_model = ResNet34Mod()\n",
        "def run_test(model, test_images, ckpts):\n",
        "    agg_predictions = []\n",
        "    for ckpt in ckpts:\n",
        "        model.load_state_dict(torch.load(ckpt)['model_state_dict'])\n",
        "        model.to(device).eval()\n",
        "        test_dataset = MelanomaDataset(test_images, labels=None, isEval=True, transform=get_valid_transform())\n",
        "        test_data_loader = DataLoader(\n",
        "            test_dataset, batch_size=256, shuffle=False, \n",
        "            num_workers=4, pin_memory=True\n",
        "        )\n",
        "        predictions = []\n",
        "        with torch.no_grad():\n",
        "            for images in tqdm(test_data_loader, total=len(test_data_loader)):\n",
        "                images = images.to(device)\n",
        "                y_pred = torch.sigmoid(model(images.float()))\n",
        "                predictions.append(y_pred.cpu().numpy())\n",
        "        predictions = np.vstack(predictions)\n",
        "        plt.hist(predictions.T[0],bins=100)\n",
        "        plt.ylim((0,500))\n",
        "        plt.show()\n",
        "        agg_predictions.append(predictions)\n",
        "    #can be vectorized\n",
        "    #avg_predictions = agg_predictions[0]\n",
        "    #avg_predictions = 0\n",
        "    avg_predictions = 0\n",
        "    for predictions in agg_predictions:\n",
        "        #avg_predictions = np.multiply(avg_predictions, predictions).astype(np.float64)\n",
        "        avg_predictions = np.add(avg_predictions, predictions).astype(np.float64)\n",
        "    #avg_predictions = np.power(avg_predictions, (1/float(len(agg_predictions))))\n",
        "    avg_predictions = np.divide(avg_predictions, float(len(agg_predictions)))\n",
        "    print('average:')\n",
        "    plt.hist(avg_predictions.T[0],bins=100)\n",
        "    plt.ylim((0,500))\n",
        "    plt.show()\n",
        "    return avg_predictions"
      ],
      "execution_count": 0,
      "outputs": []
    },
    {
      "cell_type": "code",
      "metadata": {
        "id": "ZKkVq0VNc_VG",
        "colab_type": "code",
        "outputId": "da26e4cd-2587-4dbf-c8c2-6f002fb90199",
        "colab": {
          "base_uri": "https://localhost:8080/",
          "height": 1000
        }
      },
      "source": [
        "ckpts = [\n",
        "         '/content/siim-isic_Tf_efficientnet_b2_ns_3.ckpt',\n",
        "         '/content/siim-isic_Tf_efficientnet_b2_ns_4.ckpt',\n",
        "         '/content/siim-isic_Tf_efficientnet_b2_ns_6.ckpt',\n",
        "         '/content/siim-isic_Tf_efficientnet_b2_ns_9.ckpt',\n",
        "        ]\n",
        "trained_model = Tf_efficientnet_b2_ns().to(device)\n",
        "#avg_predictions = run_test(trained_model, test_images, ckpts)\n",
        "avg_predictions = run_test(trained_model, df_test, ckpts)"
      ],
      "execution_count": 0,
      "outputs": [
        {
          "output_type": "stream",
          "text": [
            "100%|██████████| 43/43 [00:38<00:00,  1.11it/s]\n"
          ],
          "name": "stderr"
        },
        {
          "output_type": "display_data",
          "data": {
            "image/png": "[encoded data removed]",
            "text/plain": [
              "<Figure size 432x288 with 1 Axes>"
            ]
          },
          "metadata": {
            "tags": [],
            "needs_background": "light"
          }
        },
        {
          "output_type": "stream",
          "text": [
            "100%|██████████| 43/43 [00:37<00:00,  1.14it/s]\n"
          ],
          "name": "stderr"
        },
        {
          "output_type": "display_data",
          "data": {
            "image/png": "[encoded data removed]",
            "text/plain": [
              "<Figure size 432x288 with 1 Axes>"
            ]
          },
          "metadata": {
            "tags": [],
            "needs_background": "light"
          }
        },
        {
          "output_type": "stream",
          "text": [
            "100%|██████████| 43/43 [00:37<00:00,  1.15it/s]\n"
          ],
          "name": "stderr"
        },
        {
          "output_type": "display_data",
          "data": {
            "image/png": "[encoded data removed]",
            "text/plain": [
              "<Figure size 432x288 with 1 Axes>"
            ]
          },
          "metadata": {
            "tags": [],
            "needs_background": "light"
          }
        },
        {
          "output_type": "stream",
          "text": [
            "100%|██████████| 43/43 [00:36<00:00,  1.16it/s]\n"
          ],
          "name": "stderr"
        },
        {
          "output_type": "display_data",
          "data": {
            "image/png": "[encoded data removed]",
            "text/plain": [
              "<Figure size 432x288 with 1 Axes>"
            ]
          },
          "metadata": {
            "tags": [],
            "needs_background": "light"
          }
        },
        {
          "output_type": "stream",
          "text": [
            "average:\n"
          ],
          "name": "stdout"
        },
        {
          "output_type": "display_data",
          "data": {
            "image/png": "[encoded data removed]",
            "text/plain": [
              "<Figure size 432x288 with 1 Axes>"
            ]
          },
          "metadata": {
            "tags": [],
            "needs_background": "light"
          }
        }
      ]
    },
    {
      "cell_type": "code",
      "metadata": {
        "id": "Z4egqmO9ChuY",
        "colab_type": "code",
        "outputId": "df118ecb-59d0-4078-9aaa-5d137a24eb7d",
        "colab": {
          "base_uri": "https://localhost:8080/",
          "height": 167
        }
      },
      "source": [
        "pd.Series(avg_predictions.T[0]).describe()"
      ],
      "execution_count": 0,
      "outputs": [
        {
          "output_type": "execute_result",
          "data": {
            "text/plain": [
              "count    10982.000000\n",
              "mean         0.125315\n",
              "std          0.178972\n",
              "min          0.000518\n",
              "25%          0.008933\n",
              "50%          0.037047\n",
              "75%          0.181104\n",
              "max          0.989767\n",
              "dtype: float64"
            ]
          },
          "metadata": {
            "tags": []
          },
          "execution_count": 31
        }
      ]
    },
    {
      "cell_type": "code",
      "metadata": {
        "id": "J_Gd9ZY9t6Os",
        "colab_type": "code",
        "outputId": "e4121a96-6bba-4f3e-a78f-1c996c9a641e",
        "colab": {
          "base_uri": "https://localhost:8080/",
          "height": 67
        }
      },
      "source": [
        "pd.Series(np.where(avg_predictions>0.5,1,0).T[0]).value_counts()"
      ],
      "execution_count": 0,
      "outputs": [
        {
          "output_type": "execute_result",
          "data": {
            "text/plain": [
              "0    10496\n",
              "1      486\n",
              "dtype: int64"
            ]
          },
          "metadata": {
            "tags": []
          },
          "execution_count": 103
        }
      ]
    },
    {
      "cell_type": "code",
      "metadata": {
        "id": "VIX7N7l3uCHs",
        "colab_type": "code",
        "colab": {}
      },
      "source": [
        "sample_submission.target = avg_predictions.T[0].T"
      ],
      "execution_count": 0,
      "outputs": []
    },
    {
      "cell_type": "code",
      "metadata": {
        "id": "0z1-VMhauVUM",
        "colab_type": "code",
        "colab": {}
      },
      "source": [
        "sample_submission.to_csv('submission.csv', index=False)"
      ],
      "execution_count": 0,
      "outputs": []
    },
    {
      "cell_type": "code",
      "metadata": {
        "id": "Iuo-xqyru-zW",
        "colab_type": "code",
        "outputId": "16131d9d-2968-477f-9c89-92ca39d729eb",
        "colab": {
          "base_uri": "https://localhost:8080/",
          "height": 404
        }
      },
      "source": [
        "pd.read_csv('submission.csv')"
      ],
      "execution_count": 0,
      "outputs": [
        {
          "output_type": "execute_result",
          "data": {
            "text/html": [
              "<div>\n",
              "<style scoped>\n",
              "    .dataframe tbody tr th:only-of-type {\n",
              "        vertical-align: middle;\n",
              "    }\n",
              "\n",
              "    .dataframe tbody tr th {\n",
              "        vertical-align: top;\n",
              "    }\n",
              "\n",
              "    .dataframe thead th {\n",
              "        text-align: right;\n",
              "    }\n",
              "</style>\n",
              "<table border=\"1\" class=\"dataframe\">\n",
              "  <thead>\n",
              "    <tr style=\"text-align: right;\">\n",
              "      <th></th>\n",
              "      <th>image_name</th>\n",
              "      <th>target</th>\n",
              "    </tr>\n",
              "  </thead>\n",
              "  <tbody>\n",
              "    <tr>\n",
              "      <th>0</th>\n",
              "      <td>ISIC_0052060</td>\n",
              "      <td>0.008950</td>\n",
              "    </tr>\n",
              "    <tr>\n",
              "      <th>1</th>\n",
              "      <td>ISIC_0052349</td>\n",
              "      <td>0.014407</td>\n",
              "    </tr>\n",
              "    <tr>\n",
              "      <th>2</th>\n",
              "      <td>ISIC_0058510</td>\n",
              "      <td>0.002553</td>\n",
              "    </tr>\n",
              "    <tr>\n",
              "      <th>3</th>\n",
              "      <td>ISIC_0073313</td>\n",
              "      <td>0.002736</td>\n",
              "    </tr>\n",
              "    <tr>\n",
              "      <th>4</th>\n",
              "      <td>ISIC_0073502</td>\n",
              "      <td>0.041002</td>\n",
              "    </tr>\n",
              "    <tr>\n",
              "      <th>...</th>\n",
              "      <td>...</td>\n",
              "      <td>...</td>\n",
              "    </tr>\n",
              "    <tr>\n",
              "      <th>10977</th>\n",
              "      <td>ISIC_9992485</td>\n",
              "      <td>0.019260</td>\n",
              "    </tr>\n",
              "    <tr>\n",
              "      <th>10978</th>\n",
              "      <td>ISIC_9996992</td>\n",
              "      <td>0.023127</td>\n",
              "    </tr>\n",
              "    <tr>\n",
              "      <th>10979</th>\n",
              "      <td>ISIC_9997917</td>\n",
              "      <td>0.038641</td>\n",
              "    </tr>\n",
              "    <tr>\n",
              "      <th>10980</th>\n",
              "      <td>ISIC_9998234</td>\n",
              "      <td>0.031444</td>\n",
              "    </tr>\n",
              "    <tr>\n",
              "      <th>10981</th>\n",
              "      <td>ISIC_9999302</td>\n",
              "      <td>0.329892</td>\n",
              "    </tr>\n",
              "  </tbody>\n",
              "</table>\n",
              "<p>10982 rows × 2 columns</p>\n",
              "</div>"
            ],
            "text/plain": [
              "         image_name    target\n",
              "0      ISIC_0052060  0.008950\n",
              "1      ISIC_0052349  0.014407\n",
              "2      ISIC_0058510  0.002553\n",
              "3      ISIC_0073313  0.002736\n",
              "4      ISIC_0073502  0.041002\n",
              "...             ...       ...\n",
              "10977  ISIC_9992485  0.019260\n",
              "10978  ISIC_9996992  0.023127\n",
              "10979  ISIC_9997917  0.038641\n",
              "10980  ISIC_9998234  0.031444\n",
              "10981  ISIC_9999302  0.329892\n",
              "\n",
              "[10982 rows x 2 columns]"
            ]
          },
          "metadata": {
            "tags": []
          },
          "execution_count": 106
        }
      ]
    },
    {
      "cell_type": "markdown",
      "metadata": {
        "id": "Z-vHUPPBuLHf",
        "colab_type": "text"
      },
      "source": [
        "## Submit to Kaggle"
      ]
    },
    {
      "cell_type": "code",
      "metadata": {
        "id": "FhtkQ_LVYp0V",
        "colab_type": "code",
        "outputId": "2e8932ac-44fa-49c8-c810-d1fec6962b42",
        "colab": {
          "base_uri": "https://localhost:8080/",
          "height": 50
        }
      },
      "source": [
        "!kaggle competitions submit -c siim-isic-melanoma-classification -f submission.csv -m {'Exp_89_EffNetB2_3,4,6,9_geo-mean'}"
      ],
      "execution_count": 0,
      "outputs": [
        {
          "output_type": "stream",
          "text": [
            "100% 359k/359k [00:05<00:00, 62.6kB/s]\n",
            "Successfully submitted to SIIM-ISIC Melanoma Classification"
          ],
          "name": "stdout"
        }
      ]
    },
    {
      "cell_type": "code",
      "metadata": {
        "id": "g1mV4vyTfv9l",
        "colab_type": "code",
        "outputId": "312b0987-29ea-4963-ef45-15b6839e18ba",
        "colab": {
          "base_uri": "https://localhost:8080/",
          "height": 385
        }
      },
      "source": [
        "!kaggle competitions submissions siim-isic-melanoma-classification"
      ],
      "execution_count": 0,
      "outputs": [
        {
          "output_type": "stream",
          "text": [
            "fileName        date                 description                                                      status    publicScore  privateScore  \n",
            "--------------  -------------------  ---------------------------------------------------------------  --------  -----------  ------------  \n",
            "submission.csv  2020-06-07 14:02:32  Exp_89_EffNetB2_3,4,6,9_geo-mean                                 complete  0.880        None          \n",
            "submission.csv  2020-06-07 12:55:53  Exp_89_EffNetB2_3,4,6,9_avg                                      complete  0.883        None          \n",
            "submission.csv  2020-06-07 12:51:01  Exp_89_EffNetB2_19                                               complete  0.865        None          \n",
            "submission.csv  2020-06-07 05:44:25  Tf_efficientnet_b2_ns_extradat_regularized_ckpt_5_6_9_avg        complete  0.904        None          \n",
            "submission.csv  2020-06-07 05:32:45  Tf_efficientnet_b2_ns_extradat_regularized_ckpt_2_3_4_5_6_9_avg  complete  0.907        None          \n",
            "submission.csv  2020-06-06 04:03:18  Tf_efficientnet_b3_Mod_extradat_regularized_ckpt_4_6_8_avg       complete  0.903        None          \n",
            "submission.csv  2020-06-05 20:11:55  Tf_efficientnet_b1_Mod_extradat_regularized_ckpt_5               complete  0.881        None          \n",
            "submission.csv  2020-06-05 20:05:08  Tf_efficientnet_b5_ns_Mod_extradat_regularized_avg_ckpt_5+7      complete  0.887        None          \n",
            "submission.csv  2020-06-05 12:17:45  Tf_efficientnet_b1_Mod_regularized_focal_ckpt_4                  complete  0.860        None          \n",
            "submission.csv  2020-06-05 11:04:07  Tf_efficientnet_b1_Mod_regularized_avg_ckpt_4+6                  complete  0.904        None          \n",
            "submission.csv  2020-06-05 09:42:13  Tf_efficientnet_b1_Mod_avg_ckpt_4+6                              complete  0.879        None          \n",
            "submission.csv  2020-06-03 11:23:37  eff0_eff1_avg                                                    complete  0.889        None          \n",
            "submission.csv  2020-06-03 09:14:10  eff_res_avg                                                      complete  0.898        None          \n",
            "submission.csv  2020-06-03 08:59:57  swsl_resnext101_32x4d_Mod_avg_ckpt_9+10                          complete  0.887        None          \n",
            "submission.csv  2020-06-03 07:45:59  swsl_resnext101_32x4d_avg_ckpt_6+8+9                             complete  0.872        None          \n",
            "submission.csv  2020-06-03 06:00:00  Tf_efficientnet_b0_Mod_avg_ckpt_6+8+9                            complete  0.891        None          \n",
            "submission.csv  2020-06-02 15:46:05  Tf_efficientnet_b1_ckpt_9                                        complete  0.875        None          \n",
            "submission.csv  2020-06-02 15:40:04  Tf_efficientnet_b1_ckpt_4                                        complete  0.882        None          \n",
            "submission.csv  2020-06-01 19:40:10  resnet50mod_fc_1_drop_focal_strong_aug                           complete  0.872        None          \n",
            "submission.csv  2020-06-01 17:31:28  resnet34mod_fc_1_drop_focal                                      complete  0.840        None          \n"
          ],
          "name": "stdout"
        }
      ]
    },
    {
      "cell_type": "code",
      "metadata": {
        "id": "waAtcELef00L",
        "colab_type": "code",
        "colab": {}
      },
      "source": [
        ""
      ],
      "execution_count": 0,
      "outputs": []
    }
  ]
}