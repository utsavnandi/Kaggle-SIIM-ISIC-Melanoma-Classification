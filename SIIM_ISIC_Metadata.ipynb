{
  "nbformat": 4,
  "nbformat_minor": 0,
  "metadata": {
    "colab": {
      "name": "SIIM-ISIC Metadata.ipynb",
      "provenance": [],
      "collapsed_sections": []
    },
    "kernelspec": {
      "name": "python3",
      "display_name": "Python 3"
    }
  },
  "cells": [
    {
      "cell_type": "code",
      "metadata": {
        "id": "f2gpOsdn3KPT",
        "colab_type": "code",
        "colab": {}
      },
      "source": [
        "#!pip install pytorch-tabnet -q\n",
        "import numpy as np\n",
        "import pandas as pd\n",
        "import random\n",
        "from sklearn.preprocessing import LabelEncoder\n",
        "from xgboost import XGBClassifier\n",
        "#from pytorch_tabnet.tab_model import TabNetClassifier\n",
        "import seaborn as sns\n",
        "\n",
        "def seed_everything(seed):\n",
        "    random.seed(seed)\n",
        "    #os.environ['NEPTUNE_API_TOKEN'] = NEPTUNE_API_TOKEN\n",
        "    np.random.seed(seed)\n",
        "\n",
        "seed_everything(43)\n",
        "\n",
        "DATA_DIR = '/content/data/'"
      ],
      "execution_count": 0,
      "outputs": []
    },
    {
      "cell_type": "code",
      "metadata": {
        "id": "wydvTbS8VUXp",
        "colab_type": "code",
        "colab": {}
      },
      "source": [
        "df_train = pd.read_csv(DATA_DIR+'train.csv')\n",
        "df_test = pd.read_csv(DATA_DIR+'test.csv')"
      ],
      "execution_count": 0,
      "outputs": []
    },
    {
      "cell_type": "code",
      "metadata": {
        "id": "c4_NxfxFDVkO",
        "colab_type": "code",
        "outputId": "f2918cbb-960e-49ed-d6f2-c13f4f05976c",
        "colab": {
          "base_uri": "https://localhost:8080/",
          "height": 268
        }
      },
      "source": [
        "df_train.info()"
      ],
      "execution_count": 0,
      "outputs": [
        {
          "output_type": "stream",
          "text": [
            "<class 'pandas.core.frame.DataFrame'>\n",
            "RangeIndex: 33126 entries, 0 to 33125\n",
            "Data columns (total 8 columns):\n",
            " #   Column                         Non-Null Count  Dtype  \n",
            "---  ------                         --------------  -----  \n",
            " 0   image_name                     33126 non-null  object \n",
            " 1   patient_id                     33126 non-null  object \n",
            " 2   sex                            33126 non-null  object \n",
            " 3   age_approx                     33126 non-null  float64\n",
            " 4   anatom_site_general_challenge  33126 non-null  object \n",
            " 5   diagnosis                      33126 non-null  object \n",
            " 6   benign_malignant               33126 non-null  object \n",
            " 7   target                         33126 non-null  int64  \n",
            "dtypes: float64(1), int64(1), object(6)\n",
            "memory usage: 2.0+ MB\n"
          ],
          "name": "stdout"
        }
      ]
    },
    {
      "cell_type": "code",
      "metadata": {
        "id": "FLz8-e6yDdKz",
        "colab_type": "code",
        "outputId": "ee801958-29ba-4cf6-f09d-ab68dadd3fab",
        "colab": {
          "base_uri": "https://localhost:8080/",
          "height": 67
        }
      },
      "source": [
        "df_train['sex'].value_counts()"
      ],
      "execution_count": 0,
      "outputs": [
        {
          "output_type": "execute_result",
          "data": {
            "text/plain": [
              "male      17080\n",
              "female    15981\n",
              "Name: sex, dtype: int64"
            ]
          },
          "metadata": {
            "tags": []
          },
          "execution_count": 114
        }
      ]
    },
    {
      "cell_type": "code",
      "metadata": {
        "id": "oy8GB640JFn1",
        "colab_type": "code",
        "outputId": "82a9aef3-d3e1-4698-f9c7-ff3e3d049ef3",
        "colab": {
          "base_uri": "https://localhost:8080/",
          "height": 184
        }
      },
      "source": [
        "df_train['diagnosis'].value_counts()"
      ],
      "execution_count": 0,
      "outputs": [
        {
          "output_type": "execute_result",
          "data": {
            "text/plain": [
              "unknown                               27124\n",
              "nevus                                  5193\n",
              "melanoma                                584\n",
              "seborrheic keratosis                    135\n",
              "lentigo NOS                              44\n",
              "lichenoid keratosis                      37\n",
              "solar lentigo                             7\n",
              "atypical melanocytic proliferation        1\n",
              "cafe-au-lait macule                       1\n",
              "Name: diagnosis, dtype: int64"
            ]
          },
          "metadata": {
            "tags": []
          },
          "execution_count": 165
        }
      ]
    },
    {
      "cell_type": "code",
      "metadata": {
        "id": "KCjWi-6RDq5Z",
        "colab_type": "code",
        "outputId": "0cb0d7fd-17c2-4249-9c37-013a3c1b12f7",
        "colab": {
          "base_uri": "https://localhost:8080/",
          "height": 134
        }
      },
      "source": [
        "df_train['anatom_site_general_challenge'].value_counts()"
      ],
      "execution_count": 0,
      "outputs": [
        {
          "output_type": "execute_result",
          "data": {
            "text/plain": [
              "torso              16845\n",
              "lower extremity     8417\n",
              "upper extremity     4983\n",
              "head/neck           1855\n",
              "palms/soles          375\n",
              "oral/genital         124\n",
              "Name: anatom_site_general_challenge, dtype: int64"
            ]
          },
          "metadata": {
            "tags": []
          },
          "execution_count": 116
        }
      ]
    },
    {
      "cell_type": "code",
      "metadata": {
        "id": "YT8Z_3o_DvKH",
        "colab_type": "code",
        "outputId": "8f102f70-5d68-44d3-8330-779e1fc28a79",
        "colab": {
          "base_uri": "https://localhost:8080/",
          "height": 167
        }
      },
      "source": [
        "df_train['age_approx'].describe()"
      ],
      "execution_count": 0,
      "outputs": [
        {
          "output_type": "execute_result",
          "data": {
            "text/plain": [
              "count    33126.000000\n",
              "mean        48.872336\n",
              "std         14.365684\n",
              "min          0.000000\n",
              "25%         40.000000\n",
              "50%         50.000000\n",
              "75%         60.000000\n",
              "max         90.000000\n",
              "Name: age_approx, dtype: float64"
            ]
          },
          "metadata": {
            "tags": []
          },
          "execution_count": 123
        }
      ]
    },
    {
      "cell_type": "code",
      "metadata": {
        "id": "q9gtAR4RD6Q0",
        "colab_type": "code",
        "colab": {}
      },
      "source": [
        "df_train['age_approx'] = df_train['age_approx'].fillna(50)\n",
        "df_train['anatom_site_general_challenge'] = df_train['anatom_site_general_challenge'].fillna('torso')\n",
        "df_train['sex'] = df_train['sex'].fillna('male')"
      ],
      "execution_count": 0,
      "outputs": []
    },
    {
      "cell_type": "code",
      "metadata": {
        "id": "Pim7qjKDEGXD",
        "colab_type": "code",
        "outputId": "83d9feb6-754d-4f62-9113-892d8b79d4f8",
        "colab": {
          "base_uri": "https://localhost:8080/",
          "height": 281
        }
      },
      "source": [
        "df_train['age_approx'].plot.hist(bins=18, alpha=0.5)"
      ],
      "execution_count": 0,
      "outputs": [
        {
          "output_type": "execute_result",
          "data": {
            "text/plain": [
              "<matplotlib.axes._subplots.AxesSubplot at 0x7f2a15628908>"
            ]
          },
          "metadata": {
            "tags": []
          },
          "execution_count": 135
        },
        {
          "output_type": "display_data",
          "data": {
            "image/png": "[encoded data removed]",
            "text/plain": [
              "<Figure size 432x288 with 1 Axes>"
            ]
          },
          "metadata": {
            "tags": [],
            "needs_background": "light"
          }
        }
      ]
    },
    {
      "cell_type": "code",
      "metadata": {
        "id": "tXrK9vfNFU2m",
        "colab_type": "code",
        "outputId": "97e83872-949a-4368-abe7-8c2e9162c4d6",
        "colab": {
          "base_uri": "https://localhost:8080/",
          "height": 437
        }
      },
      "source": [
        "sns.catplot(\n",
        "    x=\"anatom_site_general_challenge\", \n",
        "    y=\"target\", hue=\"sex\", kind=\"bar\", \n",
        "    height=6, aspect=1.5, data=df_train\n",
        ");"
      ],
      "execution_count": 0,
      "outputs": [
        {
          "output_type": "display_data",
          "data": {
            "image/png": "[encoded data removed]",
            "text/plain": [
              "<Figure size 725.975x432 with 1 Axes>"
            ]
          },
          "metadata": {
            "tags": []
          }
        }
      ]
    },
    {
      "cell_type": "code",
      "metadata": {
        "id": "nQypTemTJi7L",
        "colab_type": "code",
        "outputId": "1f550abf-8dfc-4328-97f6-9a04e0eec312",
        "colab": {
          "base_uri": "https://localhost:8080/",
          "height": 437
        }
      },
      "source": [
        "sns.catplot(\n",
        "    x=\"age_approx\", \n",
        "    y=\"target\", hue=\"sex\", kind=\"bar\", \n",
        "    height=6, aspect=1.5, data=df_train\n",
        ");"
      ],
      "execution_count": 0,
      "outputs": [
        {
          "output_type": "display_data",
          "data": {
            "image/png": "[encoded data removed]",
            "text/plain": [
              "<Figure size 725.975x432 with 1 Axes>"
            ]
          },
          "metadata": {
            "tags": []
          }
        }
      ]
    },
    {
      "cell_type": "code",
      "metadata": {
        "id": "PNagEzXgH26r",
        "colab_type": "code",
        "outputId": "4e5d9d11-1b39-4c57-80a4-505f5d8e334a",
        "colab": {
          "base_uri": "https://localhost:8080/",
          "height": 150
        }
      },
      "source": [
        "target = 'target'\n",
        "X_train, X_val, y_train, y_val = train_test_split(\n",
        "    df_train, df_train[target], \n",
        "    test_size=0.3, random_state=43,\n",
        "    stratify=df_train[target],\n",
        ")\n",
        "train_indices = X_train.index\n",
        "valid_indices = X_val.index\n",
        "\n",
        "nunique = df_train.nunique()\n",
        "types = df_train.dtypes\n",
        "\n",
        "categorical_columns = []\n",
        "categorical_dims =  {}\n",
        "for col in df_train.columns:\n",
        "    if types[col] == 'object' or nunique[col] < 20:\n",
        "        print(col, df_train[col].nunique())\n",
        "        l_enc = LabelEncoder()\n",
        "        fillna_val = df_train[col].value_counts().index[0]\n",
        "        df_train[col] = df_train[col].fillna(fillna_val)\n",
        "        df_train[col] = l_enc.fit_transform(df_train[col].values)\n",
        "        categorical_columns.append(col)\n",
        "        categorical_dims[col] = len(l_enc.classes_)\n",
        "    else:\n",
        "        df_train.fillna(df_train.loc[train_indices, col].mean(), inplace=True)\n",
        "\n",
        "unused_feat = ['patient_id', 'image_name', 'diagnosis', 'benign_malignant']\n",
        "\n",
        "features = [ col for col in df_train.columns if col not in unused_feat+[target]] \n",
        "\n",
        "cat_idxs = [ i for i, f in enumerate(features) if f in categorical_columns]\n",
        "\n",
        "cat_dims = [ categorical_dims[f] for i, f in enumerate(features) if f in categorical_columns]"
      ],
      "execution_count": 0,
      "outputs": [
        {
          "output_type": "stream",
          "text": [
            "image_name 33126\n",
            "patient_id 2056\n",
            "sex 2\n",
            "age_approx 18\n",
            "anatom_site_general_challenge 6\n",
            "diagnosis 9\n",
            "benign_malignant 2\n",
            "target 2\n"
          ],
          "name": "stdout"
        }
      ]
    },
    {
      "cell_type": "code",
      "metadata": {
        "id": "cvh-0LIPKC72",
        "colab_type": "code",
        "colab": {}
      },
      "source": [
        "X_train = df_train[features].values[train_indices]\n",
        "y_train = df_train[target].values[train_indices]\n",
        "X_val = df_train[features].values[valid_indices]\n",
        "y_val = df_train[target].values[valid_indices]"
      ],
      "execution_count": 0,
      "outputs": []
    },
    {
      "cell_type": "code",
      "metadata": {
        "id": "JTwM6p5-X7ml",
        "colab_type": "code",
        "colab": {}
      },
      "source": [
        "X_train = np.concatenate((X_train,cnn_pred_train[..., np.newaxis]),axis=1)\n",
        "X_val = np.concatenate((X_val,cnn_pred_val[..., np.newaxis]),axis=1)"
      ],
      "execution_count": 0,
      "outputs": []
    },
    {
      "cell_type": "code",
      "metadata": {
        "id": "1nnoJQgxQ1G_",
        "colab_type": "code",
        "outputId": "2a3ea8de-7c49-4774-b53a-692fce753ecf",
        "colab": {
          "base_uri": "https://localhost:8080/",
          "height": 134
        }
      },
      "source": [
        "clf = XGBClassifier(n_estimators=500, n_jobs=4, seed=43)\n",
        "clf.fit(X_train, y_train, eval_metric=roc_auc_score)"
      ],
      "execution_count": 0,
      "outputs": [
        {
          "output_type": "execute_result",
          "data": {
            "text/plain": [
              "XGBClassifier(base_score=0.5, booster='gbtree', colsample_bylevel=1,\n",
              "              colsample_bynode=1, colsample_bytree=1, gamma=0,\n",
              "              learning_rate=0.1, max_delta_step=0, max_depth=3,\n",
              "              min_child_weight=1, missing=None, n_estimators=500, n_jobs=4,\n",
              "              nthread=None, objective='binary:logistic', random_state=0,\n",
              "              reg_alpha=0, reg_lambda=1, scale_pos_weight=1, seed=43,\n",
              "              silent=None, subsample=1, verbosity=1)"
            ]
          },
          "metadata": {
            "tags": []
          },
          "execution_count": 281
        }
      ]
    },
    {
      "cell_type": "code",
      "metadata": {
        "id": "CRhbj6fXRVQS",
        "colab_type": "code",
        "outputId": "53b4a3ad-8e22-4373-8064-06a3f2e37284",
        "colab": {
          "base_uri": "https://localhost:8080/",
          "height": 535
        }
      },
      "source": [
        "y_pred = clf.predict_proba(X_val)\n",
        "print('auc score: ', roc_auc_score(y_val, y_pred[:,1]))\n",
        "plot_roc(y_val, y_pred[:,1], True)"
      ],
      "execution_count": 0,
      "outputs": [
        {
          "output_type": "stream",
          "text": [
            "auc score:  0.8293454880671924\n"
          ],
          "name": "stdout"
        },
        {
          "output_type": "display_data",
          "data": {
            "image/png": "[encoded data removed]",
            "text/plain": [
              "<Figure size 576x576 with 1 Axes>"
            ]
          },
          "metadata": {
            "tags": []
          }
        },
        {
          "output_type": "execute_result",
          "data": {
            "text/plain": [
              "'/content/logs/roc_curve_01-06-2020-10H-19M.png'"
            ]
          },
          "metadata": {
            "tags": []
          },
          "execution_count": 282
        }
      ]
    },
    {
      "cell_type": "code",
      "metadata": {
        "id": "qZPLdJIMTU8-",
        "colab_type": "code",
        "outputId": "34955609-f44d-4504-bf67-23db2bf0f8a5",
        "colab": {
          "base_uri": "https://localhost:8080/",
          "height": 286
        }
      },
      "source": [
        "val = pd.DataFrame(columns=['y_val', 'y_pred', 'diff'])\n",
        "val['y_pred'] = y_pred[:,1]\n",
        "val['y_val'] = y_val\n",
        "val['diff'] = val['y_val'] - val['y_pred']\n",
        "val.describe()"
      ],
      "execution_count": 0,
      "outputs": [
        {
          "output_type": "execute_result",
          "data": {
            "text/html": [
              "<div>\n",
              "<style scoped>\n",
              "    .dataframe tbody tr th:only-of-type {\n",
              "        vertical-align: middle;\n",
              "    }\n",
              "\n",
              "    .dataframe tbody tr th {\n",
              "        vertical-align: top;\n",
              "    }\n",
              "\n",
              "    .dataframe thead th {\n",
              "        text-align: right;\n",
              "    }\n",
              "</style>\n",
              "<table border=\"1\" class=\"dataframe\">\n",
              "  <thead>\n",
              "    <tr style=\"text-align: right;\">\n",
              "      <th></th>\n",
              "      <th>y_val</th>\n",
              "      <th>y_pred</th>\n",
              "      <th>diff</th>\n",
              "    </tr>\n",
              "  </thead>\n",
              "  <tbody>\n",
              "    <tr>\n",
              "      <th>count</th>\n",
              "      <td>9938.000000</td>\n",
              "      <td>9938.000000</td>\n",
              "      <td>9938.000000</td>\n",
              "    </tr>\n",
              "    <tr>\n",
              "      <th>mean</th>\n",
              "      <td>0.017609</td>\n",
              "      <td>0.013810</td>\n",
              "      <td>0.003799</td>\n",
              "    </tr>\n",
              "    <tr>\n",
              "      <th>std</th>\n",
              "      <td>0.131533</td>\n",
              "      <td>0.065985</td>\n",
              "      <td>0.136376</td>\n",
              "    </tr>\n",
              "    <tr>\n",
              "      <th>min</th>\n",
              "      <td>0.000000</td>\n",
              "      <td>0.000010</td>\n",
              "      <td>-0.944005</td>\n",
              "    </tr>\n",
              "    <tr>\n",
              "      <th>25%</th>\n",
              "      <td>0.000000</td>\n",
              "      <td>0.000033</td>\n",
              "      <td>-0.000446</td>\n",
              "    </tr>\n",
              "    <tr>\n",
              "      <th>50%</th>\n",
              "      <td>0.000000</td>\n",
              "      <td>0.000094</td>\n",
              "      <td>-0.000091</td>\n",
              "    </tr>\n",
              "    <tr>\n",
              "      <th>75%</th>\n",
              "      <td>0.000000</td>\n",
              "      <td>0.000556</td>\n",
              "      <td>-0.000031</td>\n",
              "    </tr>\n",
              "    <tr>\n",
              "      <th>max</th>\n",
              "      <td>1.000000</td>\n",
              "      <td>0.944005</td>\n",
              "      <td>0.999982</td>\n",
              "    </tr>\n",
              "  </tbody>\n",
              "</table>\n",
              "</div>"
            ],
            "text/plain": [
              "             y_val       y_pred         diff\n",
              "count  9938.000000  9938.000000  9938.000000\n",
              "mean      0.017609     0.013810     0.003799\n",
              "std       0.131533     0.065985     0.136376\n",
              "min       0.000000     0.000010    -0.944005\n",
              "25%       0.000000     0.000033    -0.000446\n",
              "50%       0.000000     0.000094    -0.000091\n",
              "75%       0.000000     0.000556    -0.000031\n",
              "max       1.000000     0.944005     0.999982"
            ]
          },
          "metadata": {
            "tags": []
          },
          "execution_count": 283
        }
      ]
    }
  ]
}