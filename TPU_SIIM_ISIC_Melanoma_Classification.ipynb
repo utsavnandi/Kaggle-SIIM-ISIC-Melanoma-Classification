{
  "nbformat": 4,
  "nbformat_minor": 0,
  "metadata": {
    "colab": {
      "name": "TPU SIIM-ISIC Melanoma Classification.ipynb",
      "provenance": [],
      "collapsed_sections": [
        "kFL68tLin0Ky",
        "Z9m9lx4ewYzk",
        "ndmsl1XUrWFp",
        "o7u0D-P-_xDq",
        "B-cBWlSEn7x5",
        "XuladISFhgzw",
        "l4IeH4dGhljb"
      ],
      "toc_visible": true,
      "machine_shape": "hm",
      "mount_file_id": "1cxN_HigzAnradmFueHHv9BbFhDr0gXUK",
      "authorship_tag": "ABX9TyMqf549l2kHqLB4KHCh3zO7"
    },
    "kernelspec": {
      "name": "python3",
      "display_name": "Python 3"
    },
    "accelerator": "TPU"
  },
  "cells": [
    {
      "cell_type": "markdown",
      "metadata": {
        "id": "L-_fb9AEa6Wq",
        "colab_type": "text"
      },
      "source": [
        "## One-time\n"
      ]
    },
    {
      "cell_type": "code",
      "metadata": {
        "id": "7tBeE-hte5Tl",
        "colab_type": "code",
        "colab": {}
      },
      "source": [
        "import os\n",
        "assert os.environ['COLAB_TPU_ADDR']\n",
        "VERSION = \"20200606\"  #@param [\"1.5\" , \"20200516\", \"20200606\",\"nightly\"]\n",
        "!curl https://raw.githubusercontent.com/pytorch/xla/master/contrib/scripts/env-setup.py -o pytorch-xla-env-setup.py\n",
        "!python pytorch-xla-env-setup.py --version $VERSION # --apt-packages libomp5 libopenblas-dev\n"
      ],
      "execution_count": 1,
      "outputs": []
    },
    {
      "cell_type": "code",
      "metadata": {
        "id": "ymGpJBznaEZs",
        "colab_type": "code",
        "colab": {
          "base_uri": "https://localhost:8080/",
          "height": 50
        },
        "outputId": "795fc6e6-7f1c-42a7-b705-033632d30c6f"
      },
      "source": [
        "%%time\n",
        "!pip uninstall kaggle -y\n",
        "!pip install kaggle==1.5.6 -q\n",
        "!pip install -U catalyst -q\n",
        "!pip install -U git+https://github.com/albu/albumentations -q\n",
        "!pip install -U git+https://github.com/rwightman/pytorch-image-models -q\n",
        "!pip install -U git+https://github.com/lessw2020/Ranger-Deep-Learning-Optimizer -q\n",
        "\n",
        "!mkdir ~/.kaggle/\n",
        "!cp ./kaggle.json  ~/.kaggle/kaggle.json\n",
        "!chmod 600 ~/.kaggle/kaggle.json\n",
        "!kaggle datasets download -d shonenkov/melanoma-merged-external-data-512x512-jpeg\n",
        "!unzip melanoma-merged-external-data-512x512-jpeg.zip -d ./data/ &> /dev/null\n",
        "!rm melanoma-merged-external-data-512x512-jpeg.zip\n",
        "!kaggle competitions download siim-isic-melanoma-classification -f sample_submission.csv\n",
        "!kaggle competitions download siim-isic-melanoma-classification -f test.csv\n",
        "!kaggle competitions download siim-isic-melanoma-classification -f train.csv\n",
        "!unzip train.csv -d ./data/ &> /dev/null\n",
        "!mv ./test.csv ./data/ \n",
        "!mv ./sample_submission.csv ./data/\n",
        "!rm train.csv.zip\n",
        "!mkdir ./logs/"
      ],
      "execution_count": 2,
      "outputs": [
        {
          "output_type": "stream",
          "text": [
            "CPU times: user 1e+03 ns, sys: 2 µs, total: 3 µs\n",
            "Wall time: 6.91 µs\n"
          ],
          "name": "stdout"
        }
      ]
    },
    {
      "cell_type": "markdown",
      "metadata": {
        "id": "wFoIORVvcWn5",
        "colab_type": "text"
      },
      "source": [
        "## Setup"
      ]
    },
    {
      "cell_type": "code",
      "metadata": {
        "id": "cB029jhCcJFF",
        "colab_type": "code",
        "colab": {}
      },
      "source": [
        "import os\n",
        "import gc\n",
        "import time\n",
        "import datetime\n",
        "import random\n",
        "\n",
        "#os.environ['XLA_USE_BF16'] = \"0\"\n",
        "\n",
        "import numpy as np\n",
        "import cv2\n",
        "import pandas as pd\n",
        "import matplotlib.pyplot as plt\n",
        "import seaborn as sns\n",
        "from tqdm.notebook import tqdm\n",
        "\n",
        "from sklearn.metrics import roc_auc_score\n",
        "\n",
        "import torch\n",
        "import torch.nn as nn\n",
        "import torch.nn.functional as F\n",
        "from torch.nn.parameter import Parameter\n",
        "from torch.utils.data import Dataset, DataLoader, WeightedRandomSampler\n",
        "from torchvision import transforms, models\n",
        "\n",
        "import torch_xla\n",
        "import torch_xla.core.xla_model as xm\n",
        "import torch_xla.utils.serialization as xser\n",
        "import torch_xla.debug.metrics as met\n",
        "import torch_xla.distributed.parallel_loader as pl\n",
        "import torch_xla.distributed.xla_multiprocessing as xmp\n",
        "import torch_xla.utils.utils as xu\n",
        "from torch.utils.data.distributed import DistributedSampler\n",
        "from torch.utils.tensorboard import SummaryWriter\n",
        "\n",
        "from ranger import Ranger\n",
        "\n",
        "#from catalyst.data.sampler import DistributedSamplerWrapper, BalanceClassSampler\n",
        "import timm\n",
        "\n",
        "import albumentations as A\n",
        "from albumentations.pytorch.transforms import ToTensorV2\n",
        "\n",
        "def seed_everything(seed):\n",
        "    random.seed(seed)\n",
        "    np.random.seed(seed)\n",
        "    torch.manual_seed(seed)\n",
        "    xm.set_rng_state(seed, device=xm.xla_device())\n",
        "\n",
        "DATA_DIR = '/content/data/'\n",
        "df_train = pd.read_csv(DATA_DIR+'folds_13062020.csv')\n",
        "df_test = pd.read_csv(DATA_DIR+'test.csv').rename(columns={'image_name':'image_id'})\n",
        "sample_submission = pd.read_csv(DATA_DIR+'sample_submission.csv')"
      ],
      "execution_count": 4,
      "outputs": []
    },
    {
      "cell_type": "markdown",
      "metadata": {
        "id": "adQyJWolKLZL",
        "colab_type": "text"
      },
      "source": [
        "## Dataset"
      ]
    },
    {
      "cell_type": "code",
      "metadata": {
        "id": "1fvgmmIpKN3M",
        "colab_type": "code",
        "colab": {}
      },
      "source": [
        "class MelanomaDataset(Dataset):\n",
        "\n",
        "    def __init__(self, df, labels, istrain=False, transforms=None):\n",
        "        super().__init__()\n",
        "        self.image_id = df['image_id'].values\n",
        "        self.transforms = transforms\n",
        "        self.labels = labels.values\n",
        "        self.neg_indices = np.where(self.labels[:, 0] == 0)[0]\n",
        "        self.pos_indices = np.where(self.labels[:, 0] == 1)[0]\n",
        "        self.istrain = istrain\n",
        "\n",
        "    def __len__(self):\n",
        "        return len(self.image_id)\n",
        "\n",
        "    def __getitem__(self, index):\n",
        "        if torch.is_tensor(index):\n",
        "            index = index.tolist()\n",
        "\n",
        "        image, target = self.load_image(index)\n",
        "\n",
        "        if self.transforms:\n",
        "            image = self.transforms(image=image)['image']\n",
        "\n",
        "        return image, target\n",
        "\n",
        "    def load_image(self, index):\n",
        "        if torch.is_tensor(index):\n",
        "            index = index.tolist()\n",
        "        image_name = DATA_DIR + f'512x512-dataset-melanoma/512x512-dataset-melanoma/{self.image_id[index]}.jpg'\n",
        "        image = cv2.imread(image_name, cv2.IMREAD_COLOR).astype(np.uint8)\n",
        "        target = self.labels[index].astype(np.float32)\n",
        "        return image, target\n",
        "\n",
        "\n",
        "def get_datasets(data):\n",
        "    X_train, y_train, X_val, y_val = data\n",
        "    datasets = {}\n",
        "    datasets['train'] = MelanomaDataset(\n",
        "        X_train, y_train, istrain=True, transforms=get_train_transforms()\n",
        "    )\n",
        "    datasets['valid'] = MelanomaDataset(\n",
        "        X_val, y_val, istrain=False, transforms=get_valid_transforms()\n",
        "    )\n",
        "    return datasets\n"
      ],
      "execution_count": 7,
      "outputs": []
    },
    {
      "cell_type": "markdown",
      "metadata": {
        "id": "kFL68tLin0Ky",
        "colab_type": "text"
      },
      "source": [
        "## Augmentations"
      ]
    },
    {
      "cell_type": "code",
      "metadata": {
        "id": "pSwxHNMasOPG",
        "colab_type": "code",
        "colab": {}
      },
      "source": [
        "from albumentations.augmentations import functional as FA\n",
        "from albumentations.core.transforms_interface import DualTransform\n",
        "\n",
        "class GridMask(DualTransform):\n",
        "    def __init__(self, num_grid=3, fill_value=0, rotate=0, mode=0, always_apply=False, p=0.5):\n",
        "        super(GridMask, self).__init__(always_apply, p)\n",
        "        if isinstance(num_grid, int):\n",
        "            num_grid = (num_grid, num_grid)\n",
        "        if isinstance(rotate, int):\n",
        "            rotate = (-rotate, rotate)\n",
        "        self.num_grid = num_grid\n",
        "        self.fill_value = fill_value\n",
        "        self.rotate = rotate\n",
        "        self.mode = mode\n",
        "        self.masks = None\n",
        "        self.rand_h_max = []\n",
        "        self.rand_w_max = []\n",
        "\n",
        "    def init_masks(self, height, width):\n",
        "        if self.masks is None:\n",
        "            self.masks = []\n",
        "            n_masks = self.num_grid[1] - self.num_grid[0] + 1\n",
        "            for n, n_g in enumerate(range(self.num_grid[0], self.num_grid[1] + 1, 1)):\n",
        "                grid_h = height / n_g\n",
        "                grid_w = width / n_g\n",
        "                this_mask = np.ones((int((n_g + 1) * grid_h), int((n_g + 1) * grid_w))).astype(np.uint8)\n",
        "                for i in range(n_g + 1):\n",
        "                    for j in range(n_g + 1):\n",
        "                        this_mask[\n",
        "                             int(i * grid_h) : int(i * grid_h + grid_h / 2),\n",
        "                             int(j * grid_w) : int(j * grid_w + grid_w / 2)\n",
        "                        ] = self.fill_value\n",
        "                        if self.mode == 2:\n",
        "                            this_mask[\n",
        "                                 int(i * grid_h + grid_h / 2) : int(i * grid_h + grid_h),\n",
        "                                 int(j * grid_w + grid_w / 2) : int(j * grid_w + grid_w)\n",
        "                            ] = self.fill_value\n",
        "                \n",
        "                if self.mode == 1:\n",
        "                    this_mask = 1 - this_mask\n",
        "\n",
        "                self.masks.append(this_mask)\n",
        "                self.rand_h_max.append(grid_h)\n",
        "                self.rand_w_max.append(grid_w)\n",
        "\n",
        "    def apply(self, image, mask, rand_h, rand_w, angle, **params):\n",
        "        h, w = image.shape[:2]\n",
        "        mask = FA.rotate(mask, angle) if self.rotate[1] > 0 else mask\n",
        "        mask = mask[:,:,np.newaxis] if image.ndim == 3 else mask\n",
        "        image *= mask[rand_h:rand_h+h, rand_w:rand_w+w].astype(image.dtype)\n",
        "        return image\n",
        "\n",
        "    def get_params_dependent_on_targets(self, params):\n",
        "        img = params['image']\n",
        "        height, width = img.shape[:2]\n",
        "        self.init_masks(height, width)\n",
        "\n",
        "        mid = np.random.randint(len(self.masks))\n",
        "        mask = self.masks[mid]\n",
        "        rand_h = np.random.randint(self.rand_h_max[mid])\n",
        "        rand_w = np.random.randint(self.rand_w_max[mid])\n",
        "        angle = np.random.randint(self.rotate[0], self.rotate[1]) if self.rotate[1] > 0 else 0\n",
        "\n",
        "        return {'mask': mask, 'rand_h': rand_h, 'rand_w': rand_w, 'angle': angle}\n",
        "\n",
        "    @property\n",
        "    def targets_as_params(self):\n",
        "        return ['image']\n",
        "\n",
        "    def get_transform_init_args_names(self):\n",
        "        return ('num_grid', 'fill_value', 'rotate', 'mode')"
      ],
      "execution_count": 8,
      "outputs": []
    },
    {
      "cell_type": "code",
      "metadata": {
        "id": "XPWu-IIliVVo",
        "colab_type": "code",
        "colab": {}
      },
      "source": [
        "#%%writefile augmentations.txt\n",
        "# Reference IMG_SIZE\n",
        "# B0    - 224\n",
        "# B1    - 240\n",
        "# B2    - 260\n",
        "# B3    - 300\n",
        "# B4    - 380\n",
        "# B5    - 456\n",
        "# B6    - 520\n",
        "# B7    - 600\n",
        "# B8    - 672\n",
        "# L2 NS - 475\n",
        "# L2    - 800\n",
        "IMG_SIZE = 224\n",
        "mean = (0.485, 0.456, 0.406)\n",
        "std = (0.229, 0.224, 0.225)\n",
        "\n",
        "def get_train_transforms(p=1.0):\n",
        "    return A.Compose(\n",
        "        [\n",
        "            A.OneOf(\n",
        "                [\n",
        "                    A.CenterCrop(2 * IMG_SIZE // 3, 2 * IMG_SIZE // 3, p=0.5),\n",
        "                    A.CenterCrop(3 * IMG_SIZE // 4, 3 * IMG_SIZE // 4, p=0.5),\n",
        "                ],\n",
        "                p=0.33,\n",
        "            ),\n",
        "            A.Resize(\n",
        "                IMG_SIZE, IMG_SIZE, interpolation=1, always_apply=True, p=1\n",
        "            ),\n",
        "            A.Flip(),\n",
        "            A.Transpose(),\n",
        "            GridMask(num_grid=(1, 4), rotate=15, p=0.33),\n",
        "            A.OneOf(\n",
        "                [\n",
        "                    A.MedianBlur(blur_limit=3, p=0.5),\n",
        "                    A.Blur(blur_limit=3, p=0.5),\n",
        "                ],\n",
        "                p=0.5,\n",
        "            ),\n",
        "            A.OneOf(\n",
        "                [\n",
        "                    A.ShiftScaleRotate(\n",
        "                        interpolation=1,\n",
        "                        shift_limit=0.05,\n",
        "                        scale_limit=0.1,\n",
        "                        rotate_limit=15,\n",
        "                        p=0.5,\n",
        "                    ),\n",
        "                    A.IAAPiecewiseAffine(scale=(0.02, 0.04), p=0.5),\n",
        "                ],\n",
        "                p=0.33,\n",
        "            ),\n",
        "            A.OneOf(\n",
        "                [\n",
        "                    A.HueSaturationValue(\n",
        "                        hue_shift_limit=20,\n",
        "                        sat_shift_limit=30,\n",
        "                        val_shift_limit=20,\n",
        "                        p=0.5,\n",
        "                    ),\n",
        "                    A.RandomBrightnessContrast(p=0.5),\n",
        "                ],\n",
        "                p=0.5,\n",
        "            ),\n",
        "            A.MultiplicativeNoise(\n",
        "                multiplier=[0.9, 1.1], elementwise=True, p=0.3\n",
        "            ),\n",
        "            A.Normalize(mean, std, max_pixel_value=255.0, always_apply=True),\n",
        "            ToTensorV2(p=1.0),\n",
        "        ],\n",
        "        p=p,\n",
        "    )\n",
        "\n",
        "def get_valid_transforms():\n",
        "    return A.Compose([\n",
        "        A.Resize(IMG_SIZE, IMG_SIZE, interpolation=2, always_apply=True, p=1),\n",
        "        A.Normalize(mean, std, max_pixel_value=255.0, always_apply=True),\n",
        "        ToTensorV2(p=1.0),\n",
        "    ])\n"
      ],
      "execution_count": 9,
      "outputs": []
    },
    {
      "cell_type": "markdown",
      "metadata": {
        "id": "Z9m9lx4ewYzk",
        "colab_type": "text"
      },
      "source": [
        "## Model"
      ]
    },
    {
      "cell_type": "code",
      "metadata": {
        "id": "92GalIsk0KFR",
        "colab_type": "code",
        "colab": {}
      },
      "source": [
        "def gem(x, p=3, eps=1e-6):\n",
        "    return F.avg_pool2d(x.clamp(min=eps).pow(p), (x.size(-2), x.size(-1))).pow(1./p)\n",
        "\n",
        "class GeM(nn.Module):\n",
        "    def __init__(self, p=3, eps=1e-6):\n",
        "        super(GeM,self).__init__()\n",
        "        self.p = Parameter(torch.ones(1)*p)\n",
        "        self.eps = eps\n",
        "    def forward(self, x):\n",
        "        return gem(x, p=self.p, eps=self.eps)       \n",
        "    def __repr__(self):\n",
        "        return self.__class__.__name__ + '(' + 'p=' + '{:.4f}'.format(self.p.data.tolist()[0]) + ', ' + 'eps=' + str(self.eps) + ')'\n"
      ],
      "execution_count": 10,
      "outputs": []
    },
    {
      "cell_type": "code",
      "metadata": {
        "id": "kfPBXkoYyPAa",
        "colab_type": "code",
        "colab": {}
      },
      "source": [
        "class EfficientNet(nn.Module):\n",
        "\n",
        "    def __init__(self, name='tf_efficientnet_b0_ns'):\n",
        "        super().__init__()\n",
        "        self.model = timm.create_model(name, pretrained=True)\n",
        "        #self.model.global_pool = GeM()\n",
        "        in_features = self.model.classifier.in_features\n",
        "        self.model.classifier = nn.Linear(in_features, 1)\n",
        "\n",
        "    def forward(self, x):\n",
        "        return self.model(x)\n",
        "\n",
        "class SEResNext50_32x4d(nn.Module):\n",
        "\n",
        "    def __init__(self):\n",
        "        super().__init__()\n",
        "        self.model = timm.create_model('gluon_seresnext50_32x4d', pretrained=True)\n",
        "        in_features = self.model.fc.in_features\n",
        "        self.model.fc = nn.Linear(in_features, 2)\n",
        "\n",
        "    def forward(self, x):\n",
        "        return self.model(x)\n",
        "\n",
        "class SEResNext101_32x4d(nn.Module):\n",
        "\n",
        "    def __init__(self):\n",
        "        super().__init__()\n",
        "        self.model = timm.create_model('gluon_seresnext101_32x4d', pretrained=True)\n",
        "        in_features = self.model.fc.in_features\n",
        "        self.model.fc = nn.Linear(in_features, 2)\n",
        "\n",
        "    def forward(self, x):\n",
        "        return self.model(x)\n"
      ],
      "execution_count": 11,
      "outputs": []
    },
    {
      "cell_type": "markdown",
      "metadata": {
        "id": "ndmsl1XUrWFp",
        "colab_type": "text"
      },
      "source": [
        "## Custom Losses"
      ]
    },
    {
      "cell_type": "code",
      "metadata": {
        "id": "IICyzNqJrZnl",
        "colab_type": "code",
        "colab": {}
      },
      "source": [
        "from torch.nn import functional as F\n",
        "\n",
        "def sigmoid_focal_loss(\n",
        "    inputs: torch.Tensor,\n",
        "    targets: torch.Tensor,\n",
        "    alpha: float = 0.91,\n",
        "    gamma: float = 1.65,\n",
        "    reduction: str = \"mean\"\n",
        ") -> torch.Tensor:\n",
        "    \"\"\"\n",
        "    Loss used in RetinaNet for dense detection: https://arxiv.org/abs/1708.02002.\n",
        "    Args:\n",
        "        inputs: A float tensor of arbitrary shape.\n",
        "                The predictions for each example.\n",
        "        targets: A float tensor with the same shape as inputs. Stores the binary\n",
        "                 classification label for each element in inputs\n",
        "                (0 for the negative class and 1 for the positive class).\n",
        "        alpha: (optional) Weighting factor in range (0,1) to balance\n",
        "                positive vs negative examples. Default = -1 (no weighting).\n",
        "        gamma: Exponent of the modulating factor (1 - p_t) to\n",
        "               balance easy vs hard examples.\n",
        "        reduction: 'none' | 'mean' | 'sum'\n",
        "                 'none': No reduction will be applied to the output.\n",
        "                 'mean': The output will be averaged.\n",
        "                 'sum': The output will be summed.\n",
        "    Returns:\n",
        "        Loss tensor with the reduction option applied.\n",
        "    \"\"\"\n",
        "    p = torch.sigmoid(inputs)\n",
        "    ce_loss = F.binary_cross_entropy_with_logits(inputs, targets, reduction=\"none\")\n",
        "    p_t = p * targets + (1 - p) * (1 - targets)\n",
        "    loss = ce_loss * ((1 - p_t) ** gamma)\n",
        "\n",
        "    if alpha >= 0:\n",
        "        alpha_t = alpha * targets + (1 - alpha) * (1 - targets)\n",
        "        loss = alpha_t * loss\n",
        "\n",
        "    if reduction == \"mean\":\n",
        "        loss = loss.mean()\n",
        "    elif reduction == \"sum\":\n",
        "        loss = loss.sum()\n",
        "\n",
        "    return loss\n",
        "\n",
        "class CutMixCrossEntropyLoss(nn.Module):\n",
        "    def __init__(self, size_average=True):\n",
        "        super().__init__()\n",
        "        self.size_average = size_average\n",
        "\n",
        "    def forward(self, input, target):\n",
        "        if len(target.size()) == 1:\n",
        "            target = torch.nn.functional.one_hot(target, num_classes=input.size(-1))\n",
        "            target = target.float()\n",
        "        return cross_entropy(input, target, self.size_average)\n",
        "\n",
        "def cross_entropy(input, target, size_average=True):\n",
        "    \"\"\" Cross entropy that accepts soft targets\n",
        "    Args:\n",
        "         pred: predictions for neural network\n",
        "         targets: targets, can be soft\n",
        "         size_average: if false, sum is returned instead of mean\n",
        "    Examples::\n",
        "        input = torch.FloatTensor([[1.1, 2.8, 1.3], [1.1, 2.1, 4.8]])\n",
        "        input = torch.autograd.Variable(out, requires_grad=True)\n",
        "        target = torch.FloatTensor([[0.05, 0.9, 0.05], [0.05, 0.05, 0.9]])\n",
        "        target = torch.autograd.Variable(y1)\n",
        "        loss = cross_entropy(input, target)\n",
        "        loss.backward()\n",
        "    \"\"\"\n",
        "    logsoftmax = torch.nn.LogSoftmax(dim=1)\n",
        "    if size_average:\n",
        "        return torch.mean(torch.sum(-target * logsoftmax(input), dim=1))\n",
        "    else:\n",
        "        return torch.sum(torch.sum(-target * logsoftmax(input), dim=1))\n",
        "\n",
        "def bce_criterion(y_pred, y_true):\n",
        "    return nn.BCEWithLogitsLoss()(y_pred, y_true)\n",
        "\n",
        "def cutmix_ce_criterion(y_pred, y_true):\n",
        "    return CutMixCrossEntropyLoss()(y_pred, y_true)\n",
        "\n",
        "def smooth_ohem_criterion(y_pred, y_true, rate=1.0, e=0.05):\n",
        "    e = torch.tensor(e, device=xm.xla_device())\n",
        "    y_true = torch.where(y_true == 0, e, y_true)\n",
        "    y_true = torch.where(y_true == 1, (1-e), y_true)\n",
        "    return ohem_loss(y_pred, y_true, rate)\n",
        "\n",
        "def ohem_loss(cls_pred, cls_target, rate=1.0):\n",
        "    ohem_cls_loss = F.binary_cross_entropy_with_logits(cls_pred, cls_target, reduction='none')\n",
        "    batch_size = cls_pred.size(0)\n",
        "    sorted_ohem_loss, idx = torch.sort(ohem_cls_loss, descending=True)\n",
        "    keep_num = min(sorted_ohem_loss.size()[0], int(batch_size*rate))\n",
        "    if keep_num < sorted_ohem_loss.size()[0]:\n",
        "        keep_idx_cuda = idx[:keep_num]\n",
        "        ohem_cls_loss = ohem_cls_loss[keep_idx_cuda]\n",
        "    cls_loss = ohem_cls_loss.sum() / keep_num\n",
        "    return cls_loss\n"
      ],
      "execution_count": 12,
      "outputs": []
    },
    {
      "cell_type": "markdown",
      "metadata": {
        "id": "PPAHFSOoSiI2",
        "colab_type": "text"
      },
      "source": [
        "## Metric"
      ]
    },
    {
      "cell_type": "code",
      "metadata": {
        "id": "bmPxF8kEnTrY",
        "colab_type": "code",
        "colab": {}
      },
      "source": [
        "class RocAucMeter(object):\n",
        "    def __init__(self):\n",
        "        self.reset()\n",
        "\n",
        "    def reset(self):\n",
        "        self.y_true = np.array([0,1])\n",
        "        self.y_pred = np.array([0.5,0.5])\n",
        "        self.score = 0\n",
        "\n",
        "    def update(self, y_true, y_pred):\n",
        "        y_true = y_true.cpu().numpy()\n",
        "        y_pred = torch.flatten(torch.sigmoid(y_pred)).data.cpu().numpy()\n",
        "        self.y_true = np.append(self.y_true, y_true)\n",
        "        self.y_pred = np.append(self.y_pred, y_pred)\n",
        "        self.score = roc_auc_score(self.y_true, self.y_pred)\n",
        "\n",
        "    @property\n",
        "    def avg(self):\n",
        "        return self.score\n"
      ],
      "execution_count": 13,
      "outputs": []
    },
    {
      "cell_type": "markdown",
      "metadata": {
        "id": "o7u0D-P-_xDq",
        "colab_type": "text"
      },
      "source": [
        "## Plot"
      ]
    },
    {
      "cell_type": "code",
      "metadata": {
        "id": "gJy4zuwO_vVR",
        "colab_type": "code",
        "colab": {}
      },
      "source": [
        "import matplotlib.pyplot as plt\n",
        "\n",
        "def draw_hist(y_true, y_pred, show=True):\n",
        "    true_neg_indices = np.where(y_true[:, 0] == 0)[0]\n",
        "    true_pos_indices = np.where(y_true[:, 0] == 1)[0]\n",
        "    pred_true_pos = y_pred[true_pos_indices]\n",
        "    pred_true_neg = y_pred[true_neg_indices]\n",
        "    thresh = 0.2\n",
        "    pred_true_pos_error_count = pred_true_pos[np.where(pred_true_pos<(1-thresh))[0]]\n",
        "    pred_true_neg_error_count = pred_true_neg[np.where(pred_true_neg>(thresh))[0]]\n",
        "    total_error_count = pred_true_pos_error_count.shape[0] + pred_true_neg_error_count.shape[0] \n",
        "    total_error_count_scaled = total_error_count/y_true.shape[0]\n",
        "    # plot\n",
        "    figure = plt.figure(figsize=(14,6))\n",
        "    ax1 = plt.subplot(121)\n",
        "    ax1.hist(pred_true_neg.T[0],bins=10)\n",
        "    plt.ylim((0,2000))\n",
        "    ax2 = plt.subplot(122)\n",
        "    ax2.hist(pred_true_pos.T[0],bins=10)\n",
        "    if show:\n",
        "        plt.show()  \n",
        "    return figure, total_error_count_scaled\n"
      ],
      "execution_count": 14,
      "outputs": []
    },
    {
      "cell_type": "markdown",
      "metadata": {
        "id": "ruo8SHLGnZJU",
        "colab_type": "text"
      },
      "source": [
        "## Train script"
      ]
    },
    {
      "cell_type": "code",
      "metadata": {
        "id": "n3N0J0GZYTUT",
        "colab_type": "code",
        "colab": {}
      },
      "source": [
        "# optimizer = Ranger(\n",
        "#     model.parameters(),\n",
        "#     lr=FLAGS['learning_rate'] * xm.xrt_world_size(), \n",
        "#     alpha=0.5, k=6, N_sma_threshhold=5,\n",
        "#     weight_decay=FLAGS['weight_decay']\n",
        "# )"
      ],
      "execution_count": 15,
      "outputs": []
    },
    {
      "cell_type": "code",
      "metadata": {
        "id": "1TggTDLcOxUT",
        "colab_type": "code",
        "colab": {}
      },
      "source": [
        "def train_model(data, fold_no, log=False):\n",
        "    seed_everything(FLAGS['seed'])\n",
        "\n",
        "    datasets = SERIAL_EXEC.run(lambda: get_datasets(data))\n",
        "\n",
        "    if xm.is_master_ordinal() == True and log == True:\n",
        "        writer = SummaryWriter()\n",
        "        #writer.add_hparams(FLAGS)\n",
        "\n",
        "    #labels_vcount = y_train['target'].value_counts()\n",
        "    #class_counts = [labels_vcount[0].astype(np.float32), labels_vcount[1].astype(np.float32)]\n",
        "    #num_samples = sum(class_counts)\n",
        "    #class_weights = [num_samples/class_counts[i] for i in range(len(class_counts))]\n",
        "    #weights = [class_weights[y_train['target'].values[i]] for i in range(int(num_samples))]\n",
        "    #wrsampler = WeightedRandomSampler(\n",
        "    #    torch.DoubleTensor(weights), int(num_samples)\n",
        "    #)\n",
        "    #BalanceClassSampler(labels=y_train['target'].values, mode=\"downsampling\"),\n",
        "\n",
        "    # DistributedSamplerWrapper\n",
        "    # train_sampler = DistributedSamplerWrapper(\n",
        "    #     sampler=wrsampler, #sampler=wrsampler,# datasets['train'], \n",
        "    #     num_replicas=xm.xrt_world_size(),\n",
        "    #     rank=xm.get_ordinal(),\n",
        "    #     shuffle=True\n",
        "    # )\n",
        "    train_sampler = DistributedSampler(\n",
        "        datasets['train'],\n",
        "        num_replicas=xm.xrt_world_size(),\n",
        "        rank=xm.get_ordinal(),\n",
        "        shuffle=True\n",
        "    )\n",
        "    train_loader = DataLoader(\n",
        "        datasets['train'],\n",
        "        batch_size=FLAGS['batch_size'], \n",
        "        num_workers=FLAGS['num_workers'],\n",
        "        sampler=train_sampler,\n",
        "        drop_last=True,\n",
        "    )\n",
        "    validation_sampler = DistributedSampler(\n",
        "        datasets['valid'],\n",
        "        num_replicas=xm.xrt_world_size(),\n",
        "        rank=xm.get_ordinal(),\n",
        "        shuffle=False\n",
        "    )\n",
        "    val_loader = DataLoader(\n",
        "        datasets['valid'],\n",
        "        batch_size=FLAGS['batch_size'] * 8,\n",
        "        num_workers=FLAGS['num_workers'],\n",
        "        sampler=validation_sampler,\n",
        "        drop_last=True\n",
        "    )\n",
        "\n",
        "    device = xm.xla_device()\n",
        "    model = WRAPPED_MODEL.to(device)\n",
        "\n",
        "    optimizer = torch.optim.AdamW(\n",
        "        model.parameters(),\n",
        "        lr=FLAGS['learning_rate'] * xm.xrt_world_size(),\n",
        "        weight_decay=FLAGS['weight_decay']\n",
        "    )\n",
        "\n",
        "    scheduler = torch.optim.lr_scheduler.ReduceLROnPlateau(\n",
        "        optimizer, factor=0.5, cooldown=0, mode='min',\n",
        "        patience=3, verbose=True, min_lr=1e-8\n",
        "    )\n",
        "\n",
        "    criterion = sigmoid_focal_loss\n",
        "\n",
        "    def train_one_epoch(loader):\n",
        "        model.train()\n",
        "        running_loss = 0\n",
        "        max_idx = 0\n",
        "        xm.master_print('-'*40)\n",
        "        xm.master_print('Step\\t|\\tTime')\n",
        "        xm.master_print('-'*40)\n",
        "        for idx, (images, targets) in enumerate(loader):\n",
        "            optimizer.zero_grad()\n",
        "            y_pred = model(images.float())\n",
        "            loss = criterion(y_pred, targets, FLAGS['alpha'], FLAGS['gamma'])\n",
        "            running_loss += float(loss)\n",
        "            loss.backward()\n",
        "            xm.optimizer_step(optimizer)\n",
        "            # xm.mark_step() call everystep for grad accum\n",
        "            max_idx = float(idx)\n",
        "            if idx % FLAGS['log_steps'] == 0 and idx !=0:\n",
        "                xm.master_print('({})\\t|\\t{}'.format(\n",
        "                    idx, time.asctime(time.localtime()))\n",
        "                )\n",
        "        xm.master_print('-'*40)\n",
        "        return running_loss/(max_idx+1)\n",
        "\n",
        "    def val_one_epoch(loader):\n",
        "        model.eval()\n",
        "        running_loss = 0\n",
        "        max_idx = 0\n",
        "        #roc_auc_scores = RocAucMeter()\n",
        "        y_preds_list = []\n",
        "        targets_list = []\n",
        "        with torch.no_grad():\n",
        "            for idx, (images, targets) in enumerate(loader):\n",
        "                y_pred = model(images.float())\n",
        "                loss = criterion(\n",
        "                    y_pred, targets, FLAGS['alpha'], FLAGS['gamma']\n",
        "                )\n",
        "                running_loss += float(loss)\n",
        "                max_idx = float(idx)\n",
        "                y_preds_list.append(torch.sigmoid(y_pred).cpu().numpy())\n",
        "                targets_list.append(targets.cpu().numpy())\n",
        "                #roc_auc_scores.update(targets, y_pred) #[:, 1]\n",
        "        y_true = np.vstack(targets_list)\n",
        "        y_pred = np.vstack(y_preds_list)\n",
        "        #score = roc_auc_score(y_true, y_pred)\n",
        "        #score = roc_auc_scores.avg\n",
        "        return running_loss/(max_idx+1), y_true, y_pred\n",
        "\n",
        "    def _reduce_fn(x):\n",
        "        return np.array(x).mean()\n",
        "\n",
        "    def _reduce_fn_np(x):\n",
        "        return np.vstack(x)\n",
        "\n",
        "    best_score = 0\n",
        "    xm.master_print('='*26 + f'Fold #{fold_no} started' + '='*27)\n",
        "    for epoch in range(0, FLAGS['num_epochs']):\n",
        "        xm.master_print('-'*26 + f'Epoch #{epoch+1} started' + '-'*26)\n",
        "        xm.master_print(f'Epoch start {time.asctime(time.localtime())}')\n",
        "\n",
        "        # train\n",
        "        train_start = time.time()\n",
        "        para_loader = pl.ParallelLoader(train_loader, [device])\n",
        "        train_loss = train_one_epoch(para_loader.per_device_loader(device))\n",
        "        xm.master_print(f\"finished training epoch {epoch+1}\")\n",
        "        elapsed_time = int(time.time() - train_start)\n",
        "        xm.master_print(\n",
        "            f'elapsed time: {(elapsed_time)//60}mins {(elapsed_time)%60}s'\n",
        "        )\n",
        "        reduced_loss = xm.mesh_reduce('train_loss', train_loss, _reduce_fn)\n",
        "        xm.master_print(f\"reduced loss {reduced_loss:.5f}\")\n",
        "        if xm.is_master_ordinal() == True and log == True:\n",
        "            writer.add_scalar('train/loss', reduced_loss, epoch+1)\n",
        "\n",
        "        # validation\n",
        "        if (epoch+1) % FLAGS['val_freq'] == 0:\n",
        "            val_start = time.time()\n",
        "            para_loader = pl.ParallelLoader(val_loader, [device])\n",
        "            val_loss, y_true, y_pred = val_one_epoch(para_loader.per_device_loader(device))    \n",
        "            xm.master_print(f\"finished validating epoch {epoch+1}\")\n",
        "            y_true_reduced = xm.mesh_reduce('y_true', y_true, _reduce_fn_np)\n",
        "            y_pred_reduced = xm.mesh_reduce('y_pred', y_pred, _reduce_fn_np)\n",
        "            reduced_val_loss = xm.mesh_reduce('val_loss', val_loss, _reduce_fn)\n",
        "            scheduler.step(reduced_val_loss)\n",
        "            auc_score = roc_auc_score(y_true_reduced, y_pred_reduced)\n",
        "\n",
        "            # plots\n",
        "            if xm.is_master_ordinal() == True:\n",
        "                fig, total_err = draw_hist(y_true_reduced, y_pred_reduced)\n",
        "                xm.master_print(f'total error {total_err:.5f}')\n",
        "                xm.master_print(f\"reduced val loss {reduced_val_loss:.5f}\")\n",
        "                xm.master_print(f\"auc score {auc_score:.5f}\")\n",
        "                if log:\n",
        "                    writer.add_figure('val/y_pred_dist', fig, global_step=epoch)\n",
        "                    writer.add_pr_curve(\n",
        "                        'val/pr_curve', y_true_reduced, y_pred_reduced,\n",
        "                        global_step=epoch\n",
        "                    )\n",
        "\n",
        "            val_elapsed_time = int(time.time() - val_start)\n",
        "            xm.master_print(\n",
        "                f'elapsed time: {(val_elapsed_time)//60}mins {(val_elapsed_time)%60}s'\n",
        "            )\n",
        "\n",
        "            # log\n",
        "            if xm.is_master_ordinal() == True and log == True:\n",
        "                writer.add_scalar('val/loss', reduced_val_loss, epoch+1)\n",
        "                writer.add_scalar('val/roc_auc', auc_score, epoch+1)\n",
        "\n",
        "            # save model\n",
        "            if best_score<auc_score or (best_score-auc_score)<0.005:\n",
        "                if best_score<auc_score:\n",
        "                    best_score = auc_score\n",
        "                    xm.master_print(f'new best score: {best_score:.5f}')\n",
        "                file_name = f\"./{FLAGS['exp_name']}_fold_{fold_no+1}_epoch_{epoch+1}_auc_{auc_score:.5f}.pth\"\n",
        "                xm.save(model.state_dict(), file_name)\n",
        "                xm.master_print(f'saved model...')\n",
        "\n",
        "        xm.master_print(f'Epoch end {time.asctime(time.localtime())}')\n",
        "        xm.master_print('-'*27 + f'Epoch #{epoch+1} ended' + '-'*26)\n",
        "\n",
        "    xm.master_print('='*28 + f'Fold #{fold_no} ended' + '='*27)\n"
      ],
      "execution_count": 20,
      "outputs": []
    },
    {
      "cell_type": "code",
      "metadata": {
        "id": "3F2uId8RkXf7",
        "colab_type": "code",
        "colab": {}
      },
      "source": [
        "def _mp_fn(rank, flags, data, fold_no, log):\n",
        "    global FLAGS\n",
        "    global WRAPPED_MODEL\n",
        "    global SERIAL_EXEC\n",
        "    FLAGS = flags\n",
        "    torch.set_default_tensor_type('torch.FloatTensor')\n",
        "    train_model(data, fold_no, log)\n"
      ],
      "execution_count": 17,
      "outputs": []
    },
    {
      "cell_type": "markdown",
      "metadata": {
        "id": "WmLSHZZdS_1i",
        "colab_type": "text"
      },
      "source": [
        "## Train"
      ]
    },
    {
      "cell_type": "code",
      "metadata": {
        "id": "AHJtNpfOUdqD",
        "colab_type": "code",
        "colab": {
          "base_uri": "https://localhost:8080/",
          "height": 1000
        },
        "outputId": "ab419e3a-a0d4-4a33-f08d-6cf265344007"
      },
      "source": [
        "FLAGS = {}\n",
        "FLAGS['batch_size'] = 8\n",
        "FLAGS['num_workers'] = 8\n",
        "FLAGS['learning_rate'] = 0.25e-4\n",
        "FLAGS['num_epochs'] = 20\n",
        "FLAGS['weight_decay'] = 1e-3\n",
        "FLAGS['log_steps'] = 20 * 8\n",
        "FLAGS['img_size'] = IMG_SIZE # 224\n",
        "FLAGS['loss'] = 'focal'\n",
        "FLAGS['alpha'] = (41906 / (41906 + 3874)) #0.9153778942769768\n",
        "FLAGS['gamma'] = 1.65\n",
        "FLAGS['optimizer'] = 'AdamW'\n",
        "FLAGS['scheduler'] = 'ReduceLROnPlateau'\n",
        "FLAGS['exp_name'] = 'enet_b0'\n",
        "FLAGS['fold'] = [0] # , 1, 2, 3, 4]\n",
        "FLAGS['val_freq'] = 1\n",
        "FLAGS['num_cores'] = 8\n",
        "FLAGS['seed'] = 43\n",
        "\n",
        "model_cpu = EfficientNet('tf_efficientnet_b0_ns')\n",
        "#model.load_state_dict(torch.load(''))\n",
        "WRAPPED_MODEL = xmp.MpModelWrapper(model_cpu)\n",
        "SERIAL_EXEC = xmp.MpSerialExecutor()\n",
        "\n",
        "#y_train = pd.get_dummies(df_train[df_train['fold'] != fold_no][[col for col in df_train.columns if col == 'target']], columns=['target'])\n",
        "#y_val = pd.get_dummies(df_train[df_train['fold'] == fold_no][[col for col in df_train.columns if col == 'target']], columns=['target'])\n",
        "\n",
        "for fold_no in FLAGS['fold']:\n",
        "    X_train = df_train[df_train['fold'] != fold_no][[col for col in df_train.columns if col != 'target']]\n",
        "    X_val = df_train[df_train['fold'] == fold_no][[col for col in df_train.columns if col != 'target']]\n",
        "    y_train = df_train[df_train['fold'] != fold_no][[col for col in df_train.columns if col == 'target']]\n",
        "    y_val = df_train[df_train['fold'] == fold_no][[col for col in df_train.columns if col == 'target']]\n",
        "    data = X_train, y_train, X_val, y_val\n",
        "    xmp.spawn(\n",
        "        _mp_fn, args=(FLAGS, data, fold_no, True),\n",
        "        nprocs=FLAGS['num_cores'], start_method='fork'\n",
        "    )\n"
      ],
      "execution_count": null,
      "outputs": [
        {
          "output_type": "stream",
          "text": [
            "==========================Fold #0 started===========================\n",
            "--------------------------Epoch #1 started--------------------------\n",
            "Epoch start Wed Jul  8 17:31:53 2020\n",
            "----------------------------------------\n",
            "Step\t|\tTime\n",
            "----------------------------------------\n",
            "(160)\t|\tWed Jul  8 17:32:58 2020\n",
            "(320)\t|\tWed Jul  8 17:33:53 2020\n",
            "(480)\t|\tWed Jul  8 17:34:50 2020\n",
            "(640)\t|\tWed Jul  8 17:35:45 2020\n",
            "----------------------------------------\n",
            "finished training epoch 1\n",
            "elapsed time: 4mins 16s\n",
            "reduced loss 0.02506\n",
            "finished validating epoch 1\n"
          ],
          "name": "stdout"
        },
        {
          "output_type": "display_data",
          "data": {
            "image/png": "[encoded data removed]",
            "text/plain": [
              "<Figure size 1008x432 with 2 Axes>"
            ]
          },
          "metadata": {
            "tags": [],
            "needs_background": "light"
          }
        },
        {
          "output_type": "stream",
          "text": [
            "total error 0.6575816761363636\n",
            "reduced val loss 0.02003\n",
            "auc score 0.90865\n",
            "elapsed time: 0mins 59s\n",
            "new best score: 0.90865\n",
            "saved model...\n",
            "Epoch end Wed Jul  8 17:37:09 2020\n",
            "---------------------------Epoch #1 ended--------------------------\n",
            "--------------------------Epoch #2 started--------------------------\n",
            "Epoch start Wed Jul  8 17:37:09 2020\n",
            "----------------------------------------\n",
            "Step\t|\tTime\n",
            "----------------------------------------\n",
            "(160)\t|\tWed Jul  8 17:38:10 2020\n",
            "(320)\t|\tWed Jul  8 17:39:06 2020\n",
            "(480)\t|\tWed Jul  8 17:40:02 2020\n",
            "(640)\t|\tWed Jul  8 17:40:59 2020\n",
            "----------------------------------------\n",
            "finished training epoch 2\n",
            "elapsed time: 4mins 13s\n",
            "reduced loss 0.02288\n",
            "finished validating epoch 2\n"
          ],
          "name": "stdout"
        },
        {
          "output_type": "display_data",
          "data": {
            "image/png": "[encoded data removed]",
            "text/plain": [
              "<Figure size 1008x432 with 2 Axes>"
            ]
          },
          "metadata": {
            "tags": [],
            "needs_background": "light"
          }
        },
        {
          "output_type": "stream",
          "text": [
            "total error 0.580078125\n",
            "reduced val loss 0.01945\n",
            "auc score 0.91339\n",
            "elapsed time: 1mins 0s\n",
            "new best score: 0.91339\n",
            "saved model...\n",
            "Epoch end Wed Jul  8 17:42:23 2020\n",
            "---------------------------Epoch #2 ended--------------------------\n",
            "--------------------------Epoch #3 started--------------------------\n",
            "Epoch start Wed Jul  8 17:42:23 2020\n",
            "----------------------------------------\n",
            "Step\t|\tTime\n",
            "----------------------------------------\n",
            "(160)\t|\tWed Jul  8 17:43:23 2020\n",
            "(320)\t|\tWed Jul  8 17:44:19 2020\n",
            "(480)\t|\tWed Jul  8 17:45:15 2020\n",
            "(640)\t|\tWed Jul  8 17:46:11 2020\n",
            "----------------------------------------\n",
            "finished training epoch 3\n",
            "elapsed time: 4mins 11s\n",
            "reduced loss 0.02176\n",
            "finished validating epoch 3\n"
          ],
          "name": "stdout"
        },
        {
          "output_type": "display_data",
          "data": {
            "image/png": "[encoded data removed]",
            "text/plain": [
              "<Figure size 1008x432 with 2 Axes>"
            ]
          },
          "metadata": {
            "tags": [],
            "needs_background": "light"
          }
        },
        {
          "output_type": "stream",
          "text": [
            "total error 0.6084872159090909\n",
            "reduced val loss 0.01944\n",
            "auc score 0.91444\n",
            "elapsed time: 1mins 0s\n",
            "new best score: 0.91444\n",
            "saved model...\n",
            "Epoch end Wed Jul  8 17:47:36 2020\n",
            "---------------------------Epoch #3 ended--------------------------\n",
            "--------------------------Epoch #4 started--------------------------\n",
            "Epoch start Wed Jul  8 17:47:36 2020\n",
            "----------------------------------------\n",
            "Step\t|\tTime\n",
            "----------------------------------------\n",
            "(160)\t|\tWed Jul  8 17:48:35 2020\n",
            "(320)\t|\tWed Jul  8 17:49:32 2020\n",
            "(480)\t|\tWed Jul  8 17:50:28 2020\n",
            "(640)\t|\tWed Jul  8 17:51:24 2020\n",
            "----------------------------------------\n",
            "finished training epoch 4\n",
            "elapsed time: 4mins 12s\n",
            "reduced loss 0.02101\n",
            "finished validating epoch 4\n"
          ],
          "name": "stdout"
        },
        {
          "output_type": "display_data",
          "data": {
            "image/png": "[encoded data removed]",
            "text/plain": [
              "<Figure size 1008x432 with 2 Axes>"
            ]
          },
          "metadata": {
            "tags": [],
            "needs_background": "light"
          }
        },
        {
          "output_type": "stream",
          "text": [
            "total error 0.5962357954545454\n",
            "reduced val loss 0.02012\n",
            "auc score 0.91035\n",
            "elapsed time: 1mins 0s\n",
            "saved model...\n",
            "Epoch end Wed Jul  8 17:52:49 2020\n",
            "---------------------------Epoch #4 ended--------------------------\n",
            "--------------------------Epoch #5 started--------------------------\n",
            "Epoch start Wed Jul  8 17:52:49 2020\n",
            "----------------------------------------\n",
            "Step\t|\tTime\n",
            "----------------------------------------\n",
            "(160)\t|\tWed Jul  8 17:53:50 2020\n",
            "(320)\t|\tWed Jul  8 17:54:48 2020\n",
            "(480)\t|\tWed Jul  8 17:55:43 2020\n",
            "(640)\t|\tWed Jul  8 17:56:41 2020\n",
            "----------------------------------------\n",
            "finished training epoch 5\n",
            "elapsed time: 4mins 16s\n",
            "reduced loss 0.02056\n",
            "finished validating epoch 5\n"
          ],
          "name": "stdout"
        },
        {
          "output_type": "display_data",
          "data": {
            "image/png": "[encoded data removed]",
            "text/plain": [
              "<Figure size 1008x432 with 2 Axes>"
            ]
          },
          "metadata": {
            "tags": [],
            "needs_background": "light"
          }
        },
        {
          "output_type": "stream",
          "text": [
            "total error 0.5297407670454546\n",
            "reduced val loss 0.01998\n",
            "auc score 0.91501\n",
            "elapsed time: 1mins 0s\n",
            "new best score: 0.91501\n",
            "saved model...\n",
            "Epoch end Wed Jul  8 17:58:07 2020\n",
            "---------------------------Epoch #5 ended--------------------------\n",
            "--------------------------Epoch #6 started--------------------------\n",
            "Epoch start Wed Jul  8 17:58:07 2020\n",
            "----------------------------------------\n",
            "Step\t|\tTime\n",
            "----------------------------------------\n",
            "(160)\t|\tWed Jul  8 17:59:08 2020\n",
            "(320)\t|\tWed Jul  8 18:00:04 2020\n",
            "(480)\t|\tWed Jul  8 18:01:01 2020\n",
            "(640)\t|\tWed Jul  8 18:01:58 2020\n",
            "----------------------------------------\n",
            "finished training epoch 6\n",
            "elapsed time: 4mins 15s\n",
            "reduced loss 0.01986\n",
            "finished validating epoch 6\n"
          ],
          "name": "stdout"
        },
        {
          "output_type": "display_data",
          "data": {
            "image/png": "[encoded data removed]",
            "text/plain": [
              "<Figure size 1008x432 with 2 Axes>"
            ]
          },
          "metadata": {
            "tags": [],
            "needs_background": "light"
          }
        },
        {
          "output_type": "stream",
          "text": [
            "total error 0.5387961647727273\n",
            "reduced val loss 0.02087\n",
            "auc score 0.90886\n",
            "elapsed time: 1mins 2s\n",
            "Epoch end Wed Jul  8 18:03:24 2020\n",
            "---------------------------Epoch #6 ended--------------------------\n",
            "--------------------------Epoch #7 started--------------------------\n",
            "Epoch start Wed Jul  8 18:03:24 2020\n",
            "----------------------------------------\n",
            "Step\t|\tTime\n",
            "----------------------------------------\n",
            "(160)\t|\tWed Jul  8 18:04:21 2020\n",
            "(320)\t|\tWed Jul  8 18:05:17 2020\n",
            "(480)\t|\tWed Jul  8 18:06:15 2020\n",
            "(640)\t|\tWed Jul  8 18:07:13 2020\n",
            "----------------------------------------\n",
            "finished training epoch 7\n",
            "elapsed time: 4mins 12s\n",
            "reduced loss 0.01980\n",
            "finished validating epoch 7\n",
            "Epoch     7: reducing learning rate of group 0 to 1.0000e-04.\n",
            "Epoch     7: reducing learning rate of group 0 to 1.0000e-04.\n",
            "Epoch     7: reducing learning rate of group 0 to 1.0000e-04.\n",
            "Epoch     7: reducing learning rate of group 0 to 1.0000e-04.\n",
            "Epoch     7: reducing learning rate of group 0 to 1.0000e-04.\n",
            "Epoch     7: reducing learning rate of group 0 to 1.0000e-04.\n",
            "Epoch     7: reducing learning rate of group 0 to 1.0000e-04.\n",
            "Epoch     7: reducing learning rate of group 0 to 1.0000e-04.\n"
          ],
          "name": "stdout"
        },
        {
          "output_type": "display_data",
          "data": {
            "image/png": "[encoded data removed]",
            "text/plain": [
              "<Figure size 1008x432 with 2 Axes>"
            ]
          },
          "metadata": {
            "tags": [],
            "needs_background": "light"
          }
        },
        {
          "output_type": "stream",
          "text": [
            "total error 0.5526455965909091\n",
            "reduced val loss 0.02030\n",
            "auc score 0.91205\n",
            "elapsed time: 1mins 0s\n",
            "saved model...\n",
            "Epoch end Wed Jul  8 18:08:38 2020\n",
            "---------------------------Epoch #7 ended--------------------------\n",
            "--------------------------Epoch #8 started--------------------------\n",
            "Epoch start Wed Jul  8 18:08:38 2020\n",
            "----------------------------------------\n",
            "Step\t|\tTime\n",
            "----------------------------------------\n",
            "(160)\t|\tWed Jul  8 18:09:37 2020\n",
            "(320)\t|\tWed Jul  8 18:10:32 2020\n",
            "(480)\t|\tWed Jul  8 18:11:27 2020\n"
          ],
          "name": "stdout"
        }
      ]
    },
    {
      "cell_type": "code",
      "metadata": {
        "id": "yubnQFOfSqrj",
        "colab_type": "code",
        "colab": {}
      },
      "source": [
        "#!rm -rf ./runs/"
      ],
      "execution_count": 18,
      "outputs": []
    },
    {
      "cell_type": "code",
      "metadata": {
        "id": "zERQ5VbZUaSH",
        "colab_type": "code",
        "colab": {}
      },
      "source": [
        "%reload_ext tensorboard\n",
        "%tensorboard --logdir ./runs/"
      ],
      "execution_count": null,
      "outputs": []
    },
    {
      "cell_type": "markdown",
      "metadata": {
        "id": "B-cBWlSEn7x5",
        "colab_type": "text"
      },
      "source": [
        "## Inference"
      ]
    },
    {
      "cell_type": "code",
      "metadata": {
        "id": "3s4lDnMboKWx",
        "colab_type": "code",
        "colab": {}
      },
      "source": [
        "class MelanomaTestDataset(Dataset):\n",
        "\n",
        "    def __init__(self, df, transforms=None):\n",
        "        super().__init__()\n",
        "        self.image_id = df['image_id'].values\n",
        "        self.transforms = transforms\n",
        "\n",
        "    def __len__(self):\n",
        "        return len(self.image_id)\n",
        "\n",
        "    def __getitem__(self, index):\n",
        "        if torch.is_tensor(index):\n",
        "            index = index.tolist()\n",
        "        \n",
        "        image = self.load_image(index)\n",
        "\n",
        "        if self.transforms:\n",
        "            image = self.transforms(image=image)['image']\n",
        "\n",
        "        return image\n",
        "\n",
        "    def load_image(self, index):\n",
        "        if torch.is_tensor(index):\n",
        "            index = index.tolist()\n",
        "        image_name = DATA_DIR + f'512x512-test/512x512-test/{self.image_id[index]}.jpg'\n",
        "        #image_name = DATA_DIR + f'512x512-dataset-melanoma/512x512-dataset-melanoma/{self.image_id[index]}.jpg'\n",
        "        image = cv2.imread(image_name, cv2.IMREAD_COLOR).astype(np.uint8)\n",
        "        image = cv2.cvtColor(image, cv2.COLOR_BGR2RGB).astype(np.uint8)\n",
        "        return image\n"
      ],
      "execution_count": null,
      "outputs": []
    },
    {
      "cell_type": "code",
      "metadata": {
        "id": "_uLwlwayB4zP",
        "colab_type": "code",
        "colab": {}
      },
      "source": [
        "def run_test(model, test_images, ckpts):\n",
        "    device = 'cpu'\n",
        "    agg_predictions = []\n",
        "    for ckpt in ckpts:\n",
        "        model.load_state_dict(torch.load(ckpt))\n",
        "        model.to(device)\n",
        "        model.eval()\n",
        "        test_dataset = MelanomaTestDataset(test_images, transforms=get_valid_transforms())\n",
        "        test_data_loader = DataLoader(\n",
        "            test_dataset, batch_size=64, shuffle=False, \n",
        "            num_workers=16, pin_memory=True\n",
        "        )\n",
        "        predictions = []\n",
        "        with torch.no_grad():\n",
        "            for images in tqdm(test_data_loader, total=len(test_data_loader)):\n",
        "                images = images.to(device)\n",
        "                y_pred = torch.sigmoid(model(images.float()))\n",
        "                predictions.append(y_pred.cpu().numpy())\n",
        "        predictions = np.vstack(predictions)\n",
        "        plt.hist(predictions.T[0],bins=100)\n",
        "        plt.ylim((0,500))\n",
        "        plt.show()\n",
        "        agg_predictions.append(predictions)\n",
        "\n",
        "    avg_predictions = 0\n",
        "    for predictions in agg_predictions:\n",
        "        #avg_predictions = np.multiply(avg_predictions, predictions).astype(np.float64)\n",
        "        avg_predictions = np.add(avg_predictions, predictions).astype(np.float64)\n",
        "    #avg_predictions = np.power(avg_predictions, (1/float(len(agg_predictions))))\n",
        "    avg_predictions = np.divide(avg_predictions, float(len(agg_predictions)))\n",
        "    print('average:')\n",
        "    plt.hist(avg_predictions.T[0], bins=100)\n",
        "    plt.ylim((0,500))\n",
        "    plt.show()\n",
        "    return avg_predictions"
      ],
      "execution_count": null,
      "outputs": []
    },
    {
      "cell_type": "markdown",
      "metadata": {
        "id": "XuladISFhgzw",
        "colab_type": "text"
      },
      "source": [
        "### Infer"
      ]
    },
    {
      "cell_type": "code",
      "metadata": {
        "id": "hV1WLdTBoKot",
        "colab_type": "code",
        "colab": {}
      },
      "source": [
        "model_cpu = EfficientNet('tf_efficientnet_b0_ns')\n",
        "ckpts = [\n",
        "         '/content/enet_b0_fold_2_epoch_19_auc_0.94426.pth',\n",
        "         '/content/enet_b0_fold_2_epoch_24_auc_0.94186.pth',\n",
        "         ]\n",
        "avg_predictions = run_test(model_cpu, df_test, ckpts)"
      ],
      "execution_count": null,
      "outputs": []
    },
    {
      "cell_type": "code",
      "metadata": {
        "id": "9psAz6jId-Rn",
        "colab_type": "code",
        "colab": {}
      },
      "source": [
        "pd.Series(avg_predictions.T[0]).describe()\n",
        "\n",
        "# count    10982.000000\n",
        "# mean         0.138004\n",
        "# std          0.138120\n",
        "# min          0.009435\n",
        "# 25%          0.055362\n",
        "# 50%          0.090186\n",
        "# 75%          0.163873\n",
        "# max          0.969424\n"
      ],
      "execution_count": null,
      "outputs": []
    },
    {
      "cell_type": "code",
      "metadata": {
        "id": "A9fPfXEKg3aj",
        "colab_type": "code",
        "colab": {}
      },
      "source": [
        "pd.Series(np.where(avg_predictions>0.5,1,0).T[0]).value_counts()"
      ],
      "execution_count": null,
      "outputs": []
    },
    {
      "cell_type": "code",
      "metadata": {
        "id": "Y0XNl1Asg5OH",
        "colab_type": "code",
        "colab": {}
      },
      "source": [
        "sample_submission = pd.read_csv(DATA_DIR+'sample_submission.csv')\n",
        "sample_submission.target = avg_predictions.T[0].T\n",
        "sample_submission.to_csv('submission.csv', index=False)"
      ],
      "execution_count": null,
      "outputs": []
    },
    {
      "cell_type": "code",
      "metadata": {
        "id": "CEs45LmGhGvN",
        "colab_type": "code",
        "colab": {}
      },
      "source": [
        "pd.read_csv('submission.csv')"
      ],
      "execution_count": null,
      "outputs": []
    },
    {
      "cell_type": "markdown",
      "metadata": {
        "id": "l4IeH4dGhljb",
        "colab_type": "text"
      },
      "source": [
        "### Submit to Kaggle"
      ]
    },
    {
      "cell_type": "code",
      "metadata": {
        "id": "rNCIRc1HhI4Z",
        "colab_type": "code",
        "colab": {}
      },
      "source": [
        "!kaggle competitions submit -c siim-isic-melanoma-classification -f submission.csv -m 'EffNet_B0 focal CV0.94+ fold 1 epoch 19, 24'"
      ],
      "execution_count": null,
      "outputs": []
    },
    {
      "cell_type": "code",
      "metadata": {
        "id": "kvv-mYjXhJnT",
        "colab_type": "code",
        "colab": {}
      },
      "source": [
        "!kaggle competitions submissions siim-isic-melanoma-classification"
      ],
      "execution_count": null,
      "outputs": []
    },
    {
      "cell_type": "code",
      "metadata": {
        "id": "ss391-4dmt1q",
        "colab_type": "code",
        "colab": {}
      },
      "source": [
        ""
      ],
      "execution_count": null,
      "outputs": []
    }
  ]
}